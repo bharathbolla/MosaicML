{
  "nbformat": 4,
  "nbformat_minor": 0,
  "metadata": {
    "colab": {
      "name": "Mosaic_ML_MNIST_evaluation.ipynb",
      "provenance": [],
      "collapsed_sections": [
        "tsbQvFHGUPED",
        "63UIltGwndiR",
        "D0gxa2jS4Goe",
        "MaN4SNzNULWj",
        "Z8WviebQHyWt",
        "GtrGVQUG2EvL",
        "LTgpVHkFnvZk",
        "JbXR1-NKsS1e",
        "BoReBChtcZxC",
        "Cy63ZKBOthEF"
      ],
      "include_colab_link": true
    },
    "kernelspec": {
      "name": "python3",
      "display_name": "Python 3"
    },
    "accelerator": "GPU"
  },
  "cells": [
    {
      "cell_type": "markdown",
      "metadata": {
        "id": "view-in-github",
        "colab_type": "text"
      },
      "source": [
        "<a href=\"https://colab.research.google.com/github/sabeesh90/Advanced_Neural_Network_MosaicML/blob/main/Mosaic_ML_MNIST_evaluation.ipynb\" target=\"_parent\"><img src=\"https://colab.research.google.com/assets/colab-badge.svg\" alt=\"Open In Colab\"/></a>"
      ]
    },
    {
      "cell_type": "markdown",
      "metadata": {
        "id": "aO-7t1Y7-hV4"
      },
      "source": [
        "# Mosaic ML"
      ]
    },
    {
      "cell_type": "code",
      "metadata": {
        "id": "GZaAFdsdIZ36",
        "colab": {
          "base_uri": "https://localhost:8080/",
          "height": 1000
        },
        "outputId": "8eb7f8a7-f420-4b06-919c-6f4041f81344"
      },
      "source": [
        "!pip install mosaicml\n",
        "!pip uninstall pillow\n",
        "!pip install pillow-simd\n",
        "\n",
        "!pip install torchcontrib"
      ],
      "execution_count": null,
      "outputs": [
        {
          "output_type": "stream",
          "name": "stdout",
          "text": [
            "Collecting mosaicml\n",
            "  Downloading mosaicml-0.3.1-py3-none-any.whl (250 kB)\n",
            "\u001b[?25l\r\u001b[K     |█▎                              | 10 kB 31.8 MB/s eta 0:00:01\r\u001b[K     |██▋                             | 20 kB 34.8 MB/s eta 0:00:01\r\u001b[K     |████                            | 30 kB 24.2 MB/s eta 0:00:01\r\u001b[K     |█████▎                          | 40 kB 18.5 MB/s eta 0:00:01\r\u001b[K     |██████▌                         | 51 kB 8.1 MB/s eta 0:00:01\r\u001b[K     |███████▉                        | 61 kB 8.7 MB/s eta 0:00:01\r\u001b[K     |█████████▏                      | 71 kB 7.6 MB/s eta 0:00:01\r\u001b[K     |██████████▌                     | 81 kB 8.5 MB/s eta 0:00:01\r\u001b[K     |███████████▊                    | 92 kB 8.6 MB/s eta 0:00:01\r\u001b[K     |█████████████                   | 102 kB 7.8 MB/s eta 0:00:01\r\u001b[K     |██████████████▍                 | 112 kB 7.8 MB/s eta 0:00:01\r\u001b[K     |███████████████▊                | 122 kB 7.8 MB/s eta 0:00:01\r\u001b[K     |█████████████████               | 133 kB 7.8 MB/s eta 0:00:01\r\u001b[K     |██████████████████▎             | 143 kB 7.8 MB/s eta 0:00:01\r\u001b[K     |███████████████████▋            | 153 kB 7.8 MB/s eta 0:00:01\r\u001b[K     |█████████████████████           | 163 kB 7.8 MB/s eta 0:00:01\r\u001b[K     |██████████████████████▏         | 174 kB 7.8 MB/s eta 0:00:01\r\u001b[K     |███████████████████████▌        | 184 kB 7.8 MB/s eta 0:00:01\r\u001b[K     |████████████████████████▉       | 194 kB 7.8 MB/s eta 0:00:01\r\u001b[K     |██████████████████████████▏     | 204 kB 7.8 MB/s eta 0:00:01\r\u001b[K     |███████████████████████████▌    | 215 kB 7.8 MB/s eta 0:00:01\r\u001b[K     |████████████████████████████▊   | 225 kB 7.8 MB/s eta 0:00:01\r\u001b[K     |██████████████████████████████  | 235 kB 7.8 MB/s eta 0:00:01\r\u001b[K     |███████████████████████████████▍| 245 kB 7.8 MB/s eta 0:00:01\r\u001b[K     |████████████████████████████████| 250 kB 7.8 MB/s \n",
            "\u001b[?25hRequirement already satisfied: torchvision>=0.9.0 in /usr/local/lib/python3.7/dist-packages (from mosaicml) (0.11.1+cu111)\n",
            "Requirement already satisfied: torch>=1.9 in /usr/local/lib/python3.7/dist-packages (from mosaicml) (1.10.0+cu111)\n",
            "Collecting argparse>=1.4.0\n",
            "  Downloading argparse-1.4.0-py2.py3-none-any.whl (23 kB)\n",
            "Collecting torch-optimizer==0.1.0\n",
            "  Downloading torch_optimizer-0.1.0-py3-none-any.whl (72 kB)\n",
            "\u001b[K     |████████████████████████████████| 72 kB 1.3 MB/s \n",
            "\u001b[?25hCollecting pyyaml>=5.4.1\n",
            "  Downloading PyYAML-6.0-cp37-cp37m-manylinux_2_5_x86_64.manylinux1_x86_64.manylinux_2_12_x86_64.manylinux2010_x86_64.whl (596 kB)\n",
            "\u001b[K     |████████████████████████████████| 596 kB 57.9 MB/s \n",
            "\u001b[?25hCollecting torchmetrics>=0.5.1\n",
            "  Downloading torchmetrics-0.6.2-py3-none-any.whl (332 kB)\n",
            "\u001b[K     |████████████████████████████████| 332 kB 59.1 MB/s \n",
            "\u001b[?25hCollecting yahp>=0.0.13\n",
            "  Downloading yahp-0.0.14-py3-none-any.whl (33 kB)\n",
            "Requirement already satisfied: tqdm>=4.62.3 in /usr/local/lib/python3.7/dist-packages (from mosaicml) (4.62.3)\n",
            "Collecting pytorch-ranger>=0.1.1\n",
            "  Downloading pytorch_ranger-0.1.1-py3-none-any.whl (14 kB)\n",
            "Requirement already satisfied: typing-extensions in /usr/local/lib/python3.7/dist-packages (from torch>=1.9->mosaicml) (3.10.0.2)\n",
            "Requirement already satisfied: packaging in /usr/local/lib/python3.7/dist-packages (from torchmetrics>=0.5.1->mosaicml) (21.3)\n",
            "Requirement already satisfied: numpy>=1.17.2 in /usr/local/lib/python3.7/dist-packages (from torchmetrics>=0.5.1->mosaicml) (1.19.5)\n",
            "Requirement already satisfied: pillow!=8.3.0,>=5.3.0 in /usr/local/lib/python3.7/dist-packages (from torchvision>=0.9.0->mosaicml) (7.1.2)\n",
            "Collecting ruamel.yaml>=0.17.10\n",
            "  Downloading ruamel.yaml-0.17.17-py3-none-any.whl (109 kB)\n",
            "\u001b[K     |████████████████████████████████| 109 kB 67.7 MB/s \n",
            "\u001b[?25hCollecting ruamel.yaml.clib>=0.1.2\n",
            "  Downloading ruamel.yaml.clib-0.2.6-cp37-cp37m-manylinux1_x86_64.whl (546 kB)\n",
            "\u001b[K     |████████████████████████████████| 546 kB 53.3 MB/s \n",
            "\u001b[?25hRequirement already satisfied: pyparsing!=3.0.5,>=2.0.2 in /usr/local/lib/python3.7/dist-packages (from packaging->torchmetrics>=0.5.1->mosaicml) (3.0.6)\n",
            "Installing collected packages: ruamel.yaml.clib, ruamel.yaml, pyyaml, pytorch-ranger, yahp, torchmetrics, torch-optimizer, argparse, mosaicml\n",
            "  Attempting uninstall: pyyaml\n",
            "    Found existing installation: PyYAML 3.13\n",
            "    Uninstalling PyYAML-3.13:\n",
            "      Successfully uninstalled PyYAML-3.13\n",
            "Successfully installed argparse-1.4.0 mosaicml-0.3.1 pytorch-ranger-0.1.1 pyyaml-6.0 ruamel.yaml-0.17.17 ruamel.yaml.clib-0.2.6 torch-optimizer-0.1.0 torchmetrics-0.6.2 yahp-0.0.14\n"
          ]
        },
        {
          "output_type": "display_data",
          "data": {
            "application/vnd.colab-display-data+json": {
              "pip_warning": {
                "packages": [
                  "argparse"
                ]
              }
            }
          },
          "metadata": {}
        },
        {
          "output_type": "stream",
          "name": "stdout",
          "text": [
            "Found existing installation: Pillow 7.1.2\n",
            "Uninstalling Pillow-7.1.2:\n",
            "  Would remove:\n",
            "    /usr/local/lib/python3.7/dist-packages/PIL/*\n",
            "    /usr/local/lib/python3.7/dist-packages/Pillow-7.1.2.dist-info/*\n",
            "    /usr/local/lib/python3.7/dist-packages/Pillow.libs/libfreetype-69f25d5e.so.6.17.1\n",
            "    /usr/local/lib/python3.7/dist-packages/Pillow.libs/libjpeg-ba7bf5af.so.9.4.0\n",
            "    /usr/local/lib/python3.7/dist-packages/Pillow.libs/liblcms2-a6801db4.so.2.0.8\n",
            "    /usr/local/lib/python3.7/dist-packages/Pillow.libs/liblzma-99449165.so.5.2.5\n",
            "    /usr/local/lib/python3.7/dist-packages/Pillow.libs/libopenjp2-b3d7668a.so.2.3.1\n",
            "    /usr/local/lib/python3.7/dist-packages/Pillow.libs/libpng16-bedcb7ea.so.16.37.0\n",
            "    /usr/local/lib/python3.7/dist-packages/Pillow.libs/libtiff-41910f6d.so.5.5.0\n",
            "    /usr/local/lib/python3.7/dist-packages/Pillow.libs/libwebp-122bd20b.so.7.1.0\n",
            "    /usr/local/lib/python3.7/dist-packages/Pillow.libs/libwebpdemux-2db559e5.so.2.0.6\n",
            "    /usr/local/lib/python3.7/dist-packages/Pillow.libs/libwebpmux-ec1d5c76.so.3.0.5\n",
            "    /usr/local/lib/python3.7/dist-packages/Pillow.libs/libz-a147dcb0.so.1.2.3\n",
            "Proceed (y/n)? \u001b[31m  ERROR: Operation cancelled by user\u001b[0m\n",
            "Collecting pillow-simd\n",
            "  Downloading Pillow-SIMD-7.0.0.post3.tar.gz (630 kB)\n",
            "\u001b[K     |████████████████████████████████| 630 kB 6.9 MB/s \n",
            "\u001b[?25hBuilding wheels for collected packages: pillow-simd\n",
            "  Building wheel for pillow-simd (setup.py) ... \u001b[?25l\u001b[?25hdone\n",
            "  Created wheel for pillow-simd: filename=Pillow_SIMD-7.0.0.post3-cp37-cp37m-linux_x86_64.whl size=1206465 sha256=c27a4c5060eaaf629ff808894c50fa76bb9a8ce3ee7c1d318dbf583e0ffb432e\n",
            "  Stored in directory: /root/.cache/pip/wheels/28/97/cd/ea4d241571912e0841b62d72696f5457acf8f5dcd76ba6856e\n",
            "Successfully built pillow-simd\n",
            "Installing collected packages: pillow-simd\n",
            "Successfully installed pillow-simd-7.0.0.post3\n"
          ]
        },
        {
          "output_type": "display_data",
          "data": {
            "application/vnd.colab-display-data+json": {
              "pip_warning": {
                "packages": [
                  "PIL"
                ]
              }
            }
          },
          "metadata": {}
        },
        {
          "output_type": "stream",
          "name": "stdout",
          "text": [
            "Collecting torchcontrib\n",
            "  Downloading torchcontrib-0.0.2.tar.gz (11 kB)\n",
            "Building wheels for collected packages: torchcontrib\n",
            "  Building wheel for torchcontrib (setup.py) ... \u001b[?25l\u001b[?25hdone\n",
            "  Created wheel for torchcontrib: filename=torchcontrib-0.0.2-py3-none-any.whl size=7532 sha256=a6e18a73263cea993fdddf7fc42afa406c5932c1cb23bb0af469d55361c54c46\n",
            "  Stored in directory: /root/.cache/pip/wheels/91/58/d0/f03811c3e34e1f14031294b5f30d8693689972af874d1225b8\n",
            "Successfully built torchcontrib\n",
            "Installing collected packages: torchcontrib\n",
            "Successfully installed torchcontrib-0.0.2\n"
          ]
        }
      ]
    },
    {
      "cell_type": "code",
      "metadata": {
        "id": "iyvVBtah0ZsX",
        "colab": {
          "base_uri": "https://localhost:8080/",
          "height": 358
        },
        "outputId": "43f45c1d-7f94-4ec3-ed39-907b2b58aa85"
      },
      "source": [
        "from google.colab import drive\n",
        "drive.mount('/content/drive')\n",
        "%cd drive/MyDrive/Colab Notebooks/"
      ],
      "execution_count": null,
      "outputs": [
        {
          "output_type": "error",
          "ename": "MessageError",
          "evalue": "ignored",
          "traceback": [
            "\u001b[0;31m---------------------------------------------------------------------------\u001b[0m",
            "\u001b[0;31mMessageError\u001b[0m                              Traceback (most recent call last)",
            "\u001b[0;32m<ipython-input-2-333b9b643334>\u001b[0m in \u001b[0;36m<module>\u001b[0;34m()\u001b[0m\n\u001b[1;32m      1\u001b[0m \u001b[0;32mfrom\u001b[0m \u001b[0mgoogle\u001b[0m\u001b[0;34m.\u001b[0m\u001b[0mcolab\u001b[0m \u001b[0;32mimport\u001b[0m \u001b[0mdrive\u001b[0m\u001b[0;34m\u001b[0m\u001b[0;34m\u001b[0m\u001b[0m\n\u001b[0;32m----> 2\u001b[0;31m \u001b[0mdrive\u001b[0m\u001b[0;34m.\u001b[0m\u001b[0mmount\u001b[0m\u001b[0;34m(\u001b[0m\u001b[0;34m'/content/drive'\u001b[0m\u001b[0;34m)\u001b[0m\u001b[0;34m\u001b[0m\u001b[0;34m\u001b[0m\u001b[0m\n\u001b[0m\u001b[1;32m      3\u001b[0m \u001b[0mget_ipython\u001b[0m\u001b[0;34m(\u001b[0m\u001b[0;34m)\u001b[0m\u001b[0;34m.\u001b[0m\u001b[0mmagic\u001b[0m\u001b[0;34m(\u001b[0m\u001b[0;34m'cd drive/MyDrive/Colab Notebooks/'\u001b[0m\u001b[0;34m)\u001b[0m\u001b[0;34m\u001b[0m\u001b[0;34m\u001b[0m\u001b[0m\n",
            "\u001b[0;32m/usr/local/lib/python3.7/dist-packages/google/colab/drive.py\u001b[0m in \u001b[0;36mmount\u001b[0;34m(mountpoint, force_remount, timeout_ms, use_metadata_server)\u001b[0m\n\u001b[1;32m    111\u001b[0m       \u001b[0mtimeout_ms\u001b[0m\u001b[0;34m=\u001b[0m\u001b[0mtimeout_ms\u001b[0m\u001b[0;34m,\u001b[0m\u001b[0;34m\u001b[0m\u001b[0;34m\u001b[0m\u001b[0m\n\u001b[1;32m    112\u001b[0m       \u001b[0muse_metadata_server\u001b[0m\u001b[0;34m=\u001b[0m\u001b[0muse_metadata_server\u001b[0m\u001b[0;34m,\u001b[0m\u001b[0;34m\u001b[0m\u001b[0;34m\u001b[0m\u001b[0m\n\u001b[0;32m--> 113\u001b[0;31m       ephemeral=ephemeral)\n\u001b[0m\u001b[1;32m    114\u001b[0m \u001b[0;34m\u001b[0m\u001b[0m\n\u001b[1;32m    115\u001b[0m \u001b[0;34m\u001b[0m\u001b[0m\n",
            "\u001b[0;32m/usr/local/lib/python3.7/dist-packages/google/colab/drive.py\u001b[0m in \u001b[0;36m_mount\u001b[0;34m(mountpoint, force_remount, timeout_ms, use_metadata_server, ephemeral)\u001b[0m\n\u001b[1;32m    134\u001b[0m   \u001b[0;32mif\u001b[0m \u001b[0mephemeral\u001b[0m\u001b[0;34m:\u001b[0m\u001b[0;34m\u001b[0m\u001b[0;34m\u001b[0m\u001b[0m\n\u001b[1;32m    135\u001b[0m     _message.blocking_request(\n\u001b[0;32m--> 136\u001b[0;31m         'request_auth', request={'authType': 'dfs_ephemeral'}, timeout_sec=None)\n\u001b[0m\u001b[1;32m    137\u001b[0m \u001b[0;34m\u001b[0m\u001b[0m\n\u001b[1;32m    138\u001b[0m   \u001b[0mmountpoint\u001b[0m \u001b[0;34m=\u001b[0m \u001b[0m_os\u001b[0m\u001b[0;34m.\u001b[0m\u001b[0mpath\u001b[0m\u001b[0;34m.\u001b[0m\u001b[0mexpanduser\u001b[0m\u001b[0;34m(\u001b[0m\u001b[0mmountpoint\u001b[0m\u001b[0;34m)\u001b[0m\u001b[0;34m\u001b[0m\u001b[0;34m\u001b[0m\u001b[0m\n",
            "\u001b[0;32m/usr/local/lib/python3.7/dist-packages/google/colab/_message.py\u001b[0m in \u001b[0;36mblocking_request\u001b[0;34m(request_type, request, timeout_sec, parent)\u001b[0m\n\u001b[1;32m    173\u001b[0m   request_id = send_request(\n\u001b[1;32m    174\u001b[0m       request_type, request, parent=parent, expect_reply=True)\n\u001b[0;32m--> 175\u001b[0;31m   \u001b[0;32mreturn\u001b[0m \u001b[0mread_reply_from_input\u001b[0m\u001b[0;34m(\u001b[0m\u001b[0mrequest_id\u001b[0m\u001b[0;34m,\u001b[0m \u001b[0mtimeout_sec\u001b[0m\u001b[0;34m)\u001b[0m\u001b[0;34m\u001b[0m\u001b[0;34m\u001b[0m\u001b[0m\n\u001b[0m",
            "\u001b[0;32m/usr/local/lib/python3.7/dist-packages/google/colab/_message.py\u001b[0m in \u001b[0;36mread_reply_from_input\u001b[0;34m(message_id, timeout_sec)\u001b[0m\n\u001b[1;32m    104\u001b[0m         reply.get('colab_msg_id') == message_id):\n\u001b[1;32m    105\u001b[0m       \u001b[0;32mif\u001b[0m \u001b[0;34m'error'\u001b[0m \u001b[0;32min\u001b[0m \u001b[0mreply\u001b[0m\u001b[0;34m:\u001b[0m\u001b[0;34m\u001b[0m\u001b[0;34m\u001b[0m\u001b[0m\n\u001b[0;32m--> 106\u001b[0;31m         \u001b[0;32mraise\u001b[0m \u001b[0mMessageError\u001b[0m\u001b[0;34m(\u001b[0m\u001b[0mreply\u001b[0m\u001b[0;34m[\u001b[0m\u001b[0;34m'error'\u001b[0m\u001b[0;34m]\u001b[0m\u001b[0;34m)\u001b[0m\u001b[0;34m\u001b[0m\u001b[0;34m\u001b[0m\u001b[0m\n\u001b[0m\u001b[1;32m    107\u001b[0m       \u001b[0;32mreturn\u001b[0m \u001b[0mreply\u001b[0m\u001b[0;34m.\u001b[0m\u001b[0mget\u001b[0m\u001b[0;34m(\u001b[0m\u001b[0;34m'data'\u001b[0m\u001b[0;34m,\u001b[0m \u001b[0;32mNone\u001b[0m\u001b[0;34m)\u001b[0m\u001b[0;34m\u001b[0m\u001b[0;34m\u001b[0m\u001b[0m\n\u001b[1;32m    108\u001b[0m \u001b[0;34m\u001b[0m\u001b[0m\n",
            "\u001b[0;31mMessageError\u001b[0m: Error: credential propagation was unsuccessful"
          ]
        }
      ]
    },
    {
      "cell_type": "code",
      "metadata": {
        "id": "Xs2b5EI_5E8I",
        "colab": {
          "base_uri": "https://localhost:8080/",
          "height": 389
        },
        "outputId": "88d83830-1e1f-48f9-8f63-85a6185bfc93"
      },
      "source": [
        "import torch\n",
        "import torch.nn as nn\n",
        "\n",
        "import torch.nn.functional as F\n",
        "import torch.optim as optim\n",
        "\n",
        "import matplotlib.pyplot as plt\n",
        "\n",
        "import seaborn as sns\n",
        "from torch.optim.lr_scheduler import StepLR\n",
        "from tqdm import tqdm\n",
        "from torchsummary import summary\n",
        "from torchvision import datasets, transforms\n",
        "import time\n",
        "\n",
        "from torchcontrib.optim import SWA\n",
        "\n",
        "# import composer\n",
        "# from composer import DataloaderSpec\n",
        "# from torchvision import datasets, transforms\n",
        "# from composer import Trainer\n",
        "# from composer.algorithms import LabelSmoothing, CutOut, BlurPool, scale_schedule, SWA,SAM, MixUp, SqueezeExcite,ScaleSchedule \n"
      ],
      "execution_count": null,
      "outputs": [
        {
          "output_type": "error",
          "ename": "ModuleNotFoundError",
          "evalue": "ignored",
          "traceback": [
            "\u001b[0;31m---------------------------------------------------------------------------\u001b[0m",
            "\u001b[0;31mModuleNotFoundError\u001b[0m                       Traceback (most recent call last)",
            "\u001b[0;32m<ipython-input-1-75642afe6e56>\u001b[0m in \u001b[0;36m<module>\u001b[0;34m()\u001b[0m\n\u001b[1;32m     14\u001b[0m \u001b[0;32mimport\u001b[0m \u001b[0mtime\u001b[0m\u001b[0;34m\u001b[0m\u001b[0;34m\u001b[0m\u001b[0m\n\u001b[1;32m     15\u001b[0m \u001b[0;34m\u001b[0m\u001b[0m\n\u001b[0;32m---> 16\u001b[0;31m \u001b[0;32mfrom\u001b[0m \u001b[0mtorchcontrib\u001b[0m\u001b[0;34m.\u001b[0m\u001b[0moptim\u001b[0m \u001b[0;32mimport\u001b[0m \u001b[0mSWA\u001b[0m\u001b[0;34m\u001b[0m\u001b[0;34m\u001b[0m\u001b[0m\n\u001b[0m\u001b[1;32m     17\u001b[0m \u001b[0;34m\u001b[0m\u001b[0m\n\u001b[1;32m     18\u001b[0m \u001b[0;31m# import composer\u001b[0m\u001b[0;34m\u001b[0m\u001b[0;34m\u001b[0m\u001b[0;34m\u001b[0m\u001b[0m\n",
            "\u001b[0;31mModuleNotFoundError\u001b[0m: No module named 'torchcontrib'",
            "",
            "\u001b[0;31m---------------------------------------------------------------------------\u001b[0;32m\nNOTE: If your import is failing due to a missing package, you can\nmanually install dependencies using either !pip or !apt.\n\nTo view examples of installing some common dependencies, click the\n\"Open Examples\" button below.\n\u001b[0;31m---------------------------------------------------------------------------\u001b[0m\n"
          ],
          "errorDetails": {
            "actions": [
              {
                "action": "open_url",
                "actionText": "Open Examples",
                "url": "/notebooks/snippets/importing_libraries.ipynb"
              }
            ]
          }
        }
      ]
    },
    {
      "cell_type": "code",
      "metadata": {
        "id": "EhbVgl0OZCqT"
      },
      "source": [
        "# trainer = Trainer(\n",
        "#     model=m,\n",
        "#     train_dataloader_spec=train_dataloader_spec,\n",
        "#     eval_dataloader_spec=eval_dataloader_spec,\n",
        "#     max_epochs=70,\n",
        "#     train_batch_size=128,\n",
        "#     eval_batch_size=128,\n",
        "#     checkpoint_interval_unit=\"ep\",\n",
        "#     checkpoint_folder=\"squeeze_checkpoints\",\n",
        "#     checkpoint_interval=1,\n",
        "#     # device =  'DeviceGPU',\n",
        "#     # device ='cuda',\n",
        "#     algorithms=[\n",
        "#         SqueezeExcite(),\n",
        "#         ScaleSchedule(2)\n",
        "#     ],\n",
        "# )"
      ],
      "execution_count": null,
      "outputs": []
    },
    {
      "cell_type": "markdown",
      "metadata": {
        "id": "vS1Z3qEl13eZ"
      },
      "source": [
        "#### NORMAL MODEL"
      ]
    },
    {
      "cell_type": "code",
      "metadata": {
        "id": "5U6Fotz712sy"
      },
      "source": [
        "dropout_value = 0.05\n",
        "class BaseNet(nn.Module):\n",
        "    def __init__(self):\n",
        "        super(BaseNet, self).__init__()\n",
        "    #####################################################################################################\n",
        "        # Input Block\n",
        "        self.convblock1 = nn.Sequential(\n",
        "            nn.Conv2d(in_channels=1, out_channels=8, kernel_size=(3, 3), padding=0, bias=False), \n",
        "            nn.ReLU(),\n",
        "            nn.BatchNorm2d(8),\n",
        "        ) # input size = 28 output_size = 26, in channels  = 1 out channels = 8\n",
        "\n",
        "        # CONVOLUTION BLOCK 1\n",
        "        self.convblock2 = nn.Sequential(\n",
        "            nn.Conv2d(in_channels=8, out_channels=16, kernel_size=(3, 3), padding=0, bias=False),\n",
        "            nn.ReLU(),\n",
        "            nn.BatchNorm2d(16),            \n",
        "        ) # input_size = 26 , output_size = 24, 16 to 16 channels\n",
        "\n",
        "        self.dropout1  = nn.Sequential(nn.Dropout(0.05))\n",
        "    #####################################################################################################\n",
        "        self.pool1 = nn.MaxPool2d(2, 2) # input sizez = 24, output_size = 12\n",
        "    #####################################################################################################\n",
        "\n",
        "        # CONVOLUTION BLOCK 2\n",
        "        self.convblock3 = nn.Sequential(\n",
        "            nn.Conv2d(in_channels=16, out_channels=32, kernel_size=(3, 3), padding=0, bias=False),\n",
        "            nn.ReLU(),            \n",
        "            nn.BatchNorm2d(32),\n",
        "            # nn.Dropout(dropout_value)\n",
        "        ) # input size = 12, output_size = 10\n",
        "        self.convblock4 = nn.Sequential(\n",
        "            nn.Conv2d(in_channels=32, out_channels=64, kernel_size=(3, 3), padding=0, bias=False),\n",
        "            nn.ReLU(),            \n",
        "            nn.BatchNorm2d(64),\n",
        "            # nn.Dropout(dropout_value)\n",
        "        ) # input size = 10, output_size = 8\n",
        "        self.dropout2  = nn.Sequential(nn.Dropout(0.17))\n",
        "    #####################################################################################################\n",
        "        self.pool2 = nn.MaxPool2d(2, 2) # input sizez = 8, output_size = 4\n",
        "    #####################################################################################################\n",
        "\n",
        "        # self.convblock5 = nn.Sequential(\n",
        "        #     nn.Conv2d(in_channels=64, out_channels=128, kernel_size=(3, 3), padding=1, bias=False),\n",
        "        #     nn.ReLU(),            \n",
        "        #     nn.BatchNorm2d(128),\n",
        "        #     # nn.Dropout(dropout_value)\n",
        "        # ) # input size  = 4,  output_size = 4\n",
        "        # self.dropout3  = nn.Sequential(nn.Dropout(0.17))\n",
        "    #####################################################################################################        \n",
        "        # OUTPUT BLOCK\n",
        "        self.gap = nn.Sequential(\n",
        "            nn.AvgPool2d(kernel_size=4)\n",
        "        ) # output_size = 1 channels  = 16\n",
        "\n",
        "        self.classifier = nn.Sequential(\n",
        "            nn.Conv2d(in_channels=64, out_channels=10, kernel_size=(1, 1), padding=0, bias=False),\n",
        "        ) \n",
        "\n",
        "    def forward(self, x):\n",
        "        # first conv block - teacher\n",
        "        x = self.convblock1(x)\n",
        "        x = self.convblock2(x)\n",
        "        x  = self.dropout1(x)\n",
        "        x = self.pool1(x)\n",
        "\n",
        "        # transition block\n",
        "        x = self.convblock3(x)\n",
        "        x = self.convblock4(x)\n",
        "        x  = self.dropout2(x)\n",
        "        x = self.pool2(x)\n",
        "\n",
        "         # global average pooling layer\n",
        "        x = self.gap(x) \n",
        "        # classification        \n",
        "        x = self.classifier(x)\n",
        "        x = x.view(-1, 10)\n",
        "        return F.log_softmax(x, dim=-1)"
      ],
      "execution_count": null,
      "outputs": []
    },
    {
      "cell_type": "code",
      "metadata": {
        "colab": {
          "base_uri": "https://localhost:8080/"
        },
        "id": "LjFMaq-9BJFL",
        "outputId": "825643f3-b64b-4236-ae71-7b2b613332cc"
      },
      "source": [
        "basenet = BaseNet().to('cuda')\n",
        "summary(basenet, input_size = (1,28,28))"
      ],
      "execution_count": null,
      "outputs": [
        {
          "output_type": "stream",
          "name": "stdout",
          "text": [
            "----------------------------------------------------------------\n",
            "        Layer (type)               Output Shape         Param #\n",
            "================================================================\n",
            "            Conv2d-1            [-1, 8, 26, 26]              72\n",
            "              ReLU-2            [-1, 8, 26, 26]               0\n",
            "       BatchNorm2d-3            [-1, 8, 26, 26]              16\n",
            "            Conv2d-4           [-1, 16, 24, 24]           1,152\n",
            "              ReLU-5           [-1, 16, 24, 24]               0\n",
            "       BatchNorm2d-6           [-1, 16, 24, 24]              32\n",
            "           Dropout-7           [-1, 16, 24, 24]               0\n",
            "         MaxPool2d-8           [-1, 16, 12, 12]               0\n",
            "            Conv2d-9           [-1, 32, 10, 10]           4,608\n",
            "             ReLU-10           [-1, 32, 10, 10]               0\n",
            "      BatchNorm2d-11           [-1, 32, 10, 10]              64\n",
            "           Conv2d-12             [-1, 64, 8, 8]          18,432\n",
            "             ReLU-13             [-1, 64, 8, 8]               0\n",
            "      BatchNorm2d-14             [-1, 64, 8, 8]             128\n",
            "          Dropout-15             [-1, 64, 8, 8]               0\n",
            "        MaxPool2d-16             [-1, 64, 4, 4]               0\n",
            "        AvgPool2d-17             [-1, 64, 1, 1]               0\n",
            "           Conv2d-18             [-1, 10, 1, 1]             640\n",
            "================================================================\n",
            "Total params: 25,144\n",
            "Trainable params: 25,144\n",
            "Non-trainable params: 0\n",
            "----------------------------------------------------------------\n",
            "Input size (MB): 0.00\n",
            "Forward/backward pass size (MB): 0.63\n",
            "Params size (MB): 0.10\n",
            "Estimated Total Size (MB): 0.73\n",
            "----------------------------------------------------------------\n"
          ]
        }
      ]
    },
    {
      "cell_type": "markdown",
      "metadata": {
        "id": "tsbQvFHGUPED"
      },
      "source": [
        "#### BASEMODEL  - 7K PARAMETERS"
      ]
    },
    {
      "cell_type": "code",
      "metadata": {
        "id": "3AbhnVWQ4wBJ"
      },
      "source": [
        "dropout_value = 0.05\n",
        "class Net(nn.Module):\n",
        "    def __init__(self):\n",
        "        super(Net, self).__init__()\n",
        "    #####################################################################################################\n",
        "        # Input Block\n",
        "        self.convblock1 = nn.Sequential(\n",
        "            nn.Conv2d(in_channels=1, out_channels=8, kernel_size=(3, 3), padding=0, bias=False), \n",
        "            nn.ReLU(),\n",
        "            nn.BatchNorm2d(8),\n",
        "        ) # input size = 28 output_size = 26, in channels  = 1 out channels = 16\n",
        "\n",
        "        # CONVOLUTION BLOCK 1\n",
        "        self.convblock2 = nn.Sequential(\n",
        "            nn.Conv2d(in_channels=8, out_channels=12, kernel_size=(3, 3), padding=0, bias=False),\n",
        "            nn.ReLU(),\n",
        "            nn.BatchNorm2d(12),            \n",
        "        ) # input_size = 26 , output_size = 24, 16 to 32 channels\n",
        "\n",
        "        self.dropout1  = nn.Sequential(nn.Dropout(0.05))\n",
        "    #####################################################################################################\n",
        "\n",
        "        # TRANSITION BLOCK 1\n",
        "        self.convblock3 = nn.Sequential(\n",
        "            nn.Conv2d(in_channels=12, out_channels=8, kernel_size=(1, 1), padding=0, bias=False),\n",
        "        ) # input size  = 24, output_size = 24\n",
        "        self.pool1 = nn.MaxPool2d(2, 2) # input sizez = 24, output_size = 12\n",
        "    #####################################################################################################\n",
        "\n",
        "        # CONVOLUTION BLOCK 2\n",
        "        self.convblock4 = nn.Sequential(\n",
        "            nn.Conv2d(in_channels=8, out_channels=12, kernel_size=(3, 3), padding=0, bias=False),\n",
        "            nn.ReLU(),            \n",
        "            nn.BatchNorm2d(12),\n",
        "            # nn.Dropout(dropout_value)\n",
        "        ) # input size = 12, output_size = 10\n",
        "        self.convblock5 = nn.Sequential(\n",
        "            nn.Conv2d(in_channels=12, out_channels=16, kernel_size=(3, 3), padding=0, bias=False),\n",
        "            nn.ReLU(),            \n",
        "            nn.BatchNorm2d(16),\n",
        "            # nn.Dropout(dropout_value)\n",
        "        ) # input size = 10, output_size = 8\n",
        "        self.dropout2  = nn.Sequential(nn.Dropout(0.17))\n",
        "    #####################################################################################################\n",
        "\n",
        "        # adding a 1x1 kernel  block here to reduce paramters\n",
        "        self.convblock5a = nn.Sequential(\n",
        "            nn.Conv2d(in_channels=16, out_channels=12, kernel_size=(1, 1), padding=0, bias=False),\n",
        "        ) # input size  = 8, output_size = 8\n",
        "        self.pool2 = nn.MaxPool2d(2, 2) # input sizez = 8, output_size = 4\n",
        "    #####################################################################################################\n",
        "\n",
        "        self.convblock6 = nn.Sequential(\n",
        "            nn.Conv2d(in_channels=12, out_channels=15, kernel_size=(3, 3), padding=1, bias=False),\n",
        "            nn.ReLU(),            \n",
        "            nn.BatchNorm2d(15),\n",
        "            # nn.Dropout(dropout_value)\n",
        "        ) # input size  = 4,  output_size = 4\n",
        "        self.dropout3  = nn.Sequential(nn.Dropout(0.17))\n",
        "        self.convblock7 = nn.Sequential(\n",
        "            nn.Conv2d(in_channels=15, out_channels=15, kernel_size=(3, 3), padding=1, bias=False),\n",
        "            nn.ReLU(),            \n",
        "            nn.BatchNorm2d(15),\n",
        "            # nn.Dropout(0.03)\n",
        "        ) # input size  = 4, output_size = 4\n",
        "    #####################################################################################################        \n",
        "        # OUTPUT BLOCK\n",
        "        self.gap = nn.Sequential(\n",
        "            nn.AvgPool2d(kernel_size=4)\n",
        "        ) # output_size = 1 channels  = 16\n",
        "\n",
        "        self.convblock8 = nn.Sequential(\n",
        "            nn.Conv2d(in_channels=15, out_channels=10, kernel_size=(1, 1), padding=0, bias=False),\n",
        "        ) \n",
        "\n",
        "    def forward(self, x):\n",
        "        # first conv block - teacher\n",
        "        x = self.convblock1(x)\n",
        "        x = self.convblock2(x)\n",
        "        x  = self.dropout1(x)\n",
        "\n",
        "        # transition block\n",
        "        x = self.convblock3(x)\n",
        "        x = self.pool1(x)\n",
        "\n",
        "        # second conv block\n",
        "        x = self.convblock4(x)\n",
        "        x = self.convblock5(x)\n",
        "        x  = self.dropout2(x)\n",
        "\n",
        "        # secocnd transition block\n",
        "        x = self.convblock5a(x)\n",
        "        x = self.pool2(x)        \n",
        "\n",
        "        # third conv block\n",
        "        x = self.convblock6(x)\n",
        "        x = self.dropout3(x)\n",
        "        x = self.convblock7(x)\n",
        "\n",
        "        # global average pooling layer\n",
        "        x = self.gap(x) \n",
        "\n",
        "        # classification\n",
        "        \n",
        "        x = self.convblock8(x)\n",
        "        x = x.view(-1, 10)\n",
        "        return F.log_softmax(x, dim=-1)"
      ],
      "execution_count": null,
      "outputs": []
    },
    {
      "cell_type": "markdown",
      "metadata": {
        "id": "63UIltGwndiR"
      },
      "source": [
        "#### BASELINE MODEL WITH DEPTH WISE  - 7.8K PARAMS"
      ]
    },
    {
      "cell_type": "code",
      "metadata": {
        "id": "BLh2oLhiVSJz"
      },
      "source": [
        "dropout_value = 0.05\n",
        "class Net1(nn.Module):\n",
        "    def __init__(self):\n",
        "        super(Net1, self).__init__()\n",
        "    #####################################################################################################\n",
        "        # Input Block\n",
        "        self.convblock1 = nn.Sequential(\n",
        "            nn.Conv2d(in_channels=1, out_channels=10, kernel_size=(3, 3), padding=0, bias=False), \n",
        "            nn.ReLU(),\n",
        "            nn.BatchNorm2d(10),\n",
        "        ) # input size = 28 output_size = 26, in channels  = 1 out channels = 16\n",
        "\n",
        "        # CONVOLUTION BLOCK 1\n",
        "        self.convblock2 = nn.Sequential(\n",
        "            # nn.Conv2d(in_channels=8, out_channels=12, kernel_size=(3, 3), padding=0, bias=False),\n",
        "\n",
        "            # depth wise trials\n",
        "            nn.Conv2d(in_channels=10, out_channels=10, kernel_size=(3, 3),groups = 10, padding=0, bias=False),\n",
        "            nn.Conv2d(in_channels=10, out_channels=12, kernel_size=(1, 1), groups = 1, padding=0, bias=False),\n",
        "\n",
        "            nn.ReLU(),\n",
        "            nn.BatchNorm2d(12),            \n",
        "        ) # input_size = 26 , output_size = 24, 16 to 32 channels\n",
        "\n",
        "        self.dropout1  = nn.Sequential(nn.Dropout(0.05))\n",
        "    #####################################################################################################\n",
        "\n",
        "        # TRANSITION BLOCK 1\n",
        "        self.convblock3 = nn.Sequential(\n",
        "            nn.Conv2d(in_channels=12, out_channels=10, kernel_size=(1, 1), padding=0, bias=False),\n",
        "        ) # input size  = 24, output_size = 24\n",
        "        self.pool1 = nn.MaxPool2d(2, 2) # input sizez = 24, output_size = 12\n",
        "    #####################################################################################################\n",
        "\n",
        "        # CONVOLUTION BLOCK 2\n",
        "        self.convblock4 = nn.Sequential(\n",
        "            nn.Conv2d(in_channels=10, out_channels=13, kernel_size=(3, 3), padding=0, bias=False), # 14 in case of 13\n",
        "            nn.ReLU(),            \n",
        "            nn.BatchNorm2d(13),\n",
        "            # nn.Dropout(dropout_value)\n",
        "        ) # input size = 12, output_size = 10\n",
        "        self.convblock5 = nn.Sequential(\n",
        "            nn.Conv2d(in_channels=13, out_channels=16, kernel_size=(3, 3), padding=0, bias=False), # 14 in case of 13\n",
        "            nn.ReLU(),            \n",
        "            nn.BatchNorm2d(16),\n",
        "            # nn.Dropout(dropout_value)\n",
        "        ) # input size = 10, output_size = 8\n",
        "        self.dropout2  = nn.Sequential(nn.Dropout(0.17))\n",
        "    #####################################################################################################\n",
        "\n",
        "        # adding a 1x1 kernel  block here to reduce paramters\n",
        "        self.convblock5a = nn.Sequential(\n",
        "            nn.Conv2d(in_channels=16, out_channels=12, kernel_size=(1, 1), padding=0, bias=False),\n",
        "        ) # input size  = 8, output_size = 8\n",
        "        self.pool2 = nn.MaxPool2d(2, 2) # input sizez = 8, output_size = 4\n",
        "    #####################################################################################################\n",
        "\n",
        "        self.convblock6 = nn.Sequential(\n",
        "            nn.Conv2d(in_channels=12, out_channels=15, kernel_size=(3, 3), padding=1, bias=False),\n",
        "            nn.ReLU(),            \n",
        "            nn.BatchNorm2d(15),\n",
        "            # nn.Dropout(dropout_value)\n",
        "        ) # input size  = 4,  output_size = 4\n",
        "        self.dropout3  = nn.Sequential(nn.Dropout(0.17))\n",
        "        self.convblock7 = nn.Sequential(\n",
        "            nn.Conv2d(in_channels=15, out_channels=15, kernel_size=(3, 3), padding=1, bias=False),\n",
        "            nn.ReLU(),            \n",
        "            nn.BatchNorm2d(15),\n",
        "            # nn.Dropout(0.03)\n",
        "        ) # input size  = 4, output_size = 4\n",
        "    #####################################################################################################        \n",
        "        # OUTPUT BLOCK\n",
        "        self.gap = nn.Sequential(\n",
        "            nn.AvgPool2d(kernel_size=4)\n",
        "        ) # output_size = 1 channels  = 16\n",
        "\n",
        "        self.convblock8 = nn.Sequential(\n",
        "            nn.Conv2d(in_channels=15, out_channels=10, kernel_size=(1, 1), padding=0, bias=False),\n",
        "        ) \n",
        "\n",
        "    def forward(self, x):\n",
        "        # first conv block - teacher\n",
        "        x = self.convblock1(x)\n",
        "        x = self.convblock2(x)\n",
        "        x  = self.dropout1(x)\n",
        "\n",
        "        # transition block\n",
        "        x = self.convblock3(x)\n",
        "        x = self.pool1(x)\n",
        "\n",
        "        # second conv block\n",
        "        x = self.convblock4(x)\n",
        "        x = self.convblock5(x)\n",
        "        x  = self.dropout2(x)\n",
        "\n",
        "        # secocnd transition block\n",
        "        x = self.convblock5a(x)\n",
        "        x = self.pool2(x)        \n",
        "\n",
        "        # third conv block\n",
        "        x = self.convblock6(x)\n",
        "        x = self.dropout3(x)\n",
        "        x = self.convblock7(x)\n",
        "\n",
        "        # global average pooling layer\n",
        "        x = self.gap(x) \n",
        "\n",
        "        # classification\n",
        "        \n",
        "        x = self.convblock8(x)\n",
        "        x = x.view(-1, 10)\n",
        "        return F.log_softmax(x, dim=-1)"
      ],
      "execution_count": null,
      "outputs": []
    },
    {
      "cell_type": "code",
      "source": [
        "n = Net1().to('cuda')\n",
        "summary(n, input_size = (1,28,28))"
      ],
      "metadata": {
        "colab": {
          "base_uri": "https://localhost:8080/"
        },
        "id": "1D8cc4QOy_A0",
        "outputId": "2c4f5986-01c3-4259-d8e8-0063edb8abe5"
      },
      "execution_count": null,
      "outputs": [
        {
          "output_type": "stream",
          "name": "stdout",
          "text": [
            "----------------------------------------------------------------\n",
            "        Layer (type)               Output Shape         Param #\n",
            "================================================================\n",
            "            Conv2d-1           [-1, 10, 26, 26]              90\n",
            "              ReLU-2           [-1, 10, 26, 26]               0\n",
            "       BatchNorm2d-3           [-1, 10, 26, 26]              20\n",
            "            Conv2d-4           [-1, 10, 24, 24]              90\n",
            "            Conv2d-5           [-1, 12, 24, 24]             120\n",
            "              ReLU-6           [-1, 12, 24, 24]               0\n",
            "       BatchNorm2d-7           [-1, 12, 24, 24]              24\n",
            "           Dropout-8           [-1, 12, 24, 24]               0\n",
            "            Conv2d-9           [-1, 10, 24, 24]             120\n",
            "        MaxPool2d-10           [-1, 10, 12, 12]               0\n",
            "           Conv2d-11           [-1, 13, 10, 10]           1,170\n",
            "             ReLU-12           [-1, 13, 10, 10]               0\n",
            "      BatchNorm2d-13           [-1, 13, 10, 10]              26\n",
            "           Conv2d-14             [-1, 16, 8, 8]           1,872\n",
            "             ReLU-15             [-1, 16, 8, 8]               0\n",
            "      BatchNorm2d-16             [-1, 16, 8, 8]              32\n",
            "          Dropout-17             [-1, 16, 8, 8]               0\n",
            "           Conv2d-18             [-1, 12, 8, 8]             192\n",
            "        MaxPool2d-19             [-1, 12, 4, 4]               0\n",
            "           Conv2d-20             [-1, 15, 4, 4]           1,620\n",
            "             ReLU-21             [-1, 15, 4, 4]               0\n",
            "      BatchNorm2d-22             [-1, 15, 4, 4]              30\n",
            "          Dropout-23             [-1, 15, 4, 4]               0\n",
            "           Conv2d-24             [-1, 15, 4, 4]           2,025\n",
            "             ReLU-25             [-1, 15, 4, 4]               0\n",
            "      BatchNorm2d-26             [-1, 15, 4, 4]              30\n",
            "        AvgPool2d-27             [-1, 15, 1, 1]               0\n",
            "           Conv2d-28             [-1, 10, 1, 1]             150\n",
            "================================================================\n",
            "Total params: 7,611\n",
            "Trainable params: 7,611\n",
            "Non-trainable params: 0\n",
            "----------------------------------------------------------------\n",
            "Input size (MB): 0.00\n",
            "Forward/backward pass size (MB): 0.55\n",
            "Params size (MB): 0.03\n",
            "Estimated Total Size (MB): 0.58\n",
            "----------------------------------------------------------------\n"
          ]
        }
      ]
    },
    {
      "cell_type": "markdown",
      "source": [
        "#### depth wise with deeper network"
      ],
      "metadata": {
        "id": "D0gxa2jS4Goe"
      }
    },
    {
      "cell_type": "code",
      "source": [
        "dropout_value = 0.05\n",
        "class Net1(nn.Module):\n",
        "    def __init__(self):\n",
        "        super(Net1, self).__init__()\n",
        "    #####################################################################################################\n",
        "        # Input Block\n",
        "        self.convblock1 = nn.Sequential(\n",
        "            nn.Conv2d(in_channels=1, out_channels=10, kernel_size=(3, 3), padding=0, bias=False), \n",
        "            nn.ReLU(),\n",
        "            nn.BatchNorm2d(10),\n",
        "        ) # input size = 28 output_size = 26, in channels  = 1 out channels = 16\n",
        "\n",
        "        # CONVOLUTION BLOCK 1\n",
        "        self.convblock2 = nn.Sequential(\n",
        "            # nn.Conv2d(in_channels=8, out_channels=12, kernel_size=(3, 3), padding=0, bias=False),\n",
        "\n",
        "            # depth wise trials\n",
        "            nn.Conv2d(in_channels=10, out_channels=10, kernel_size=(3, 3),groups = 10, padding=0, bias=False),\n",
        "            nn.Conv2d(in_channels=10, out_channels=12, kernel_size=(1, 1), groups = 1, padding=0, bias=False),\n",
        "\n",
        "            nn.ReLU(),\n",
        "            nn.BatchNorm2d(12),            \n",
        "        ) # input_size = 26 , output_size = 24, 16 to 32 channels\n",
        "\n",
        "        self.dropout1  = nn.Sequential(nn.Dropout(0.05))\n",
        "    #####################################################################################################\n",
        "\n",
        "        # TRANSITION BLOCK 1\n",
        "        self.convblock3 = nn.Sequential(\n",
        "            nn.Conv2d(in_channels=12, out_channels=10, kernel_size=(1, 1), padding=0, bias=False),\n",
        "        ) # input size  = 24, output_size = 24\n",
        "        self.pool1 = nn.MaxPool2d(2, 2) # input sizez = 24, output_size = 12\n",
        "    #####################################################################################################\n",
        "\n",
        "        # CONVOLUTION BLOCK 2\n",
        "        self.convblock4 = nn.Sequential(\n",
        "            nn.Conv2d(in_channels=10, out_channels=10, kernel_size=(3, 3), groups =10,padding=0, bias=False),\n",
        "            nn.Conv2d(in_channels=10, out_channels=13, kernel_size=(1, 1), padding=0, bias=False), # 14 in case of 13\n",
        "            nn.ReLU(),            \n",
        "            nn.BatchNorm2d(13),\n",
        "            # nn.Dropout(dropout_value)\n",
        "        ) # input size = 12, output_size = 10\n",
        "        self.convblock5 = nn.Sequential(\n",
        "            nn.Conv2d(in_channels=13, out_channels=13, kernel_size=(3, 3),groups = 13, padding=0, bias=False),\n",
        "            nn.Conv2d(in_channels=13, out_channels=16, kernel_size=(1,1), padding=0, bias=False), # 14 in case of 13\n",
        "            nn.ReLU(),            \n",
        "            nn.BatchNorm2d(16),\n",
        "            # nn.Dropout(dropout_value)\n",
        "        ) # input size = 10, output_size = 8\n",
        "        self.dropout2  = nn.Sequential(nn.Dropout(0.17))\n",
        "    #####################################################################################################\n",
        "\n",
        "        # adding a 1x1 kernel  block here to reduce paramters\n",
        "        self.convblock5a = nn.Sequential(\n",
        "            nn.Conv2d(in_channels=16, out_channels=12, kernel_size=(1, 1), padding=0, bias=False),\n",
        "        ) # input size  = 8, output_size = 8\n",
        "        self.pool2 = nn.MaxPool2d(2, 2) # input sizez = 8, output_size = 4\n",
        "    #####################################################################################################\n",
        "\n",
        "        self.convblock6 = nn.Sequential(\n",
        "            nn.Conv2d(in_channels=12, out_channels=12, kernel_size=(3, 3),groups = 12, padding=1, bias=False),\n",
        "            nn.Conv2d(in_channels=12, out_channels=15, kernel_size=(1, 1), padding=0, bias=False),\n",
        "            nn.ReLU(),            \n",
        "            nn.BatchNorm2d(15),\n",
        "            # nn.Dropout(dropout_value)\n",
        "        ) # input size  = 4,  output_size = 4\n",
        "        self.dropout3  = nn.Sequential(nn.Dropout(0.17))\n",
        "        self.convblock7 = nn.Sequential(\n",
        "            nn.Conv2d(in_channels=15, out_channels=15, kernel_size=(3, 3), padding=1, groups = 15, bias=False),\n",
        "            nn.Conv2d(in_channels=15, out_channels=20, kernel_size=(1, 1), padding=0, bias=False),\n",
        "            nn.ReLU(),            \n",
        "            nn.BatchNorm2d(15),\n",
        "            # nn.Dropout(0.03)\n",
        "        ) # input size  = 4, output_size = 4\n",
        "\n",
        "        \n",
        "    #####################################################################################################        \n",
        "        # OUTPUT BLOCK\n",
        "        self.gap = nn.Sequential(\n",
        "            nn.AvgPool2d(kernel_size=4)\n",
        "        ) # output_size = 1 channels  = 16\n",
        "\n",
        "        self.convblock8 = nn.Sequential(\n",
        "            nn.Conv2d(in_channels=15, out_channels=10, kernel_size=(1, 1), padding=0, bias=False),\n",
        "        ) \n",
        "\n",
        "    def forward(self, x):\n",
        "        # first conv block - teacher\n",
        "        x = self.convblock1(x)\n",
        "        x = self.convblock2(x)\n",
        "        x  = self.dropout1(x)\n",
        "\n",
        "        # transition block\n",
        "        x = self.convblock3(x)\n",
        "        x = self.pool1(x)\n",
        "\n",
        "        # second conv block\n",
        "        x = self.convblock4(x)\n",
        "        x = self.convblock5(x)\n",
        "        x  = self.dropout2(x)\n",
        "\n",
        "        # secocnd transition block\n",
        "        x = self.convblock5a(x)\n",
        "        x = self.pool2(x)        \n",
        "\n",
        "        # third conv block\n",
        "        x = self.convblock6(x)\n",
        "        x = self.dropout3(x)\n",
        "        x = self.convblock7(x)\n",
        "\n",
        "        # global average pooling layer\n",
        "        x = self.gap(x) \n",
        "\n",
        "        # classification\n",
        "        \n",
        "        x = self.convblock8(x)\n",
        "        x = x.view(-1, 10)\n",
        "        return F.log_softmax(x, dim=-1)\n"
      ],
      "metadata": {
        "id": "nQZ61jpE3wMr"
      },
      "execution_count": null,
      "outputs": []
    },
    {
      "cell_type": "code",
      "source": [
        "m = Net1()\n",
        "summary(m, input_size=(1,28,28))"
      ],
      "metadata": {
        "colab": {
          "base_uri": "https://localhost:8080/"
        },
        "id": "HX6YkH0P3VJ-",
        "outputId": "26ecec85-7470-44b4-b57a-bda834eab190"
      },
      "execution_count": null,
      "outputs": [
        {
          "output_type": "stream",
          "name": "stdout",
          "text": [
            "----------------------------------------------------------------\n",
            "        Layer (type)               Output Shape         Param #\n",
            "================================================================\n",
            "            Conv2d-1           [-1, 10, 26, 26]              90\n",
            "              ReLU-2           [-1, 10, 26, 26]               0\n",
            "       BatchNorm2d-3           [-1, 10, 26, 26]              20\n",
            "            Conv2d-4           [-1, 10, 24, 24]              90\n",
            "            Conv2d-5           [-1, 12, 24, 24]             120\n",
            "              ReLU-6           [-1, 12, 24, 24]               0\n",
            "       BatchNorm2d-7           [-1, 12, 24, 24]              24\n",
            "           Dropout-8           [-1, 12, 24, 24]               0\n",
            "            Conv2d-9           [-1, 10, 24, 24]             120\n",
            "        MaxPool2d-10           [-1, 10, 12, 12]               0\n",
            "           Conv2d-11           [-1, 10, 10, 10]              90\n",
            "           Conv2d-12           [-1, 13, 10, 10]             130\n",
            "             ReLU-13           [-1, 13, 10, 10]               0\n",
            "      BatchNorm2d-14           [-1, 13, 10, 10]              26\n",
            "           Conv2d-15             [-1, 13, 8, 8]             117\n",
            "           Conv2d-16             [-1, 16, 8, 8]             208\n",
            "             ReLU-17             [-1, 16, 8, 8]               0\n",
            "      BatchNorm2d-18             [-1, 16, 8, 8]              32\n",
            "          Dropout-19             [-1, 16, 8, 8]               0\n",
            "           Conv2d-20             [-1, 12, 8, 8]             192\n",
            "        MaxPool2d-21             [-1, 12, 4, 4]               0\n",
            "           Conv2d-22             [-1, 12, 4, 4]             108\n",
            "           Conv2d-23             [-1, 15, 4, 4]             180\n",
            "             ReLU-24             [-1, 15, 4, 4]               0\n",
            "      BatchNorm2d-25             [-1, 15, 4, 4]              30\n",
            "          Dropout-26             [-1, 15, 4, 4]               0\n",
            "           Conv2d-27             [-1, 15, 4, 4]             135\n",
            "           Conv2d-28             [-1, 15, 4, 4]             225\n",
            "             ReLU-29             [-1, 15, 4, 4]               0\n",
            "      BatchNorm2d-30             [-1, 15, 4, 4]              30\n",
            "        AvgPool2d-31             [-1, 15, 1, 1]               0\n",
            "           Conv2d-32             [-1, 10, 1, 1]             150\n",
            "================================================================\n",
            "Total params: 2,117\n",
            "Trainable params: 2,117\n",
            "Non-trainable params: 0\n",
            "----------------------------------------------------------------\n",
            "Input size (MB): 0.00\n",
            "Forward/backward pass size (MB): 0.56\n",
            "Params size (MB): 0.01\n",
            "Estimated Total Size (MB): 0.57\n",
            "----------------------------------------------------------------\n"
          ]
        }
      ]
    },
    {
      "cell_type": "markdown",
      "metadata": {
        "id": "MaN4SNzNULWj"
      },
      "source": [
        "#### SMALLER MODEL - 5K"
      ]
    },
    {
      "cell_type": "code",
      "metadata": {
        "id": "SD9ApQb95TR0"
      },
      "source": [
        "class CNet(nn.Module):\n",
        "    def __init__(self):\n",
        "        super(CNet, self).__init__()\n",
        "    #####################################################################################################\n",
        "        # Input Block\n",
        "        self.convblock1 = nn.Sequential(\n",
        "            nn.Conv2d(in_channels=1, out_channels=8, kernel_size=(3, 3), padding=0, bias=False), \n",
        "            nn.ReLU(),\n",
        "            nn.BatchNorm2d(8),\n",
        "        ) # input size = 28 output_size = 26, in channels  = 1 out channels = 16\n",
        "\n",
        "        # CONVOLUTION BLOCK 1\n",
        "        self.convblock2 = nn.Sequential(\n",
        "            nn.Conv2d(in_channels=8, out_channels=12, kernel_size=(3, 3), padding=0, bias=False),\n",
        "            nn.ReLU(),\n",
        "            nn.BatchNorm2d(12),            \n",
        "        ) # input_size = 26 , output_size = 24, 16 to 32 channels\n",
        "\n",
        "        self.dropout1  = nn.Sequential(nn.Dropout(0.05))\n",
        "    #####################################################################################################\n",
        "\n",
        "        # TRANSITION BLOCK 1\n",
        "        self.convblock3 = nn.Sequential(\n",
        "            nn.Conv2d(in_channels=12, out_channels=8, kernel_size=(1, 1), padding=0, bias=False),\n",
        "        ) # input size  = 24, output_size = 24\n",
        "        self.pool1 = nn.MaxPool2d(2, 2) # input sizez = 24, output_size = 12\n",
        "    #####################################################################################################\n",
        "\n",
        "        # CONVOLUTION BLOCK 2\n",
        "        self.convblock4 = nn.Sequential(\n",
        "            nn.Conv2d(in_channels=8, out_channels=12, kernel_size=(3, 3), padding=0, bias=False),\n",
        "            nn.ReLU(),            \n",
        "            nn.BatchNorm2d(12),\n",
        "            # nn.Dropout(dropout_value)\n",
        "        ) # input size = 12, output_size = 10\n",
        "        self.convblock5 = nn.Sequential(\n",
        "            nn.Conv2d(in_channels=12, out_channels=16, kernel_size=(3, 3), padding=0, bias=False),\n",
        "            nn.ReLU(),            \n",
        "            nn.BatchNorm2d(16),\n",
        "            # nn.Dropout(dropout_value)\n",
        "        ) # input size = 10, output_size = 8\n",
        "        self.dropout2  = nn.Sequential(nn.Dropout(0.17))\n",
        "    #####################################################################################################\n",
        "\n",
        "        # adding a 1x1 kernel  block here to reduce paramters\n",
        "        self.convblock5a = nn.Sequential(\n",
        "            nn.Conv2d(in_channels=16, out_channels=12, kernel_size=(1, 1), padding=0, bias=False),\n",
        "        ) # input size  = 8, output_size = 8\n",
        "        self.pool2 = nn.MaxPool2d(2, 2) # input sizez = 8, output_size = 4\n",
        "    #####################################################################################################\n",
        "\n",
        "        self.convblock6 = nn.Sequential(\n",
        "            nn.Conv2d(in_channels=12, out_channels=15, kernel_size=(3, 3), padding=1, bias=False),\n",
        "            nn.ReLU(),            \n",
        "            nn.BatchNorm2d(15),\n",
        "            # nn.Dropout(dropout_value)\n",
        "        ) # input size  = 4,  output_size = 4\n",
        "        self.dropout3  = nn.Sequential(nn.Dropout(0.17))\n",
        "        # self.convblock7 = nn.Sequential(\n",
        "        #     nn.Conv2d(in_channels=15, out_channels=15, kernel_size=(3, 3), padding=1, bias=False),\n",
        "        #     nn.ReLU(),            \n",
        "        #     nn.BatchNorm2d(15),\n",
        "        #     # nn.Dropout(0.03)\n",
        "        # ) # input size  = 4, output_size = 4\n",
        "    #####################################################################################################        \n",
        "        # OUTPUT BLOCK\n",
        "        self.gap = nn.Sequential(\n",
        "            nn.AvgPool2d(kernel_size=4)\n",
        "        ) # output_size = 1 channels  = 16\n",
        "\n",
        "        self.convblock8 = nn.Sequential(\n",
        "            nn.Conv2d(in_channels=15, out_channels=10, kernel_size=(1, 1), padding=0, bias=False),\n",
        "        ) \n",
        "\n",
        "    def forward(self, x):\n",
        "        # first conv block-assistant\n",
        "        # x = x.to(\"cuda\")\n",
        "        x = self.convblock1(x)\n",
        "        x = self.convblock2(x)\n",
        "        x  = self.dropout1(x)\n",
        "\n",
        "        # transition block\n",
        "        x = self.convblock3(x)\n",
        "        x = self.pool1(x)\n",
        "\n",
        "        # second conv block\n",
        "        x = self.convblock4(x)\n",
        "        x = self.convblock5(x)\n",
        "        x  = self.dropout2(x)\n",
        "\n",
        "        # secocnd transition block\n",
        "        x = self.convblock5a(x)\n",
        "        x = self.pool2(x)        \n",
        "\n",
        "        # third conv block\n",
        "        x = self.convblock6(x)\n",
        "        x = self.dropout3(x)\n",
        "        # x = self.convblock7(x)\n",
        "\n",
        "        # global average pooling layer\n",
        "        x = self.gap(x) \n",
        "\n",
        "        # classification        \n",
        "        x = self.convblock8(x)\n",
        "        x = x.view(-1, 10)\n",
        "        return F.log_softmax(x, dim=-1)"
      ],
      "execution_count": null,
      "outputs": []
    },
    {
      "cell_type": "code",
      "metadata": {
        "colab": {
          "base_uri": "https://localhost:8080/"
        },
        "id": "tnIi3LU5qRde",
        "outputId": "75806686-ee14-4c62-cd3a-965269d741c8"
      },
      "source": [
        "k5_model = CNet().to(\"cuda\")\n",
        "summary(k5_model, input_size = (1,28,28))"
      ],
      "execution_count": null,
      "outputs": [
        {
          "output_type": "stream",
          "name": "stdout",
          "text": [
            "----------------------------------------------------------------\n",
            "        Layer (type)               Output Shape         Param #\n",
            "================================================================\n",
            "            Conv2d-1            [-1, 8, 26, 26]              72\n",
            "              ReLU-2            [-1, 8, 26, 26]               0\n",
            "       BatchNorm2d-3            [-1, 8, 26, 26]              16\n",
            "            Conv2d-4           [-1, 12, 24, 24]             864\n",
            "              ReLU-5           [-1, 12, 24, 24]               0\n",
            "       BatchNorm2d-6           [-1, 12, 24, 24]              24\n",
            "           Dropout-7           [-1, 12, 24, 24]               0\n",
            "            Conv2d-8            [-1, 8, 24, 24]              96\n",
            "         MaxPool2d-9            [-1, 8, 12, 12]               0\n",
            "           Conv2d-10           [-1, 12, 10, 10]             864\n",
            "             ReLU-11           [-1, 12, 10, 10]               0\n",
            "      BatchNorm2d-12           [-1, 12, 10, 10]              24\n",
            "           Conv2d-13             [-1, 16, 8, 8]           1,728\n",
            "             ReLU-14             [-1, 16, 8, 8]               0\n",
            "      BatchNorm2d-15             [-1, 16, 8, 8]              32\n",
            "          Dropout-16             [-1, 16, 8, 8]               0\n",
            "           Conv2d-17             [-1, 12, 8, 8]             192\n",
            "        MaxPool2d-18             [-1, 12, 4, 4]               0\n",
            "           Conv2d-19             [-1, 15, 4, 4]           1,620\n",
            "             ReLU-20             [-1, 15, 4, 4]               0\n",
            "      BatchNorm2d-21             [-1, 15, 4, 4]              30\n",
            "          Dropout-22             [-1, 15, 4, 4]               0\n",
            "        AvgPool2d-23             [-1, 15, 1, 1]               0\n",
            "           Conv2d-24             [-1, 10, 1, 1]             150\n",
            "================================================================\n",
            "Total params: 5,712\n",
            "Trainable params: 5,712\n",
            "Non-trainable params: 0\n",
            "----------------------------------------------------------------\n",
            "Input size (MB): 0.00\n",
            "Forward/backward pass size (MB): 0.45\n",
            "Params size (MB): 0.02\n",
            "Estimated Total Size (MB): 0.48\n",
            "----------------------------------------------------------------\n"
          ]
        }
      ]
    },
    {
      "cell_type": "code",
      "metadata": {
        "id": "xfrR3B1wqlrd"
      },
      "source": [
        "class CNet1(nn.Module):\n",
        "    def __init__(self):\n",
        "        super(CNet1, self).__init__()\n",
        "    #####################################################################################################\n",
        "        # Input Block\n",
        "        self.convblock1 = nn.Sequential(\n",
        "            nn.Conv2d(in_channels=1, out_channels=8, kernel_size=(3, 3), padding=0, bias=False), \n",
        "            nn.ReLU(),\n",
        "            nn.BatchNorm2d(8),\n",
        "        ) # input size = 28 output_size = 26, in channels  = 1 out channels = 16\n",
        "\n",
        "        # CONVOLUTION BLOCK 1\n",
        "        self.convblock2 = nn.Sequential(\n",
        "            # nn.Conv2d(in_channels=8, out_channels=12, kernel_size=(3, 3), padding=0, bias=False),\n",
        "            # depth wise convolution\n",
        "            nn.Conv2d(in_channels=8, out_channels=8,groups = 8, kernel_size=(3, 3), padding=0, bias=False),\n",
        "            nn.Conv2d(in_channels=8, out_channels=12, kernel_size=(1, 1), padding=0, bias=False),\n",
        "            nn.ReLU(),\n",
        "            nn.BatchNorm2d(12),            \n",
        "        ) # input_size = 26 , output_size = 24, 16 to 32 channels\n",
        "\n",
        "        self.dropout1  = nn.Sequential(nn.Dropout(0.05))\n",
        "    #####################################################################################################\n",
        "\n",
        "        # TRANSITION BLOCK 1\n",
        "        self.convblock3 = nn.Sequential(\n",
        "            nn.Conv2d(in_channels=12, out_channels=8, kernel_size=(1, 1), padding=0, bias=False),\n",
        "        ) # input size  = 24, output_size = 24\n",
        "        self.pool1 = nn.MaxPool2d(2, 2) # input sizez = 24, output_size = 12\n",
        "    #####################################################################################################\n",
        "\n",
        "        # CONVOLUTION BLOCK 2\n",
        "        self.convblock4 = nn.Sequential(\n",
        "            nn.Conv2d(in_channels=8, out_channels=13, kernel_size=(3, 3), padding=0, bias=False),\n",
        "            nn.ReLU(),            \n",
        "            nn.BatchNorm2d(13),\n",
        "            # nn.Dropout(dropout_value)\n",
        "        ) # input size = 12, output_size = 10\n",
        "        self.convblock5 = nn.Sequential(\n",
        "            nn.Conv2d(in_channels=13, out_channels=18, kernel_size=(3, 3), padding=0, bias=False),\n",
        "            nn.ReLU(),            \n",
        "            nn.BatchNorm2d(18),\n",
        "            # nn.Dropout(dropout_value)\n",
        "        ) # input size = 10, output_size = 8\n",
        "        self.dropout2  = nn.Sequential(nn.Dropout(0.17))\n",
        "    #####################################################################################################\n",
        "\n",
        "        # adding a 1x1 kernel  block here to reduce paramters\n",
        "        self.convblock5a = nn.Sequential(\n",
        "            nn.Conv2d(in_channels=18, out_channels=12, kernel_size=(1, 1), padding=0, bias=False),\n",
        "        ) # input size  = 8, output_size = 8\n",
        "        self.pool2 = nn.MaxPool2d(2, 2) # input sizez = 8, output_size = 4\n",
        "    #####################################################################################################\n",
        "\n",
        "        self.convblock6 = nn.Sequential(\n",
        "            nn.Conv2d(in_channels=12, out_channels=16, kernel_size=(3, 3), padding=1, bias=False),\n",
        "            nn.ReLU(),            \n",
        "            nn.BatchNorm2d(16),\n",
        "            # nn.Dropout(dropout_value)\n",
        "        ) # input size  = 4,  output_size = 4\n",
        "        self.dropout3  = nn.Sequential(nn.Dropout(0.17))\n",
        "        # self.convblock7 = nn.Sequential(\n",
        "        #     nn.Conv2d(in_channels=15, out_channels=15, kernel_size=(3, 3), padding=1, bias=False),\n",
        "        #     nn.ReLU(),            \n",
        "        #     nn.BatchNorm2d(15),\n",
        "        #     # nn.Dropout(0.03)\n",
        "        # ) # input size  = 4, output_size = 4\n",
        "    #####################################################################################################        \n",
        "        # OUTPUT BLOCK\n",
        "        self.gap = nn.Sequential(\n",
        "            nn.AvgPool2d(kernel_size=4)\n",
        "        ) # output_size = 1 channels  = 16\n",
        "\n",
        "        self.convblock8 = nn.Sequential(\n",
        "            nn.Conv2d(in_channels=16, out_channels=10, kernel_size=(1, 1), padding=0, bias=False),\n",
        "        ) \n",
        "\n",
        "    def forward(self, x):\n",
        "        # first conv block-assistant\n",
        "        # x = x.to(\"cuda\")\n",
        "        x = self.convblock1(x)\n",
        "        x = self.convblock2(x)\n",
        "        x  = self.dropout1(x)\n",
        "\n",
        "        # transition block\n",
        "        x = self.convblock3(x)\n",
        "        x = self.pool1(x)\n",
        "\n",
        "        # second conv block\n",
        "        x = self.convblock4(x)\n",
        "        x = self.convblock5(x)\n",
        "        x  = self.dropout2(x)\n",
        "\n",
        "        # secocnd transition block\n",
        "        x = self.convblock5a(x)\n",
        "        x = self.pool2(x)        \n",
        "\n",
        "        # third conv block\n",
        "        x = self.convblock6(x)\n",
        "        x = self.dropout3(x)\n",
        "        # x = self.convblock7(x)\n",
        "\n",
        "        # global average pooling layer\n",
        "        x = self.gap(x) \n",
        "\n",
        "        # classification        \n",
        "        x = self.convblock8(x)\n",
        "        x = x.view(-1, 10)\n",
        "        return F.log_softmax(x, dim=-1)"
      ],
      "execution_count": null,
      "outputs": []
    },
    {
      "cell_type": "code",
      "metadata": {
        "colab": {
          "base_uri": "https://localhost:8080/"
        },
        "id": "_C5LowsCrOic",
        "outputId": "5c6db313-5cfd-472c-bb13-ed3840f61f9a"
      },
      "source": [
        "k5_model1 = CNet1().to(\"cuda\")\n",
        "summary(k5_model1, input_size = (1,28,28))"
      ],
      "execution_count": null,
      "outputs": [
        {
          "output_type": "stream",
          "name": "stdout",
          "text": [
            "----------------------------------------------------------------\n",
            "        Layer (type)               Output Shape         Param #\n",
            "================================================================\n",
            "            Conv2d-1            [-1, 8, 26, 26]              72\n",
            "              ReLU-2            [-1, 8, 26, 26]               0\n",
            "       BatchNorm2d-3            [-1, 8, 26, 26]              16\n",
            "            Conv2d-4            [-1, 8, 24, 24]              72\n",
            "            Conv2d-5           [-1, 12, 24, 24]              96\n",
            "              ReLU-6           [-1, 12, 24, 24]               0\n",
            "       BatchNorm2d-7           [-1, 12, 24, 24]              24\n",
            "           Dropout-8           [-1, 12, 24, 24]               0\n",
            "            Conv2d-9            [-1, 8, 24, 24]              96\n",
            "        MaxPool2d-10            [-1, 8, 12, 12]               0\n",
            "           Conv2d-11           [-1, 13, 10, 10]             936\n",
            "             ReLU-12           [-1, 13, 10, 10]               0\n",
            "      BatchNorm2d-13           [-1, 13, 10, 10]              26\n",
            "           Conv2d-14             [-1, 18, 8, 8]           2,106\n",
            "             ReLU-15             [-1, 18, 8, 8]               0\n",
            "      BatchNorm2d-16             [-1, 18, 8, 8]              36\n",
            "          Dropout-17             [-1, 18, 8, 8]               0\n",
            "           Conv2d-18             [-1, 12, 8, 8]             216\n",
            "        MaxPool2d-19             [-1, 12, 4, 4]               0\n",
            "           Conv2d-20             [-1, 16, 4, 4]           1,728\n",
            "             ReLU-21             [-1, 16, 4, 4]               0\n",
            "      BatchNorm2d-22             [-1, 16, 4, 4]              32\n",
            "          Dropout-23             [-1, 16, 4, 4]               0\n",
            "        AvgPool2d-24             [-1, 16, 1, 1]               0\n",
            "           Conv2d-25             [-1, 10, 1, 1]             160\n",
            "================================================================\n",
            "Total params: 5,616\n",
            "Trainable params: 5,616\n",
            "Non-trainable params: 0\n",
            "----------------------------------------------------------------\n",
            "Input size (MB): 0.00\n",
            "Forward/backward pass size (MB): 0.49\n",
            "Params size (MB): 0.02\n",
            "Estimated Total Size (MB): 0.52\n",
            "----------------------------------------------------------------\n"
          ]
        }
      ]
    },
    {
      "cell_type": "markdown",
      "metadata": {
        "id": "Z8WviebQHyWt"
      },
      "source": [
        "#### SMALLEST MODEL"
      ]
    },
    {
      "cell_type": "code",
      "metadata": {
        "id": "CzKuCGZ2FK4a"
      },
      "source": [
        "class SNet(nn.Module):\n",
        "    def __init__(self):\n",
        "        super(SNet, self).__init__()\n",
        "    #####################################################################################################\n",
        "        # Input Block\n",
        "        self.convblock1 = nn.Sequential(\n",
        "            nn.Conv2d(in_channels=1, out_channels=8, kernel_size=(3, 3), padding=0, bias=False), \n",
        "            nn.ReLU(),\n",
        "            nn.BatchNorm2d(8),\n",
        "        ) # input size = 28 output_size = 26, in channels  = 1 out channels = 16\n",
        "\n",
        "        # CONVOLUTION BLOCK 1\n",
        "        self.convblock2 = nn.Sequential(\n",
        "            # DEPTH WISE SEPERABLE COVOLUTION\n",
        "            nn.Conv2d(in_channels=8, out_channels=8, kernel_size=(3, 3), groups = 8, padding=0, bias=False),\n",
        "            nn.Conv2d(in_channels=8, out_channels=12, kernel_size=(1, 1), groups = 1, padding=0, bias=False),\n",
        "            nn.ReLU(),\n",
        "            nn.BatchNorm2d(12),            \n",
        "        ) # input_size = 26 , output_size = 24, 16 to 32 channels\n",
        "\n",
        "        self.dropout1  = nn.Sequential(nn.Dropout(0.05))\n",
        "    #####################################################################################################\n",
        "\n",
        "        # TRANSITION BLOCK 1\n",
        "        self.convblock3 = nn.Sequential(\n",
        "            nn.Conv2d(in_channels=12, out_channels=8, kernel_size=(1, 1), padding=0, bias=False),\n",
        "        ) # input size  = 24, output_size = 24\n",
        "        self.pool1 = nn.MaxPool2d(2, 2) # input sizez = 24, output_size = 12\n",
        "    #####################################################################################################\n",
        "\n",
        "        # CONVOLUTION BLOCK 2\n",
        "        self.convblock4 = nn.Sequential(\n",
        "            # DEPTH WISE SEPARABLE CONVOLUTIONS\n",
        "            nn.Conv2d(in_channels=8, out_channels=8, kernel_size=(3, 3), groups = 8, padding=0, bias=False),\n",
        "            nn.Conv2d(in_channels=8, out_channels=12, kernel_size=(1, 1), padding=0, bias=False),\n",
        "            nn.ReLU(),            \n",
        "            nn.BatchNorm2d(12),\n",
        "            # nn.Dropout(dropout_value)\n",
        "        ) # input size = 12, output_size = 10\n",
        "        self.convblock5 = nn.Sequential(\n",
        "            # DEPTH WISE SEPARABLE CONVOLUTIONS\n",
        "            nn.Conv2d(in_channels=12, out_channels=12, kernel_size=(3, 3),groups = 12, padding=0, bias=False),\n",
        "            nn.Conv2d(in_channels=12, out_channels=16, kernel_size=(1, 1), padding=0, bias=False),\n",
        "            nn.ReLU(),            \n",
        "            nn.BatchNorm2d(16),\n",
        "            # nn.Dropout(dropout_value)\n",
        "        ) # input size = 10, output_size = 8\n",
        "        self.dropout2  = nn.Sequential(nn.Dropout(0.17))\n",
        "    #####################################################################################################\n",
        "\n",
        "        # adding a 1x1 kernel  block here to reduce paramters\n",
        "        self.convblock5a = nn.Sequential(\n",
        "            nn.Conv2d(in_channels=16, out_channels=12, kernel_size=(1, 1), padding=0, bias=False),\n",
        "        ) # input size  = 8, output_size = 8\n",
        "        self.pool2 = nn.MaxPool2d(2, 2) # input sizez = 8, output_size = 4\n",
        "    #####################################################################################################\n",
        "\n",
        "        self.convblock6 = nn.Sequential(\n",
        "            # DEPTH WISE SEPARABLE CONVOLUTIONS\n",
        "            nn.Conv2d(in_channels=12, out_channels=12,groups = 12, kernel_size=(3, 3), padding=1, bias=False),\n",
        "            nn.Conv2d(in_channels=12, out_channels=15, kernel_size=(1, 1), padding=0, bias=False),\n",
        "            nn.ReLU(),            \n",
        "            nn.BatchNorm2d(15),\n",
        "            # nn.Dropout(dropout_value)\n",
        "        ) # input size  = 4,  output_size = 4\n",
        "        self.dropout3  = nn.Sequential(nn.Dropout(0.17))\n",
        "    ####################################### TRIAL BLOCK ##############################################################  \n",
        "        # self.convblock6 = nn.Sequential(\n",
        "        #     # DEPTH WISE SEPARABLE CONVOLUTIONS\n",
        "        #     nn.Conv2d(in_channels=12, out_channels=12,groups = 12, kernel_size=(3, 3), padding=1, bias=False),\n",
        "        #     nn.Conv2d(in_channels=12, out_channels=15, kernel_size=(1, 1), padding=0, bias=False),\n",
        "        #     nn.ReLU(),            \n",
        "        #     nn.BatchNorm2d(15),\n",
        "        #     # nn.Dropout(dropout_value)\n",
        "        # ) # input size  = 4,  output_size = 4\n",
        "        # self.dropout3  = nn.Sequential(nn.Dropout(0.17))\n",
        "\n",
        "        #####################################################################################################        \n",
        "        # OUTPUT BLOCK\n",
        "        self.gap = nn.Sequential(\n",
        "            nn.AvgPool2d(kernel_size=4)\n",
        "        ) # output_size = 1 channels  = 16\n",
        "        # self.flat = nn.Flatten()\n",
        "        self.convblock8 = nn.Sequential(\n",
        "            nn.Conv2d(in_channels=15, out_channels=10, kernel_size=(1, 1), padding=0, bias=False),\n",
        "        ) \n",
        "        # self.linear = nn.Linear(15,10)\n",
        "\n",
        "    def forward(self, x):\n",
        "        # first conv block - student\n",
        "        # x = x.to(\"cuda\")\n",
        "        x = self.convblock1(x)\n",
        "        x = self.convblock2(x)\n",
        "        x  = self.dropout1(x)\n",
        "\n",
        "        # transition block\n",
        "        x = self.convblock3(x)\n",
        "        x = self.pool1(x)\n",
        "\n",
        "        # second conv block\n",
        "        x = self.convblock4(x)\n",
        "        x = self.convblock5(x)\n",
        "        x  = self.dropout2(x)\n",
        "\n",
        "        # secocnd transition block\n",
        "        x = self.convblock5a(x)\n",
        "        x = self.pool2(x)        \n",
        "\n",
        "        # third conv block\n",
        "        x = self.convblock6(x)\n",
        "        x = self.dropout3(x)\n",
        "        # x = self.convblock7(x)\n",
        "\n",
        "        # global average pooling layer\n",
        "        x = self.gap(x) \n",
        "        # x = self.flat(x)\n",
        "        # classification        \n",
        "        x = self.convblock8(x)\n",
        "        # x = self.linear(x)\n",
        "        x = x.view(-1, 10)\n",
        "        return F.log_softmax(x, dim=-1)"
      ],
      "execution_count": null,
      "outputs": []
    },
    {
      "cell_type": "markdown",
      "metadata": {
        "id": "GtrGVQUG2EvL"
      },
      "source": [
        "#### SMALLEST MODEL 2"
      ]
    },
    {
      "cell_type": "code",
      "metadata": {
        "id": "uopsWOZRJGBD"
      },
      "source": [
        "class SimpleModel(composer.models.MosaicClassifier):\n",
        "    def __init__(self, num_classes: int):\n",
        "        module = nn.Sequential(\n",
        "    ################################## 1 ST CONVOLUTIONAL BLOCK #####################################  \n",
        "            nn.Conv2d(in_channels=1, out_channels=8, kernel_size=(3, 3), padding=0, bias=False), \n",
        "            nn.ReLU(),\n",
        "            nn.BatchNorm2d(8),                                                                                #26x26 /8 \n",
        "\n",
        "            nn.Conv2d(in_channels=8, out_channels=8, kernel_size=(3, 3), groups = 8, padding=0, bias=False),  #24x24/8\n",
        "            nn.Conv2d(in_channels=8, out_channels=12, kernel_size=(1, 1), groups = 1, padding=0, bias=False), #24x24/12\n",
        "            nn.ReLU(),\n",
        "            nn.BatchNorm2d(12), \n",
        "\n",
        "            nn.Dropout(0.05),\n",
        "    ################################### TRANSITION BLOCK #######################################\n",
        "            nn.Conv2d(in_channels=12, out_channels=8, kernel_size=(1, 1), padding=0, bias=False),             #24x24/8\n",
        "            nn.MaxPool2d(2, 2),                                                                               #12x12/8\n",
        "    ################################## 2 ND CONVOLUTIONAL BLOCK #####################################            \n",
        "\n",
        "            nn.Conv2d(in_channels=8, out_channels=8, kernel_size=(3, 3), groups = 8, padding=0, bias=False),  #10x10/8\n",
        "            nn.Conv2d(in_channels=8, out_channels=12, kernel_size=(1, 1), padding=0, bias=False),             #10x10/12\n",
        "            nn.ReLU(),            \n",
        "            nn.BatchNorm2d(12),\n",
        "\n",
        "            # DEPTH WISE SEPARABLE CONVOLUTIONS\n",
        "            nn.Conv2d(in_channels=12, out_channels=12, kernel_size=(3, 3),groups = 12, padding=0, bias=False), #8x8/12\n",
        "            nn.Conv2d(in_channels=12, out_channels=16, kernel_size=(1, 1), padding=0, bias=False),             #8x8/16\n",
        "            nn.ReLU(),            \n",
        "            nn.BatchNorm2d(16),\n",
        "            \n",
        "            nn.Dropout(0.17),\n",
        "    ################################### TRANSITION BLOCK #######################################\n",
        "            nn.Conv2d(in_channels=16, out_channels=12, kernel_size=(1, 1), padding=0, bias=False),            #8x8/12\n",
        "            nn.MaxPool2d(2, 2),                                                                               #4x4/12\n",
        "    ################################## 3 RD CONVOLUTIONAL BLOCK ##################################### \n",
        "            nn.Conv2d(in_channels=12, out_channels=12,groups = 12, kernel_size=(3, 3), padding=1, bias=False),#4x4/12\n",
        "            nn.Conv2d(in_channels=12, out_channels=15, kernel_size=(1, 1), padding=0, bias=False),            #4x4/15\n",
        "            nn.ReLU(),            \n",
        "            nn.BatchNorm2d(15),\n",
        "            \n",
        "            nn.Dropout(0.17),\n",
        "    ################################### OUTPUT BLOCK ######################################        \n",
        "            nn.AvgPool2d(kernel_size=4),                                                                      #1x1/15\n",
        "            # nn.Linear(1,10),\n",
        "            nn.Flatten(),\n",
        "            # nn.Conv2d(in_channels=15, out_channels=num_classes, kernel_size=(1, 1), padding=0, bias=False),\n",
        "            nn.Linear(15,10)\n",
        "        )\n",
        "        self.num_classes = num_classes\n",
        "        super().__init__(module=module)"
      ],
      "execution_count": null,
      "outputs": []
    },
    {
      "cell_type": "markdown",
      "metadata": {
        "id": "xBqPrS73IzAm"
      },
      "source": [
        "#### MODEL LOADING"
      ]
    },
    {
      "cell_type": "code",
      "metadata": {
        "id": "XJZ2xk2vJTCa"
      },
      "source": [
        "# m = SimpleModel(num_classes= 10).to('cuda')"
      ],
      "execution_count": null,
      "outputs": []
    },
    {
      "cell_type": "code",
      "metadata": {
        "id": "6qVwtDegH-KK"
      },
      "source": [
        "m = SNet().to('cuda')"
      ],
      "execution_count": null,
      "outputs": []
    },
    {
      "cell_type": "code",
      "metadata": {
        "colab": {
          "base_uri": "https://localhost:8080/"
        },
        "id": "IdcNWTTPQbcw",
        "outputId": "d82d017d-a737-4620-907a-a22ee264030b"
      },
      "source": [
        "summary(m, input_size=(1,28,28))"
      ],
      "execution_count": null,
      "outputs": [
        {
          "output_type": "stream",
          "name": "stdout",
          "text": [
            "----------------------------------------------------------------\n",
            "        Layer (type)               Output Shape         Param #\n",
            "================================================================\n",
            "            Conv2d-1            [-1, 8, 26, 26]              72\n",
            "              ReLU-2            [-1, 8, 26, 26]               0\n",
            "       BatchNorm2d-3            [-1, 8, 26, 26]              16\n",
            "            Conv2d-4            [-1, 8, 24, 24]              72\n",
            "            Conv2d-5           [-1, 12, 24, 24]              96\n",
            "              ReLU-6           [-1, 12, 24, 24]               0\n",
            "       BatchNorm2d-7           [-1, 12, 24, 24]              24\n",
            "           Dropout-8           [-1, 12, 24, 24]               0\n",
            "            Conv2d-9            [-1, 8, 24, 24]              96\n",
            "        MaxPool2d-10            [-1, 8, 12, 12]               0\n",
            "           Conv2d-11            [-1, 8, 10, 10]              72\n",
            "           Conv2d-12           [-1, 12, 10, 10]              96\n",
            "             ReLU-13           [-1, 12, 10, 10]               0\n",
            "      BatchNorm2d-14           [-1, 12, 10, 10]              24\n",
            "           Conv2d-15             [-1, 12, 8, 8]             108\n",
            "           Conv2d-16             [-1, 16, 8, 8]             192\n",
            "             ReLU-17             [-1, 16, 8, 8]               0\n",
            "      BatchNorm2d-18             [-1, 16, 8, 8]              32\n",
            "          Dropout-19             [-1, 16, 8, 8]               0\n",
            "           Conv2d-20             [-1, 12, 8, 8]             192\n",
            "        MaxPool2d-21             [-1, 12, 4, 4]               0\n",
            "           Conv2d-22             [-1, 12, 4, 4]             108\n",
            "           Conv2d-23             [-1, 15, 4, 4]             180\n",
            "             ReLU-24             [-1, 15, 4, 4]               0\n",
            "      BatchNorm2d-25             [-1, 15, 4, 4]              30\n",
            "          Dropout-26             [-1, 15, 4, 4]               0\n",
            "        AvgPool2d-27             [-1, 15, 1, 1]               0\n",
            "           Conv2d-28             [-1, 10, 1, 1]             150\n",
            "================================================================\n",
            "Total params: 1,560\n",
            "Trainable params: 1,560\n",
            "Non-trainable params: 0\n",
            "----------------------------------------------------------------\n",
            "Input size (MB): 0.00\n",
            "Forward/backward pass size (MB): 0.50\n",
            "Params size (MB): 0.01\n",
            "Estimated Total Size (MB): 0.51\n",
            "----------------------------------------------------------------\n"
          ]
        }
      ]
    },
    {
      "cell_type": "markdown",
      "metadata": {
        "id": "-2C0zMVIXNAY"
      },
      "source": [
        "#### MODEL AND DATASET LOADING\n"
      ]
    },
    {
      "cell_type": "code",
      "metadata": {
        "id": "73pMWEMLImCI"
      },
      "source": [
        "use_cuda = True\n",
        "train_dataloader_spec = DataloaderSpec(\n",
        "    dataset=datasets.MNIST('/datasets/', train=True, transform=transforms.ToTensor(), download=True),\n",
        "    drop_last=False,\n",
        "    shuffle=True,\n",
        ")\n",
        "\n",
        "eval_dataloader_spec = DataloaderSpec(\n",
        "    dataset=datasets.MNIST('/datasets/', train=False, transform=transforms.ToTensor()),\n",
        "    drop_last=False,\n",
        "    shuffle=False,\n",
        ")\n",
        "\n",
        "\n"
      ],
      "execution_count": null,
      "outputs": []
    },
    {
      "cell_type": "code",
      "metadata": {
        "colab": {
          "base_uri": "https://localhost:8080/"
        },
        "id": "QpuE95hTJvT3",
        "outputId": "9967d152-c1d5-4811-8e1e-7495b378244f"
      },
      "source": [
        "use_cuda = True\n",
        "transforms = transforms.Compose([\n",
        "                                transforms.ToTensor(),\n",
        "                                transforms.Normalize((0.1307,), (0.3081,))\n",
        "                                ])\n",
        "train = datasets.MNIST('./data', train=True, download=True, transform=transforms)\n",
        "test = datasets.MNIST('./data', train=False, download=True, transform=transforms)\n",
        "dataloader_args = dict(shuffle=True, batch_size=128, num_workers=4, pin_memory=True) if use_cuda else dict(shuffle=True, batch_size=64)\n",
        "train_loader = torch.utils.data.DataLoader(train, **dataloader_args)\n",
        "test_loader = torch.utils.data.DataLoader(test, **dataloader_args)"
      ],
      "execution_count": null,
      "outputs": [
        {
          "output_type": "stream",
          "name": "stderr",
          "text": [
            "/usr/local/lib/python3.7/dist-packages/torch/utils/data/dataloader.py:481: UserWarning: This DataLoader will create 4 worker processes in total. Our suggested max number of worker in current system is 2, which is smaller than what this DataLoader is going to create. Please be aware that excessive worker creation might get DataLoader running slow or even freeze, lower the worker number to avoid potential slowness/freeze if necessary.\n",
            "  cpuset_checked))\n"
          ]
        }
      ]
    },
    {
      "cell_type": "code",
      "source": [
        "use_cuda = True\n",
        "transforms = transforms.Compose([\n",
        "                                transforms.ToTensor(),\n",
        "                                transforms.Normalize((0.1307,), (0.3081,))\n",
        "                                ])\n",
        "train = datasets.CIFAR10('./data10', train=True, download=True, transform=transforms)\n",
        "test = datasets.CIFAR10('./data10', train=False, download=True, transform=transforms)\n",
        "\n",
        "dataloader_args = dict(shuffle=True, batch_size=128, num_workers=4, pin_memory=True) if use_cuda else dict(shuffle=True, batch_size=64)\n",
        "train_loader = torch.utils.data.DataLoader(train, **dataloader_args)\n",
        "test_loader = torch.utils.data.DataLoader(test, **dataloader_args)\n"
      ],
      "metadata": {
        "colab": {
          "base_uri": "https://localhost:8080/"
        },
        "id": "z1dDabTp8dps",
        "outputId": "084c433c-e445-414d-f212-b9eacbfb2da1"
      },
      "execution_count": null,
      "outputs": [
        {
          "output_type": "stream",
          "name": "stdout",
          "text": [
            "Files already downloaded and verified\n",
            "Files already downloaded and verified\n"
          ]
        },
        {
          "output_type": "stream",
          "name": "stderr",
          "text": [
            "/usr/local/lib/python3.7/dist-packages/torch/utils/data/dataloader.py:481: UserWarning: This DataLoader will create 4 worker processes in total. Our suggested max number of worker in current system is 2, which is smaller than what this DataLoader is going to create. Please be aware that excessive worker creation might get DataLoader running slow or even freeze, lower the worker number to avoid potential slowness/freeze if necessary.\n",
            "  cpuset_checked))\n"
          ]
        }
      ]
    },
    {
      "cell_type": "markdown",
      "source": [
        "#### SUBSET DATALOADING"
      ],
      "metadata": {
        "id": "v5ad97Ce40Wk"
      }
    },
    {
      "cell_type": "code",
      "source": [
        "use_cuda = True\n",
        "transforms = transforms.Compose([\n",
        "                                transforms.ToTensor(),\n",
        "                                transforms.Normalize((0.1307,), (0.3081,))\n",
        "                                ])\n",
        "train = datasets.MNIST('./data2', train=True, download=True, transform=transforms)\n",
        "test = datasets.MNIST('./data2', train=False, download=True, transform=transforms)\n",
        "\n",
        "train_subset = list(range(0, 45000))\n",
        "train_1 = torch.utils.data.Subset(train, train_subset)\n",
        "\n",
        "dataloader_args = dict(shuffle=True, batch_size=128, num_workers=4, pin_memory=True) if use_cuda else dict(shuffle=True, batch_size=64)\n",
        "train_loader = torch.utils.data.DataLoader(train_1, **dataloader_args)\n",
        "test_loader = torch.utils.data.DataLoader(test, **dataloader_args)"
      ],
      "metadata": {
        "colab": {
          "base_uri": "https://localhost:8080/"
        },
        "id": "6SoEBVaX4tzi",
        "outputId": "ef937917-6611-4d0d-94f7-aed8f8e73525"
      },
      "execution_count": null,
      "outputs": [
        {
          "output_type": "stream",
          "name": "stderr",
          "text": [
            "/usr/local/lib/python3.7/dist-packages/torch/utils/data/dataloader.py:481: UserWarning: This DataLoader will create 4 worker processes in total. Our suggested max number of worker in current system is 2, which is smaller than what this DataLoader is going to create. Please be aware that excessive worker creation might get DataLoader running slow or even freeze, lower the worker number to avoid potential slowness/freeze if necessary.\n",
            "  cpuset_checked))\n"
          ]
        }
      ]
    },
    {
      "cell_type": "markdown",
      "metadata": {
        "id": "LTgpVHkFnvZk"
      },
      "source": [
        "#### WEIGHT TRANSFER EXPERIMENTS"
      ]
    },
    {
      "cell_type": "code",
      "metadata": {
        "colab": {
          "base_uri": "https://localhost:8080/"
        },
        "id": "ygWCgwC5Gy5D",
        "outputId": "68e4d476-23e2-4056-b523-1c121367de93"
      },
      "source": [
        "# from collections import OrderedDict\n",
        "\n",
        "# path_ls = './label_smoothing_checkpoints/ep60.pt'\n",
        "# state_items = torch.load(path_ls)['state']['model']\n",
        "\n",
        "# new_state_dict = OrderedDict()\n",
        "# for x,y in state_items.items():\n",
        "#     name = x[7:]\n",
        "#     new_state_dict[name] = y\n",
        "\n",
        "# m.load_state_dict(new_state_dict)"
      ],
      "execution_count": null,
      "outputs": [
        {
          "output_type": "stream",
          "name": "stdout",
          "text": [
            "module.module.0.weight convblock1.0.weight\n"
          ]
        }
      ]
    },
    {
      "cell_type": "code",
      "metadata": {
        "colab": {
          "base_uri": "https://localhost:8080/"
        },
        "id": "OA5wA1PaPKGn",
        "outputId": "c05388d1-fe61-47d3-af78-0b33f50b0a49"
      },
      "source": [
        "from collections import OrderedDict\n",
        "\n",
        "path_ls = './label_smoothing_checkpoints/ep60.pt'\n",
        "state_items = torch.load(path_ls)['state']['model']\n",
        "\n",
        "new_state_dict = OrderedDict()\n",
        "for (x,a) in zip(state_items.items(),m.state_dict()) :\n",
        "    # name = x[7:]\n",
        "    # new_state_dict[name] = y\n",
        "    # comp_module_name, _ =\n",
        "    saved_weights = x[1]\n",
        "    saved_module_name = x[0]  \n",
        "    act_module_name = a\n",
        "\n",
        "    new_state_dict[act_module_name] = saved_weights\n",
        "\n",
        "    # print(x[0].split(),a)\n",
        "    # break\n",
        "\n",
        "m.load_state_dict(new_state_dict)"
      ],
      "execution_count": null,
      "outputs": [
        {
          "output_type": "execute_result",
          "data": {
            "text/plain": [
              "<All keys matched successfully>"
            ]
          },
          "metadata": {},
          "execution_count": 26
        }
      ]
    },
    {
      "cell_type": "markdown",
      "metadata": {
        "id": "8ByA4cGgUIhK"
      },
      "source": [
        "#### TRAIN FUNCTION"
      ]
    },
    {
      "cell_type": "code",
      "metadata": {
        "id": "f5f9C465sZ28"
      },
      "source": [
        "def train(model):\n",
        "    # print('working')\n",
        "    model.train()\n",
        "    pbar = tqdm(train_loader)\n",
        "    device = 'cuda'\n",
        "    correct = 0\n",
        "    processed = 0\n",
        "    train_loss = 0\n",
        "    for batch_idx, (data, target) in enumerate(pbar):\n",
        "      data, target = data.to(device), target.to(device)\n",
        "      optimizer.zero_grad()\n",
        "      y_pred = model(data)\n",
        "      loss = F.nll_loss(y_pred, target)\n",
        "      loss.backward()\n",
        "      optimizer.step()\n",
        "      pred = y_pred.argmax(dim=1, keepdim=True)  # get the index of the max log-probability\n",
        "      correct += pred.eq(target.view_as(pred)).sum().item()\n",
        "      processed += len(data)\n",
        "      pbar.set_description(desc= f'Loss={loss.item()} Batch_id={batch_idx} Accuracy={100*correct/processed:0.2f}')\n",
        "      train_loss += loss\n",
        "    train_acc.append(100*correct/processed)\n",
        "    train_losses.append(train_loss)\n",
        "\n",
        "    # return self.train_acc, self.train_loss\n",
        "\n",
        "def test(model):\n",
        "    model.eval()\n",
        "    test_loss = 0\n",
        "    correct = 0\n",
        "    device = 'cuda'\n",
        "    with torch.no_grad():\n",
        "        for data, target in test_loader:\n",
        "            data, target = data.to(device), target.to(device)\n",
        "            output = model(data)\n",
        "            test_loss += F.nll_loss(output, target, reduction='sum').item()  # sum up batch loss\n",
        "            pred = output.argmax(dim=1, keepdim=True)  # get the index of the max log-probability\n",
        "            correct += pred.eq(target.view_as(pred)).sum().item()\n",
        "\n",
        "    test_loss /= len(test_loader.dataset)\n",
        "    test_losses.append(test_loss)\n",
        "\n",
        "    print('\\nTest set: Average loss: {:.4f}, Accuracy: {}/{} ({:.2f}%)\\n'.format(\n",
        "        test_loss, correct, len(test_loader.dataset),\n",
        "        100. * correct / len(test_loader.dataset)))\n",
        "\n",
        "    test_acc.append(100. * correct / len(test_loader.dataset))\n",
        "\n",
        "def execute_model(model,save_best_model = False):\n",
        "    for epoch in range(epochs):\n",
        "        # best_accuracy = []\n",
        "        \n",
        "        print(\"EPOCH:\", epoch)\n",
        "        train(model)\n",
        "        scheduler.step()\n",
        "        test(model)\n",
        "        if save_best_model == True:\n",
        "            best_accuracy = max(test_acc)\n",
        "            current_accuracy = test_acc[-1]\n",
        "            print(best_accuracy,current_accuracy)\n",
        "            if current_accuracy == best_accuracy or current_accuracy > best_accuracy:\n",
        "                torch.save(model.state_dict(), path)\n",
        "                print('Saving model here')\n",
        "\n",
        "def plot_curves(a,log = False):    \n",
        "    assert type(a) == str\n",
        "    plt.figure(figsize = (15,5))\n",
        "    plt.subplot(121)\n",
        "    plt.plot(train_acc)\n",
        "    plt.plot(test_acc)\n",
        "    if log == True:\n",
        "      plt.yscale('log')\n",
        "    plt.title(a+' Accuracy Curves')\n",
        "    plt.legend(['Train','Validation'])\n",
        "\n",
        "    plt.subplot(122)\n",
        "    plt.plot(train_losses)\n",
        "    plt.plot(test_losses)\n",
        "    if log == True:\n",
        "      plt.yscale('log')\n",
        "    plt.title(a+' Loss Curves')\n",
        "    plt.legend(['Train','Validation'])\n",
        "    plt.show()\n",
        "\n",
        "train_losses = []\n",
        "test_losses = []\n",
        "train_acc = []\n",
        "test_acc = []"
      ],
      "execution_count": null,
      "outputs": []
    },
    {
      "cell_type": "markdown",
      "source": [
        "#### TRAIN FUNCTION SUBSET"
      ],
      "metadata": {
        "id": "YtWMZyVG5BHq"
      }
    },
    {
      "cell_type": "code",
      "source": [
        "def train(model):\n",
        "    # print('working')\n",
        "    model.train()\n",
        "    pbar = tqdm(train_loader)\n",
        "    correct = 0\n",
        "    processed = 0\n",
        "    train_loss = 0\n",
        "    for batch_idx, (data, target) in enumerate(pbar):\n",
        "      data, target = data.to(device), target.to(device)\n",
        "      optimizer.zero_grad()\n",
        "      y_pred = model(data)\n",
        "      loss = F.nll_loss(y_pred, target)\n",
        "      loss.backward()\n",
        "      optimizer.step()\n",
        "      pred = y_pred.argmax(dim=1, keepdim=True)  # get the index of the max log-probability\n",
        "      correct += pred.eq(target.view_as(pred)).sum().item()\n",
        "      processed += len(data)\n",
        "      pbar.set_description(desc= f'Loss={loss.item()} Batch_id={batch_idx} Accuracy={100*correct/processed:0.2f}')\n",
        "      train_loss += loss\n",
        "    optimizer.swap_swa_sgd() # extra code to add the stochaism\n",
        "    train_acc.append(100*correct/processed)\n",
        "    train_losses.append(train_loss)\n",
        "\n",
        "    # return self.train_acc, self.train_loss\n",
        "\n",
        "def test(model):\n",
        "    model.eval()\n",
        "    test_loss = 0\n",
        "    correct = 0\n",
        "    with torch.no_grad():\n",
        "        for data, target in test_loader:\n",
        "            data, target = data.to(device), target.to(device)\n",
        "            output = model(data)\n",
        "            test_loss += F.nll_loss(output, target, reduction='sum').item()  # sum up batch loss\n",
        "            pred = output.argmax(dim=1, keepdim=True)  # get the index of the max log-probability\n",
        "            correct += pred.eq(target.view_as(pred)).sum().item()\n",
        "\n",
        "    test_loss /= len(test_loader.dataset)\n",
        "    test_losses.append(test_loss)\n",
        "\n",
        "    print('\\nTest set: Average loss: {:.4f}, Accuracy: {}/{} ({:.2f}%)\\n'.format(\n",
        "        test_loss, correct, len(test_loader.dataset),\n",
        "        100. * correct / len(test_loader.dataset)))\n",
        "\n",
        "    test_acc.append(100. * correct / len(test_loader.dataset))\n",
        "\n",
        "def execute_model(model,save_best_model = False):\n",
        "    for epoch in range(epochs):\n",
        "        print(\"EPOCH:\", epoch)\n",
        "        train(model)\n",
        "        scheduler.step()\n",
        "        test(model)\n",
        "        if save_best_model == True:\n",
        "            best_accuracy = max(test_acc)\n",
        "            current_accuracy = test_acc[-1]\n",
        "            print(best_accuracy,current_accuracy)\n",
        "            if current_accuracy == best_accuracy or current_accuracy > best_accuracy:\n",
        "                torch.save(model.state_dict(), path)\n",
        "                print('Saving model here')\n",
        "\n",
        "def plot_curves(a,log = False):    \n",
        "    assert type(a) == str\n",
        "    plt.figure(figsize = (15,5))\n",
        "    plt.subplot(121)\n",
        "    plt.plot(train_acc)\n",
        "    plt.plot(test_acc)\n",
        "    if log == True:\n",
        "      plt.yscale('log')\n",
        "    plt.title(a+' Accuracy Curves')\n",
        "    plt.legend(['Train','Validation'])\n",
        "\n",
        "    plt.subplot(122)\n",
        "    plt.plot(train_losses)\n",
        "    plt.plot(test_losses)\n",
        "    if log == True:\n",
        "      plt.yscale('log')\n",
        "    plt.title(a+' Loss Curves')\n",
        "    plt.legend(['Train','Validation'])\n",
        "    plt.show()\n",
        "\n",
        "train_losses = []\n",
        "test_losses = []\n",
        "train_acc = []\n",
        "test_acc = []"
      ],
      "metadata": {
        "id": "Y9kaMea15C8T"
      },
      "execution_count": null,
      "outputs": []
    },
    {
      "cell_type": "code",
      "source": [
        "epochs = 100\n",
        "device = 'cuda'\n",
        "opt = optim.Adam(m.parameters(), lr = 0.01)\n",
        "optimizer = SWA(opt, swa_start=50, swa_freq=3, swa_lr=0.05)\n",
        "scheduler = StepLR(optimizer, step_size=5, gamma=0.1)\n",
        "path = './quantization/pytorch_model/pyswa_mnist.pth'\n",
        "execute_model(m, save_best_model=True)"
      ],
      "metadata": {
        "colab": {
          "base_uri": "https://localhost:8080/"
        },
        "id": "NdpTH1bO5MUK",
        "outputId": "77649961-17ad-4317-ae82-777a8386ba6c"
      },
      "execution_count": null,
      "outputs": [
        {
          "output_type": "stream",
          "name": "stdout",
          "text": [
            "EPOCH: 0\n"
          ]
        },
        {
          "output_type": "stream",
          "name": "stderr",
          "text": [
            "\r  0%|          | 0/352 [00:00<?, ?it/s]/usr/local/lib/python3.7/dist-packages/torch/utils/data/dataloader.py:481: UserWarning: This DataLoader will create 4 worker processes in total. Our suggested max number of worker in current system is 2, which is smaller than what this DataLoader is going to create. Please be aware that excessive worker creation might get DataLoader running slow or even freeze, lower the worker number to avoid potential slowness/freeze if necessary.\n",
            "  cpuset_checked))\n",
            "Loss=0.13514575362205505 Batch_id=351 Accuracy=84.42: 100%|██████████| 352/352 [00:13<00:00, 25.30it/s]\n"
          ]
        },
        {
          "output_type": "stream",
          "name": "stdout",
          "text": [
            "\n",
            "Test set: Average loss: 6.1780, Accuracy: 1636/10000 (16.36%)\n",
            "\n",
            "16.36 16.36\n",
            "Saving model here\n",
            "EPOCH: 1\n"
          ]
        },
        {
          "output_type": "stream",
          "name": "stderr",
          "text": [
            "Loss=0.1623702347278595 Batch_id=351 Accuracy=93.98: 100%|██████████| 352/352 [00:13<00:00, 25.58it/s]\n"
          ]
        },
        {
          "output_type": "stream",
          "name": "stdout",
          "text": [
            "\n",
            "Test set: Average loss: 3.8750, Accuracy: 3714/10000 (37.14%)\n",
            "\n",
            "37.14 37.14\n",
            "Saving model here\n",
            "EPOCH: 2\n"
          ]
        },
        {
          "output_type": "stream",
          "name": "stderr",
          "text": [
            "Loss=0.08116363734006882 Batch_id=351 Accuracy=94.89: 100%|██████████| 352/352 [00:13<00:00, 25.41it/s]\n"
          ]
        },
        {
          "output_type": "stream",
          "name": "stdout",
          "text": [
            "\n",
            "Test set: Average loss: 7.3204, Accuracy: 1283/10000 (12.83%)\n",
            "\n",
            "37.14 12.83\n",
            "EPOCH: 3\n"
          ]
        },
        {
          "output_type": "stream",
          "name": "stderr",
          "text": [
            "Loss=0.08575272560119629 Batch_id=351 Accuracy=95.29: 100%|██████████| 352/352 [00:13<00:00, 25.45it/s]\n"
          ]
        },
        {
          "output_type": "stream",
          "name": "stdout",
          "text": [
            "\n",
            "Test set: Average loss: 4.7359, Accuracy: 2821/10000 (28.21%)\n",
            "\n",
            "37.14 28.21\n",
            "EPOCH: 4\n"
          ]
        },
        {
          "output_type": "stream",
          "name": "stderr",
          "text": [
            "Loss=0.10778459161520004 Batch_id=351 Accuracy=95.66: 100%|██████████| 352/352 [00:13<00:00, 25.39it/s]\n"
          ]
        },
        {
          "output_type": "stream",
          "name": "stdout",
          "text": [
            "\n",
            "Test set: Average loss: 1.0399, Accuracy: 6479/10000 (64.79%)\n",
            "\n",
            "64.79 64.79\n",
            "Saving model here\n",
            "EPOCH: 5\n"
          ]
        },
        {
          "output_type": "stream",
          "name": "stderr",
          "text": [
            "Loss=0.27189144492149353 Batch_id=351 Accuracy=95.96: 100%|██████████| 352/352 [00:15<00:00, 22.73it/s]\n"
          ]
        },
        {
          "output_type": "stream",
          "name": "stdout",
          "text": [
            "\n",
            "Test set: Average loss: 1.7713, Accuracy: 5011/10000 (50.11%)\n",
            "\n",
            "64.79 50.11\n",
            "EPOCH: 6\n"
          ]
        },
        {
          "output_type": "stream",
          "name": "stderr",
          "text": [
            "Loss=0.08003214001655579 Batch_id=351 Accuracy=95.98: 100%|██████████| 352/352 [00:14<00:00, 25.14it/s]\n"
          ]
        },
        {
          "output_type": "stream",
          "name": "stdout",
          "text": [
            "\n",
            "Test set: Average loss: 0.7718, Accuracy: 7325/10000 (73.25%)\n",
            "\n",
            "73.25 73.25\n",
            "Saving model here\n",
            "EPOCH: 7\n"
          ]
        },
        {
          "output_type": "stream",
          "name": "stderr",
          "text": [
            "Loss=0.20577695965766907 Batch_id=351 Accuracy=96.20: 100%|██████████| 352/352 [00:14<00:00, 25.03it/s]\n"
          ]
        },
        {
          "output_type": "stream",
          "name": "stdout",
          "text": [
            "\n",
            "Test set: Average loss: 6.6860, Accuracy: 1778/10000 (17.78%)\n",
            "\n",
            "73.25 17.78\n",
            "EPOCH: 8\n"
          ]
        },
        {
          "output_type": "stream",
          "name": "stderr",
          "text": [
            "Loss=0.06045835465192795 Batch_id=351 Accuracy=96.24: 100%|██████████| 352/352 [00:13<00:00, 25.20it/s]\n"
          ]
        },
        {
          "output_type": "stream",
          "name": "stdout",
          "text": [
            "\n",
            "Test set: Average loss: 2.5755, Accuracy: 2837/10000 (28.37%)\n",
            "\n",
            "73.25 28.37\n",
            "EPOCH: 9\n"
          ]
        },
        {
          "output_type": "stream",
          "name": "stderr",
          "text": [
            "Loss=0.3137270212173462 Batch_id=351 Accuracy=96.46: 100%|██████████| 352/352 [00:14<00:00, 25.12it/s]\n"
          ]
        },
        {
          "output_type": "stream",
          "name": "stdout",
          "text": [
            "\n",
            "Test set: Average loss: 5.2482, Accuracy: 2753/10000 (27.53%)\n",
            "\n",
            "73.25 27.53\n",
            "EPOCH: 10\n"
          ]
        },
        {
          "output_type": "stream",
          "name": "stderr",
          "text": [
            "Loss=0.11554417014122009 Batch_id=351 Accuracy=96.43: 100%|██████████| 352/352 [00:14<00:00, 24.93it/s]\n"
          ]
        },
        {
          "output_type": "stream",
          "name": "stdout",
          "text": [
            "\n",
            "Test set: Average loss: 0.9069, Accuracy: 7406/10000 (74.06%)\n",
            "\n",
            "74.06 74.06\n",
            "Saving model here\n",
            "EPOCH: 11\n"
          ]
        },
        {
          "output_type": "stream",
          "name": "stderr",
          "text": [
            "Loss=0.1886400580406189 Batch_id=351 Accuracy=96.67: 100%|██████████| 352/352 [00:14<00:00, 24.91it/s]\n"
          ]
        },
        {
          "output_type": "stream",
          "name": "stdout",
          "text": [
            "\n",
            "Test set: Average loss: 0.4323, Accuracy: 8588/10000 (85.88%)\n",
            "\n",
            "85.88 85.88\n",
            "Saving model here\n",
            "EPOCH: 12\n"
          ]
        },
        {
          "output_type": "stream",
          "name": "stderr",
          "text": [
            "Loss=0.0625610202550888 Batch_id=351 Accuracy=96.53: 100%|██████████| 352/352 [00:13<00:00, 25.15it/s]\n"
          ]
        },
        {
          "output_type": "stream",
          "name": "stdout",
          "text": [
            "\n",
            "Test set: Average loss: 1.6404, Accuracy: 5413/10000 (54.13%)\n",
            "\n",
            "85.88 54.13\n",
            "EPOCH: 13\n"
          ]
        },
        {
          "output_type": "stream",
          "name": "stderr",
          "text": [
            "Loss=0.1173611730337143 Batch_id=351 Accuracy=96.72: 100%|██████████| 352/352 [00:14<00:00, 24.75it/s]\n"
          ]
        },
        {
          "output_type": "stream",
          "name": "stdout",
          "text": [
            "\n",
            "Test set: Average loss: 1.3194, Accuracy: 6510/10000 (65.10%)\n",
            "\n",
            "85.88 65.1\n",
            "EPOCH: 14\n"
          ]
        },
        {
          "output_type": "stream",
          "name": "stderr",
          "text": [
            "Loss=0.0931302085518837 Batch_id=351 Accuracy=96.80: 100%|██████████| 352/352 [00:14<00:00, 24.98it/s]\n"
          ]
        },
        {
          "output_type": "stream",
          "name": "stdout",
          "text": [
            "\n",
            "Test set: Average loss: 0.5303, Accuracy: 8011/10000 (80.11%)\n",
            "\n",
            "85.88 80.11\n",
            "EPOCH: 15\n"
          ]
        },
        {
          "output_type": "stream",
          "name": "stderr",
          "text": [
            "Loss=0.10266578942537308 Batch_id=351 Accuracy=96.92: 100%|██████████| 352/352 [00:14<00:00, 24.96it/s]\n"
          ]
        },
        {
          "output_type": "stream",
          "name": "stdout",
          "text": [
            "\n",
            "Test set: Average loss: 1.7768, Accuracy: 6098/10000 (60.98%)\n",
            "\n",
            "85.88 60.98\n",
            "EPOCH: 16\n"
          ]
        },
        {
          "output_type": "stream",
          "name": "stderr",
          "text": [
            "Loss=0.015324986539781094 Batch_id=351 Accuracy=96.98: 100%|██████████| 352/352 [00:14<00:00, 24.68it/s]\n"
          ]
        },
        {
          "output_type": "stream",
          "name": "stdout",
          "text": [
            "\n",
            "Test set: Average loss: 0.3489, Accuracy: 8845/10000 (88.45%)\n",
            "\n",
            "88.45 88.45\n",
            "Saving model here\n",
            "EPOCH: 17\n"
          ]
        },
        {
          "output_type": "stream",
          "name": "stderr",
          "text": [
            "Loss=0.07101725041866302 Batch_id=351 Accuracy=96.92: 100%|██████████| 352/352 [00:14<00:00, 24.86it/s]\n"
          ]
        },
        {
          "output_type": "stream",
          "name": "stdout",
          "text": [
            "\n",
            "Test set: Average loss: 1.3337, Accuracy: 6701/10000 (67.01%)\n",
            "\n",
            "88.45 67.01\n",
            "EPOCH: 18\n"
          ]
        },
        {
          "output_type": "stream",
          "name": "stderr",
          "text": [
            "Loss=0.054743990302085876 Batch_id=351 Accuracy=97.02: 100%|██████████| 352/352 [00:14<00:00, 24.92it/s]\n"
          ]
        },
        {
          "output_type": "stream",
          "name": "stdout",
          "text": [
            "\n",
            "Test set: Average loss: 2.2164, Accuracy: 4393/10000 (43.93%)\n",
            "\n",
            "88.45 43.93\n",
            "EPOCH: 19\n"
          ]
        },
        {
          "output_type": "stream",
          "name": "stderr",
          "text": [
            "Loss=0.07801829278469086 Batch_id=351 Accuracy=97.00: 100%|██████████| 352/352 [00:14<00:00, 24.82it/s]\n"
          ]
        },
        {
          "output_type": "stream",
          "name": "stdout",
          "text": [
            "\n",
            "Test set: Average loss: 0.5336, Accuracy: 8450/10000 (84.50%)\n",
            "\n",
            "88.45 84.5\n",
            "EPOCH: 20\n"
          ]
        },
        {
          "output_type": "stream",
          "name": "stderr",
          "text": [
            "Loss=0.12755759060382843 Batch_id=351 Accuracy=97.04: 100%|██████████| 352/352 [00:14<00:00, 24.58it/s]\n"
          ]
        },
        {
          "output_type": "stream",
          "name": "stdout",
          "text": [
            "\n",
            "Test set: Average loss: 0.3549, Accuracy: 8860/10000 (88.60%)\n",
            "\n",
            "88.6 88.6\n",
            "Saving model here\n",
            "EPOCH: 21\n"
          ]
        },
        {
          "output_type": "stream",
          "name": "stderr",
          "text": [
            "Loss=0.046080734580755234 Batch_id=351 Accuracy=97.17: 100%|██████████| 352/352 [00:14<00:00, 24.79it/s]\n"
          ]
        },
        {
          "output_type": "stream",
          "name": "stdout",
          "text": [
            "\n",
            "Test set: Average loss: 0.5144, Accuracy: 8562/10000 (85.62%)\n",
            "\n",
            "88.6 85.62\n",
            "EPOCH: 22\n"
          ]
        },
        {
          "output_type": "stream",
          "name": "stderr",
          "text": [
            "Loss=0.054949887096881866 Batch_id=351 Accuracy=97.26: 100%|██████████| 352/352 [00:14<00:00, 24.86it/s]\n"
          ]
        },
        {
          "output_type": "stream",
          "name": "stdout",
          "text": [
            "\n",
            "Test set: Average loss: 0.8898, Accuracy: 7129/10000 (71.29%)\n",
            "\n",
            "88.6 71.29\n",
            "EPOCH: 23\n"
          ]
        },
        {
          "output_type": "stream",
          "name": "stderr",
          "text": [
            "Loss=0.09408777952194214 Batch_id=351 Accuracy=97.21: 100%|██████████| 352/352 [00:14<00:00, 24.66it/s]\n"
          ]
        },
        {
          "output_type": "stream",
          "name": "stdout",
          "text": [
            "\n",
            "Test set: Average loss: 0.1579, Accuracy: 9546/10000 (95.46%)\n",
            "\n",
            "95.46 95.46\n",
            "Saving model here\n",
            "EPOCH: 24\n"
          ]
        },
        {
          "output_type": "stream",
          "name": "stderr",
          "text": [
            "Loss=0.03556250035762787 Batch_id=351 Accuracy=97.35: 100%|██████████| 352/352 [00:14<00:00, 24.74it/s]\n"
          ]
        },
        {
          "output_type": "stream",
          "name": "stdout",
          "text": [
            "\n",
            "Test set: Average loss: 0.8115, Accuracy: 7384/10000 (73.84%)\n",
            "\n",
            "95.46 73.84\n",
            "EPOCH: 25\n"
          ]
        },
        {
          "output_type": "stream",
          "name": "stderr",
          "text": [
            "Loss=0.20202070474624634 Batch_id=351 Accuracy=97.17: 100%|██████████| 352/352 [00:14<00:00, 25.06it/s]\n"
          ]
        },
        {
          "output_type": "stream",
          "name": "stdout",
          "text": [
            "\n",
            "Test set: Average loss: 0.1832, Accuracy: 9459/10000 (94.59%)\n",
            "\n",
            "95.46 94.59\n",
            "EPOCH: 26\n"
          ]
        },
        {
          "output_type": "stream",
          "name": "stderr",
          "text": [
            "Loss=0.08788469433784485 Batch_id=351 Accuracy=97.29: 100%|██████████| 352/352 [00:14<00:00, 24.61it/s]\n"
          ]
        },
        {
          "output_type": "stream",
          "name": "stdout",
          "text": [
            "\n",
            "Test set: Average loss: 1.3559, Accuracy: 5866/10000 (58.66%)\n",
            "\n",
            "95.46 58.66\n",
            "EPOCH: 27\n"
          ]
        },
        {
          "output_type": "stream",
          "name": "stderr",
          "text": [
            "Loss=0.3287287652492523 Batch_id=351 Accuracy=97.27: 100%|██████████| 352/352 [00:14<00:00, 24.85it/s]\n"
          ]
        },
        {
          "output_type": "stream",
          "name": "stdout",
          "text": [
            "\n",
            "Test set: Average loss: 0.5596, Accuracy: 8626/10000 (86.26%)\n",
            "\n",
            "95.46 86.26\n",
            "EPOCH: 28\n"
          ]
        },
        {
          "output_type": "stream",
          "name": "stderr",
          "text": [
            "Loss=0.027930239215493202 Batch_id=351 Accuracy=97.40: 100%|██████████| 352/352 [00:14<00:00, 24.51it/s]\n"
          ]
        },
        {
          "output_type": "stream",
          "name": "stdout",
          "text": [
            "\n",
            "Test set: Average loss: 0.2336, Accuracy: 9278/10000 (92.78%)\n",
            "\n",
            "95.46 92.78\n",
            "EPOCH: 29\n"
          ]
        },
        {
          "output_type": "stream",
          "name": "stderr",
          "text": [
            "Loss=0.15756607055664062 Batch_id=351 Accuracy=97.48: 100%|██████████| 352/352 [00:14<00:00, 24.93it/s]\n"
          ]
        },
        {
          "output_type": "stream",
          "name": "stdout",
          "text": [
            "\n",
            "Test set: Average loss: 0.6903, Accuracy: 8331/10000 (83.31%)\n",
            "\n",
            "95.46 83.31\n",
            "EPOCH: 30\n"
          ]
        },
        {
          "output_type": "stream",
          "name": "stderr",
          "text": [
            "Loss=0.04519461840391159 Batch_id=351 Accuracy=97.23: 100%|██████████| 352/352 [00:14<00:00, 24.84it/s]\n"
          ]
        },
        {
          "output_type": "stream",
          "name": "stdout",
          "text": [
            "\n",
            "Test set: Average loss: 0.4721, Accuracy: 8561/10000 (85.61%)\n",
            "\n",
            "95.46 85.61\n",
            "EPOCH: 31\n"
          ]
        },
        {
          "output_type": "stream",
          "name": "stderr",
          "text": [
            "Loss=0.10053817182779312 Batch_id=351 Accuracy=97.32: 100%|██████████| 352/352 [00:14<00:00, 24.74it/s]\n"
          ]
        },
        {
          "output_type": "stream",
          "name": "stdout",
          "text": [
            "\n",
            "Test set: Average loss: 0.6684, Accuracy: 8068/10000 (80.68%)\n",
            "\n",
            "95.46 80.68\n",
            "EPOCH: 32\n"
          ]
        },
        {
          "output_type": "stream",
          "name": "stderr",
          "text": [
            "Loss=0.06853792071342468 Batch_id=351 Accuracy=97.44: 100%|██████████| 352/352 [00:14<00:00, 24.73it/s]\n"
          ]
        },
        {
          "output_type": "stream",
          "name": "stdout",
          "text": [
            "\n",
            "Test set: Average loss: 0.2641, Accuracy: 9158/10000 (91.58%)\n",
            "\n",
            "95.46 91.58\n",
            "EPOCH: 33\n"
          ]
        },
        {
          "output_type": "stream",
          "name": "stderr",
          "text": [
            "Loss=0.10778115689754486 Batch_id=351 Accuracy=97.58: 100%|██████████| 352/352 [00:14<00:00, 24.59it/s]\n"
          ]
        },
        {
          "output_type": "stream",
          "name": "stdout",
          "text": [
            "\n",
            "Test set: Average loss: 0.9801, Accuracy: 7542/10000 (75.42%)\n",
            "\n",
            "95.46 75.42\n",
            "EPOCH: 34\n"
          ]
        },
        {
          "output_type": "stream",
          "name": "stderr",
          "text": [
            "Loss=0.07457248121500015 Batch_id=351 Accuracy=97.61: 100%|██████████| 352/352 [00:14<00:00, 24.58it/s]\n"
          ]
        },
        {
          "output_type": "stream",
          "name": "stdout",
          "text": [
            "\n",
            "Test set: Average loss: 0.1427, Accuracy: 9539/10000 (95.39%)\n",
            "\n",
            "95.46 95.39\n",
            "EPOCH: 35\n"
          ]
        },
        {
          "output_type": "stream",
          "name": "stderr",
          "text": [
            "Loss=0.03665432706475258 Batch_id=351 Accuracy=97.37: 100%|██████████| 352/352 [00:14<00:00, 24.22it/s]\n"
          ]
        },
        {
          "output_type": "stream",
          "name": "stdout",
          "text": [
            "\n",
            "Test set: Average loss: 0.7187, Accuracy: 8028/10000 (80.28%)\n",
            "\n",
            "95.46 80.28\n",
            "EPOCH: 36\n"
          ]
        },
        {
          "output_type": "stream",
          "name": "stderr",
          "text": [
            "Loss=0.07666714489459991 Batch_id=351 Accuracy=97.56: 100%|██████████| 352/352 [00:14<00:00, 24.35it/s]\n"
          ]
        },
        {
          "output_type": "stream",
          "name": "stdout",
          "text": [
            "\n",
            "Test set: Average loss: 0.2778, Accuracy: 9155/10000 (91.55%)\n",
            "\n",
            "95.46 91.55\n",
            "EPOCH: 37\n"
          ]
        },
        {
          "output_type": "stream",
          "name": "stderr",
          "text": [
            "Loss=0.010019046254456043 Batch_id=351 Accuracy=97.49: 100%|██████████| 352/352 [00:14<00:00, 24.38it/s]\n"
          ]
        },
        {
          "output_type": "stream",
          "name": "stdout",
          "text": [
            "\n",
            "Test set: Average loss: 0.8692, Accuracy: 7407/10000 (74.07%)\n",
            "\n",
            "95.46 74.07\n",
            "EPOCH: 38\n"
          ]
        },
        {
          "output_type": "stream",
          "name": "stderr",
          "text": [
            "Loss=0.07366441935300827 Batch_id=351 Accuracy=97.54: 100%|██████████| 352/352 [00:14<00:00, 24.53it/s]\n"
          ]
        },
        {
          "output_type": "stream",
          "name": "stdout",
          "text": [
            "\n",
            "Test set: Average loss: 0.0890, Accuracy: 9725/10000 (97.25%)\n",
            "\n",
            "97.25 97.25\n",
            "Saving model here\n",
            "EPOCH: 39\n"
          ]
        },
        {
          "output_type": "stream",
          "name": "stderr",
          "text": [
            "Loss=0.14884859323501587 Batch_id=351 Accuracy=97.56: 100%|██████████| 352/352 [00:14<00:00, 24.34it/s]\n"
          ]
        },
        {
          "output_type": "stream",
          "name": "stdout",
          "text": [
            "\n",
            "Test set: Average loss: 2.1767, Accuracy: 5470/10000 (54.70%)\n",
            "\n",
            "97.25 54.7\n",
            "EPOCH: 40\n"
          ]
        },
        {
          "output_type": "stream",
          "name": "stderr",
          "text": [
            "Loss=0.1300661414861679 Batch_id=351 Accuracy=97.57: 100%|██████████| 352/352 [00:14<00:00, 24.26it/s]\n"
          ]
        },
        {
          "output_type": "stream",
          "name": "stdout",
          "text": [
            "\n",
            "Test set: Average loss: 0.5911, Accuracy: 8067/10000 (80.67%)\n",
            "\n",
            "97.25 80.67\n",
            "EPOCH: 41\n"
          ]
        },
        {
          "output_type": "stream",
          "name": "stderr",
          "text": [
            "Loss=0.04224634915590286 Batch_id=351 Accuracy=97.67: 100%|██████████| 352/352 [00:14<00:00, 24.38it/s]\n"
          ]
        },
        {
          "output_type": "stream",
          "name": "stdout",
          "text": [
            "\n",
            "Test set: Average loss: 0.2087, Accuracy: 9315/10000 (93.15%)\n",
            "\n",
            "97.25 93.15\n",
            "EPOCH: 42\n"
          ]
        },
        {
          "output_type": "stream",
          "name": "stderr",
          "text": [
            "Loss=0.02031305991113186 Batch_id=351 Accuracy=97.56: 100%|██████████| 352/352 [00:14<00:00, 24.11it/s]\n"
          ]
        },
        {
          "output_type": "stream",
          "name": "stdout",
          "text": [
            "\n",
            "Test set: Average loss: 0.6458, Accuracy: 8132/10000 (81.32%)\n",
            "\n",
            "97.25 81.32\n",
            "EPOCH: 43\n"
          ]
        },
        {
          "output_type": "stream",
          "name": "stderr",
          "text": [
            "Loss=0.05565920099616051 Batch_id=351 Accuracy=97.67: 100%|██████████| 352/352 [00:14<00:00, 24.45it/s]\n"
          ]
        },
        {
          "output_type": "stream",
          "name": "stdout",
          "text": [
            "\n",
            "Test set: Average loss: 3.5121, Accuracy: 4362/10000 (43.62%)\n",
            "\n",
            "97.25 43.62\n",
            "EPOCH: 44\n"
          ]
        },
        {
          "output_type": "stream",
          "name": "stderr",
          "text": [
            "Loss=0.04264393448829651 Batch_id=351 Accuracy=97.68: 100%|██████████| 352/352 [00:14<00:00, 24.15it/s]\n"
          ]
        },
        {
          "output_type": "stream",
          "name": "stdout",
          "text": [
            "\n",
            "Test set: Average loss: 1.4022, Accuracy: 7107/10000 (71.07%)\n",
            "\n",
            "97.25 71.07\n",
            "EPOCH: 45\n"
          ]
        },
        {
          "output_type": "stream",
          "name": "stderr",
          "text": [
            "Loss=0.10058204084634781 Batch_id=351 Accuracy=97.71: 100%|██████████| 352/352 [00:14<00:00, 24.08it/s]\n"
          ]
        },
        {
          "output_type": "stream",
          "name": "stdout",
          "text": [
            "\n",
            "Test set: Average loss: 0.3516, Accuracy: 8979/10000 (89.79%)\n",
            "\n",
            "97.25 89.79\n",
            "EPOCH: 46\n"
          ]
        },
        {
          "output_type": "stream",
          "name": "stderr",
          "text": [
            "Loss=0.09006381779909134 Batch_id=351 Accuracy=97.66: 100%|██████████| 352/352 [00:14<00:00, 23.97it/s]\n"
          ]
        },
        {
          "output_type": "stream",
          "name": "stdout",
          "text": [
            "\n",
            "Test set: Average loss: 0.5359, Accuracy: 8286/10000 (82.86%)\n",
            "\n",
            "97.25 82.86\n",
            "EPOCH: 47\n"
          ]
        },
        {
          "output_type": "stream",
          "name": "stderr",
          "text": [
            "Loss=0.07265788316726685 Batch_id=351 Accuracy=97.65: 100%|██████████| 352/352 [00:14<00:00, 24.06it/s]\n"
          ]
        },
        {
          "output_type": "stream",
          "name": "stdout",
          "text": [
            "\n",
            "Test set: Average loss: 0.7580, Accuracy: 8063/10000 (80.63%)\n",
            "\n",
            "97.25 80.63\n",
            "EPOCH: 48\n"
          ]
        },
        {
          "output_type": "stream",
          "name": "stderr",
          "text": [
            "Loss=0.0830678716301918 Batch_id=351 Accuracy=97.65: 100%|██████████| 352/352 [00:14<00:00, 23.96it/s]\n"
          ]
        },
        {
          "output_type": "stream",
          "name": "stdout",
          "text": [
            "\n",
            "Test set: Average loss: 0.2869, Accuracy: 9002/10000 (90.02%)\n",
            "\n",
            "97.25 90.02\n",
            "EPOCH: 49\n"
          ]
        },
        {
          "output_type": "stream",
          "name": "stderr",
          "text": [
            "Loss=0.16221779584884644 Batch_id=351 Accuracy=97.75: 100%|██████████| 352/352 [00:14<00:00, 24.34it/s]\n"
          ]
        },
        {
          "output_type": "stream",
          "name": "stdout",
          "text": [
            "\n",
            "Test set: Average loss: 0.2009, Accuracy: 9424/10000 (94.24%)\n",
            "\n",
            "97.25 94.24\n",
            "EPOCH: 50\n"
          ]
        },
        {
          "output_type": "stream",
          "name": "stderr",
          "text": [
            "Loss=0.024730056524276733 Batch_id=351 Accuracy=97.64: 100%|██████████| 352/352 [00:14<00:00, 24.08it/s]\n"
          ]
        },
        {
          "output_type": "stream",
          "name": "stdout",
          "text": [
            "\n",
            "Test set: Average loss: 0.2029, Accuracy: 9373/10000 (93.73%)\n",
            "\n",
            "97.25 93.73\n",
            "EPOCH: 51\n"
          ]
        },
        {
          "output_type": "stream",
          "name": "stderr",
          "text": [
            "Loss=0.09183564782142639 Batch_id=351 Accuracy=97.78: 100%|██████████| 352/352 [00:14<00:00, 24.43it/s]\n"
          ]
        },
        {
          "output_type": "stream",
          "name": "stdout",
          "text": [
            "\n",
            "Test set: Average loss: 0.2893, Accuracy: 9176/10000 (91.76%)\n",
            "\n",
            "97.25 91.76\n",
            "EPOCH: 52\n"
          ]
        },
        {
          "output_type": "stream",
          "name": "stderr",
          "text": [
            "Loss=0.0725444033741951 Batch_id=351 Accuracy=97.59: 100%|██████████| 352/352 [00:14<00:00, 24.46it/s]\n"
          ]
        },
        {
          "output_type": "stream",
          "name": "stdout",
          "text": [
            "\n",
            "Test set: Average loss: 0.4588, Accuracy: 8545/10000 (85.45%)\n",
            "\n",
            "97.25 85.45\n",
            "EPOCH: 53\n"
          ]
        },
        {
          "output_type": "stream",
          "name": "stderr",
          "text": [
            "Loss=0.04898902773857117 Batch_id=351 Accuracy=97.68: 100%|██████████| 352/352 [00:14<00:00, 24.26it/s]\n"
          ]
        },
        {
          "output_type": "stream",
          "name": "stdout",
          "text": [
            "\n",
            "Test set: Average loss: 0.1279, Accuracy: 9639/10000 (96.39%)\n",
            "\n",
            "97.25 96.39\n",
            "EPOCH: 54\n"
          ]
        },
        {
          "output_type": "stream",
          "name": "stderr",
          "text": [
            "Loss=0.07743033766746521 Batch_id=351 Accuracy=97.87: 100%|██████████| 352/352 [00:14<00:00, 24.21it/s]\n"
          ]
        },
        {
          "output_type": "stream",
          "name": "stdout",
          "text": [
            "\n",
            "Test set: Average loss: 0.1375, Accuracy: 9576/10000 (95.76%)\n",
            "\n",
            "97.25 95.76\n",
            "EPOCH: 55\n"
          ]
        },
        {
          "output_type": "stream",
          "name": "stderr",
          "text": [
            "Loss=0.05263640359044075 Batch_id=351 Accuracy=97.81: 100%|██████████| 352/352 [00:14<00:00, 24.22it/s]\n"
          ]
        },
        {
          "output_type": "stream",
          "name": "stdout",
          "text": [
            "\n",
            "Test set: Average loss: 0.5395, Accuracy: 8573/10000 (85.73%)\n",
            "\n",
            "97.25 85.73\n",
            "EPOCH: 56\n"
          ]
        },
        {
          "output_type": "stream",
          "name": "stderr",
          "text": [
            "Loss=0.07455052435398102 Batch_id=351 Accuracy=97.83: 100%|██████████| 352/352 [00:14<00:00, 24.17it/s]\n"
          ]
        },
        {
          "output_type": "stream",
          "name": "stdout",
          "text": [
            "\n",
            "Test set: Average loss: 0.3651, Accuracy: 8915/10000 (89.15%)\n",
            "\n",
            "97.25 89.15\n",
            "EPOCH: 57\n"
          ]
        },
        {
          "output_type": "stream",
          "name": "stderr",
          "text": [
            "Loss=0.08463925868272781 Batch_id=351 Accuracy=97.82: 100%|██████████| 352/352 [00:14<00:00, 23.81it/s]\n"
          ]
        },
        {
          "output_type": "stream",
          "name": "stdout",
          "text": [
            "\n",
            "Test set: Average loss: 0.2581, Accuracy: 9166/10000 (91.66%)\n",
            "\n",
            "97.25 91.66\n",
            "EPOCH: 58\n"
          ]
        },
        {
          "output_type": "stream",
          "name": "stderr",
          "text": [
            "Loss=0.07204229384660721 Batch_id=351 Accuracy=97.76: 100%|██████████| 352/352 [00:14<00:00, 24.10it/s]\n"
          ]
        },
        {
          "output_type": "stream",
          "name": "stdout",
          "text": [
            "\n",
            "Test set: Average loss: 0.1572, Accuracy: 9513/10000 (95.13%)\n",
            "\n",
            "97.25 95.13\n",
            "EPOCH: 59\n"
          ]
        },
        {
          "output_type": "stream",
          "name": "stderr",
          "text": [
            "Loss=0.054816097021102905 Batch_id=351 Accuracy=97.88: 100%|██████████| 352/352 [00:14<00:00, 24.13it/s]\n"
          ]
        },
        {
          "output_type": "stream",
          "name": "stdout",
          "text": [
            "\n",
            "Test set: Average loss: 0.8478, Accuracy: 7756/10000 (77.56%)\n",
            "\n",
            "97.25 77.56\n",
            "EPOCH: 60\n"
          ]
        },
        {
          "output_type": "stream",
          "name": "stderr",
          "text": [
            "Loss=0.07496581226587296 Batch_id=351 Accuracy=97.80: 100%|██████████| 352/352 [00:14<00:00, 24.20it/s]\n"
          ]
        },
        {
          "output_type": "stream",
          "name": "stdout",
          "text": [
            "\n",
            "Test set: Average loss: 0.2863, Accuracy: 9061/10000 (90.61%)\n",
            "\n",
            "97.25 90.61\n",
            "EPOCH: 61\n"
          ]
        },
        {
          "output_type": "stream",
          "name": "stderr",
          "text": [
            "Loss=0.047827694565057755 Batch_id=351 Accuracy=97.86: 100%|██████████| 352/352 [00:14<00:00, 23.96it/s]\n"
          ]
        },
        {
          "output_type": "stream",
          "name": "stdout",
          "text": [
            "\n",
            "Test set: Average loss: 0.8793, Accuracy: 7848/10000 (78.48%)\n",
            "\n",
            "97.25 78.48\n",
            "EPOCH: 62\n"
          ]
        },
        {
          "output_type": "stream",
          "name": "stderr",
          "text": [
            "Loss=0.04814360663294792 Batch_id=351 Accuracy=97.72: 100%|██████████| 352/352 [00:15<00:00, 23.45it/s]\n"
          ]
        },
        {
          "output_type": "stream",
          "name": "stdout",
          "text": [
            "\n",
            "Test set: Average loss: 0.1693, Accuracy: 9471/10000 (94.71%)\n",
            "\n",
            "97.25 94.71\n",
            "EPOCH: 63\n"
          ]
        },
        {
          "output_type": "stream",
          "name": "stderr",
          "text": [
            "Loss=0.08441680669784546 Batch_id=351 Accuracy=97.92: 100%|██████████| 352/352 [00:15<00:00, 23.29it/s]\n"
          ]
        },
        {
          "output_type": "stream",
          "name": "stdout",
          "text": [
            "\n",
            "Test set: Average loss: 0.8365, Accuracy: 7710/10000 (77.10%)\n",
            "\n",
            "97.25 77.1\n",
            "EPOCH: 64\n"
          ]
        },
        {
          "output_type": "stream",
          "name": "stderr",
          "text": [
            "Loss=0.08790406584739685 Batch_id=351 Accuracy=97.90: 100%|██████████| 352/352 [00:15<00:00, 23.29it/s]\n"
          ]
        },
        {
          "output_type": "stream",
          "name": "stdout",
          "text": [
            "\n",
            "Test set: Average loss: 0.2356, Accuracy: 9233/10000 (92.33%)\n",
            "\n",
            "97.25 92.33\n",
            "EPOCH: 65\n"
          ]
        },
        {
          "output_type": "stream",
          "name": "stderr",
          "text": [
            "Loss=0.050615713000297546 Batch_id=351 Accuracy=97.85: 100%|██████████| 352/352 [00:14<00:00, 23.97it/s]\n"
          ]
        },
        {
          "output_type": "stream",
          "name": "stdout",
          "text": [
            "\n",
            "Test set: Average loss: 0.1268, Accuracy: 9631/10000 (96.31%)\n",
            "\n",
            "97.25 96.31\n",
            "EPOCH: 66\n"
          ]
        },
        {
          "output_type": "stream",
          "name": "stderr",
          "text": [
            "Loss=0.032613594084978104 Batch_id=351 Accuracy=97.90: 100%|██████████| 352/352 [00:14<00:00, 24.06it/s]\n"
          ]
        },
        {
          "output_type": "stream",
          "name": "stdout",
          "text": [
            "\n",
            "Test set: Average loss: 0.6588, Accuracy: 7974/10000 (79.74%)\n",
            "\n",
            "97.25 79.74\n",
            "EPOCH: 67\n"
          ]
        },
        {
          "output_type": "stream",
          "name": "stderr",
          "text": [
            "Loss=0.10210715234279633 Batch_id=351 Accuracy=97.99: 100%|██████████| 352/352 [00:14<00:00, 24.02it/s]\n"
          ]
        },
        {
          "output_type": "stream",
          "name": "stdout",
          "text": [
            "\n",
            "Test set: Average loss: 0.7646, Accuracy: 8106/10000 (81.06%)\n",
            "\n",
            "97.25 81.06\n",
            "EPOCH: 68\n"
          ]
        },
        {
          "output_type": "stream",
          "name": "stderr",
          "text": [
            "Loss=0.033275529742240906 Batch_id=351 Accuracy=97.97: 100%|██████████| 352/352 [00:14<00:00, 23.84it/s]\n"
          ]
        },
        {
          "output_type": "stream",
          "name": "stdout",
          "text": [
            "\n",
            "Test set: Average loss: 0.3187, Accuracy: 9019/10000 (90.19%)\n",
            "\n",
            "97.25 90.19\n",
            "EPOCH: 69\n"
          ]
        },
        {
          "output_type": "stream",
          "name": "stderr",
          "text": [
            "Loss=0.07921874523162842 Batch_id=351 Accuracy=98.00: 100%|██████████| 352/352 [00:14<00:00, 23.92it/s]\n"
          ]
        },
        {
          "output_type": "stream",
          "name": "stdout",
          "text": [
            "\n",
            "Test set: Average loss: 0.9416, Accuracy: 7715/10000 (77.15%)\n",
            "\n",
            "97.25 77.15\n",
            "EPOCH: 70\n"
          ]
        },
        {
          "output_type": "stream",
          "name": "stderr",
          "text": [
            "Loss=0.04017798602581024 Batch_id=351 Accuracy=97.90: 100%|██████████| 352/352 [00:14<00:00, 23.83it/s]\n"
          ]
        },
        {
          "output_type": "stream",
          "name": "stdout",
          "text": [
            "\n",
            "Test set: Average loss: 0.1466, Accuracy: 9532/10000 (95.32%)\n",
            "\n",
            "97.25 95.32\n",
            "EPOCH: 71\n"
          ]
        },
        {
          "output_type": "stream",
          "name": "stderr",
          "text": [
            "Loss=0.021118193864822388 Batch_id=351 Accuracy=97.90: 100%|██████████| 352/352 [00:14<00:00, 23.95it/s]\n"
          ]
        },
        {
          "output_type": "stream",
          "name": "stdout",
          "text": [
            "\n",
            "Test set: Average loss: 0.5749, Accuracy: 8480/10000 (84.80%)\n",
            "\n",
            "97.25 84.8\n",
            "EPOCH: 72\n"
          ]
        },
        {
          "output_type": "stream",
          "name": "stderr",
          "text": [
            "Loss=0.005150511395186186 Batch_id=351 Accuracy=97.99: 100%|██████████| 352/352 [00:14<00:00, 23.93it/s]\n"
          ]
        },
        {
          "output_type": "stream",
          "name": "stdout",
          "text": [
            "\n",
            "Test set: Average loss: 0.3939, Accuracy: 8738/10000 (87.38%)\n",
            "\n",
            "97.25 87.38\n",
            "EPOCH: 73\n"
          ]
        },
        {
          "output_type": "stream",
          "name": "stderr",
          "text": [
            "Loss=0.10197512805461884 Batch_id=351 Accuracy=97.90: 100%|██████████| 352/352 [00:14<00:00, 23.74it/s]\n"
          ]
        },
        {
          "output_type": "stream",
          "name": "stdout",
          "text": [
            "\n",
            "Test set: Average loss: 0.2993, Accuracy: 9140/10000 (91.40%)\n",
            "\n",
            "97.25 91.4\n",
            "EPOCH: 74\n"
          ]
        },
        {
          "output_type": "stream",
          "name": "stderr",
          "text": [
            "Loss=0.02314073033630848 Batch_id=351 Accuracy=97.90: 100%|██████████| 352/352 [00:14<00:00, 23.90it/s]\n"
          ]
        },
        {
          "output_type": "stream",
          "name": "stdout",
          "text": [
            "\n",
            "Test set: Average loss: 0.2323, Accuracy: 9268/10000 (92.68%)\n",
            "\n",
            "97.25 92.68\n",
            "EPOCH: 75\n"
          ]
        },
        {
          "output_type": "stream",
          "name": "stderr",
          "text": [
            "Loss=0.38897475600242615 Batch_id=351 Accuracy=98.01: 100%|██████████| 352/352 [00:14<00:00, 23.67it/s]\n"
          ]
        },
        {
          "output_type": "stream",
          "name": "stdout",
          "text": [
            "\n",
            "Test set: Average loss: 0.2050, Accuracy: 9399/10000 (93.99%)\n",
            "\n",
            "97.25 93.99\n",
            "EPOCH: 76\n"
          ]
        },
        {
          "output_type": "stream",
          "name": "stderr",
          "text": [
            "Loss=0.044514402747154236 Batch_id=351 Accuracy=97.91: 100%|██████████| 352/352 [00:14<00:00, 23.68it/s]\n"
          ]
        },
        {
          "output_type": "stream",
          "name": "stdout",
          "text": [
            "\n",
            "Test set: Average loss: 0.3383, Accuracy: 8930/10000 (89.30%)\n",
            "\n",
            "97.25 89.3\n",
            "EPOCH: 77\n"
          ]
        },
        {
          "output_type": "stream",
          "name": "stderr",
          "text": [
            "Loss=0.11744502931833267 Batch_id=351 Accuracy=97.99: 100%|██████████| 352/352 [00:14<00:00, 23.70it/s]\n"
          ]
        },
        {
          "output_type": "stream",
          "name": "stdout",
          "text": [
            "\n",
            "Test set: Average loss: 0.3565, Accuracy: 8942/10000 (89.42%)\n",
            "\n",
            "97.25 89.42\n",
            "EPOCH: 78\n"
          ]
        },
        {
          "output_type": "stream",
          "name": "stderr",
          "text": [
            "Loss=0.09893939644098282 Batch_id=351 Accuracy=97.97: 100%|██████████| 352/352 [00:14<00:00, 23.88it/s]\n"
          ]
        },
        {
          "output_type": "stream",
          "name": "stdout",
          "text": [
            "\n",
            "Test set: Average loss: 0.2551, Accuracy: 9199/10000 (91.99%)\n",
            "\n",
            "97.25 91.99\n",
            "EPOCH: 79\n"
          ]
        },
        {
          "output_type": "stream",
          "name": "stderr",
          "text": [
            "Loss=0.09653875231742859 Batch_id=351 Accuracy=98.05: 100%|██████████| 352/352 [00:14<00:00, 23.68it/s]\n"
          ]
        },
        {
          "output_type": "stream",
          "name": "stdout",
          "text": [
            "\n",
            "Test set: Average loss: 0.3078, Accuracy: 9168/10000 (91.68%)\n",
            "\n",
            "97.25 91.68\n",
            "EPOCH: 80\n"
          ]
        },
        {
          "output_type": "stream",
          "name": "stderr",
          "text": [
            "Loss=0.03034301847219467 Batch_id=351 Accuracy=97.99: 100%|██████████| 352/352 [00:14<00:00, 23.76it/s]\n"
          ]
        },
        {
          "output_type": "stream",
          "name": "stdout",
          "text": [
            "\n",
            "Test set: Average loss: 0.7335, Accuracy: 7773/10000 (77.73%)\n",
            "\n",
            "97.25 77.73\n",
            "EPOCH: 81\n"
          ]
        },
        {
          "output_type": "stream",
          "name": "stderr",
          "text": [
            "Loss=0.03589803725481033 Batch_id=351 Accuracy=98.11: 100%|██████████| 352/352 [00:14<00:00, 23.77it/s]\n"
          ]
        },
        {
          "output_type": "stream",
          "name": "stdout",
          "text": [
            "\n",
            "Test set: Average loss: 0.5391, Accuracy: 8657/10000 (86.57%)\n",
            "\n",
            "97.25 86.57\n",
            "EPOCH: 82\n"
          ]
        },
        {
          "output_type": "stream",
          "name": "stderr",
          "text": [
            "Loss=0.020419826731085777 Batch_id=351 Accuracy=98.11: 100%|██████████| 352/352 [00:14<00:00, 23.93it/s]\n"
          ]
        },
        {
          "output_type": "stream",
          "name": "stdout",
          "text": [
            "\n",
            "Test set: Average loss: 0.3214, Accuracy: 8909/10000 (89.09%)\n",
            "\n",
            "97.25 89.09\n",
            "EPOCH: 83\n"
          ]
        },
        {
          "output_type": "stream",
          "name": "stderr",
          "text": [
            "Loss=0.012614483013749123 Batch_id=351 Accuracy=97.89: 100%|██████████| 352/352 [00:14<00:00, 23.84it/s]\n"
          ]
        },
        {
          "output_type": "stream",
          "name": "stdout",
          "text": [
            "\n",
            "Test set: Average loss: 0.2041, Accuracy: 9468/10000 (94.68%)\n",
            "\n",
            "97.25 94.68\n",
            "EPOCH: 84\n"
          ]
        },
        {
          "output_type": "stream",
          "name": "stderr",
          "text": [
            "Loss=0.05410466715693474 Batch_id=351 Accuracy=98.06: 100%|██████████| 352/352 [00:14<00:00, 23.85it/s]\n"
          ]
        },
        {
          "output_type": "stream",
          "name": "stdout",
          "text": [
            "\n",
            "Test set: Average loss: 0.4707, Accuracy: 8516/10000 (85.16%)\n",
            "\n",
            "97.25 85.16\n",
            "EPOCH: 85\n"
          ]
        },
        {
          "output_type": "stream",
          "name": "stderr",
          "text": [
            "Loss=0.0870797336101532 Batch_id=351 Accuracy=97.98: 100%|██████████| 352/352 [00:14<00:00, 23.85it/s]\n"
          ]
        },
        {
          "output_type": "stream",
          "name": "stdout",
          "text": [
            "\n",
            "Test set: Average loss: 0.3493, Accuracy: 9164/10000 (91.64%)\n",
            "\n",
            "97.25 91.64\n",
            "EPOCH: 86\n"
          ]
        },
        {
          "output_type": "stream",
          "name": "stderr",
          "text": [
            "Loss=0.1137290894985199 Batch_id=351 Accuracy=98.01: 100%|██████████| 352/352 [00:14<00:00, 23.68it/s]\n"
          ]
        },
        {
          "output_type": "stream",
          "name": "stdout",
          "text": [
            "\n",
            "Test set: Average loss: 1.4303, Accuracy: 6340/10000 (63.40%)\n",
            "\n",
            "97.25 63.4\n",
            "EPOCH: 87\n"
          ]
        },
        {
          "output_type": "stream",
          "name": "stderr",
          "text": [
            "Loss=0.047384683042764664 Batch_id=351 Accuracy=97.98: 100%|██████████| 352/352 [00:14<00:00, 24.04it/s]\n"
          ]
        },
        {
          "output_type": "stream",
          "name": "stdout",
          "text": [
            "\n",
            "Test set: Average loss: 0.5051, Accuracy: 8644/10000 (86.44%)\n",
            "\n",
            "97.25 86.44\n",
            "EPOCH: 88\n"
          ]
        },
        {
          "output_type": "stream",
          "name": "stderr",
          "text": [
            "Loss=0.01025333534926176 Batch_id=351 Accuracy=98.00: 100%|██████████| 352/352 [00:14<00:00, 23.79it/s]\n"
          ]
        },
        {
          "output_type": "stream",
          "name": "stdout",
          "text": [
            "\n",
            "Test set: Average loss: 0.1942, Accuracy: 9399/10000 (93.99%)\n",
            "\n",
            "97.25 93.99\n",
            "EPOCH: 89\n"
          ]
        },
        {
          "output_type": "stream",
          "name": "stderr",
          "text": [
            "Loss=0.11579852551221848 Batch_id=351 Accuracy=98.07: 100%|██████████| 352/352 [00:14<00:00, 24.06it/s]\n"
          ]
        },
        {
          "output_type": "stream",
          "name": "stdout",
          "text": [
            "\n",
            "Test set: Average loss: 0.4697, Accuracy: 8877/10000 (88.77%)\n",
            "\n",
            "97.25 88.77\n",
            "EPOCH: 90\n"
          ]
        },
        {
          "output_type": "stream",
          "name": "stderr",
          "text": [
            "Loss=0.060796961188316345 Batch_id=351 Accuracy=98.04: 100%|██████████| 352/352 [00:14<00:00, 23.74it/s]\n"
          ]
        },
        {
          "output_type": "stream",
          "name": "stdout",
          "text": [
            "\n",
            "Test set: Average loss: 0.2352, Accuracy: 9273/10000 (92.73%)\n",
            "\n",
            "97.25 92.73\n",
            "EPOCH: 91\n"
          ]
        },
        {
          "output_type": "stream",
          "name": "stderr",
          "text": [
            "Loss=0.1006179228425026 Batch_id=351 Accuracy=98.17: 100%|██████████| 352/352 [00:15<00:00, 23.41it/s]\n"
          ]
        },
        {
          "output_type": "stream",
          "name": "stdout",
          "text": [
            "\n",
            "Test set: Average loss: 0.1760, Accuracy: 9486/10000 (94.86%)\n",
            "\n",
            "97.25 94.86\n",
            "EPOCH: 92\n"
          ]
        },
        {
          "output_type": "stream",
          "name": "stderr",
          "text": [
            "Loss=0.011275280267000198 Batch_id=351 Accuracy=98.10: 100%|██████████| 352/352 [00:14<00:00, 23.71it/s]\n"
          ]
        },
        {
          "output_type": "stream",
          "name": "stdout",
          "text": [
            "\n",
            "Test set: Average loss: 0.2749, Accuracy: 9128/10000 (91.28%)\n",
            "\n",
            "97.25 91.28\n",
            "EPOCH: 93\n"
          ]
        },
        {
          "output_type": "stream",
          "name": "stderr",
          "text": [
            "Loss=0.05025400593876839 Batch_id=351 Accuracy=98.03: 100%|██████████| 352/352 [00:15<00:00, 23.45it/s]\n"
          ]
        },
        {
          "output_type": "stream",
          "name": "stdout",
          "text": [
            "\n",
            "Test set: Average loss: 0.3066, Accuracy: 9221/10000 (92.21%)\n",
            "\n",
            "97.25 92.21\n",
            "EPOCH: 94\n"
          ]
        },
        {
          "output_type": "stream",
          "name": "stderr",
          "text": [
            "Loss=0.0693429484963417 Batch_id=351 Accuracy=98.00: 100%|██████████| 352/352 [00:14<00:00, 23.53it/s]\n"
          ]
        },
        {
          "output_type": "stream",
          "name": "stdout",
          "text": [
            "\n",
            "Test set: Average loss: 0.4112, Accuracy: 8776/10000 (87.76%)\n",
            "\n",
            "97.25 87.76\n",
            "EPOCH: 95\n"
          ]
        },
        {
          "output_type": "stream",
          "name": "stderr",
          "text": [
            "Loss=0.018897399306297302 Batch_id=351 Accuracy=98.16: 100%|██████████| 352/352 [00:14<00:00, 23.62it/s]\n"
          ]
        },
        {
          "output_type": "stream",
          "name": "stdout",
          "text": [
            "\n",
            "Test set: Average loss: 0.2164, Accuracy: 9390/10000 (93.90%)\n",
            "\n",
            "97.25 93.9\n",
            "EPOCH: 96\n"
          ]
        },
        {
          "output_type": "stream",
          "name": "stderr",
          "text": [
            "Loss=0.006646326277405024 Batch_id=351 Accuracy=98.09: 100%|██████████| 352/352 [00:14<00:00, 23.93it/s]\n"
          ]
        },
        {
          "output_type": "stream",
          "name": "stdout",
          "text": [
            "\n",
            "Test set: Average loss: 0.1291, Accuracy: 9569/10000 (95.69%)\n",
            "\n",
            "97.25 95.69\n",
            "EPOCH: 97\n"
          ]
        },
        {
          "output_type": "stream",
          "name": "stderr",
          "text": [
            "Loss=0.09079921990633011 Batch_id=351 Accuracy=98.11: 100%|██████████| 352/352 [00:14<00:00, 23.65it/s]\n"
          ]
        },
        {
          "output_type": "stream",
          "name": "stdout",
          "text": [
            "\n",
            "Test set: Average loss: 0.4824, Accuracy: 8669/10000 (86.69%)\n",
            "\n",
            "97.25 86.69\n",
            "EPOCH: 98\n"
          ]
        },
        {
          "output_type": "stream",
          "name": "stderr",
          "text": [
            "Loss=0.05752250924706459 Batch_id=351 Accuracy=97.95: 100%|██████████| 352/352 [00:14<00:00, 23.68it/s]\n"
          ]
        },
        {
          "output_type": "stream",
          "name": "stdout",
          "text": [
            "\n",
            "Test set: Average loss: 0.2240, Accuracy: 9288/10000 (92.88%)\n",
            "\n",
            "97.25 92.88\n",
            "EPOCH: 99\n"
          ]
        },
        {
          "output_type": "stream",
          "name": "stderr",
          "text": [
            "Loss=0.035918623208999634 Batch_id=351 Accuracy=98.19: 100%|██████████| 352/352 [00:14<00:00, 23.55it/s]\n"
          ]
        },
        {
          "output_type": "stream",
          "name": "stdout",
          "text": [
            "\n",
            "Test set: Average loss: 3.0992, Accuracy: 5779/10000 (57.79%)\n",
            "\n",
            "97.25 57.79\n"
          ]
        }
      ]
    },
    {
      "cell_type": "markdown",
      "metadata": {
        "id": "JbXR1-NKsS1e"
      },
      "source": [
        "#### 7K WITH DW TRAINING WITH EVALUATION"
      ]
    },
    {
      "cell_type": "code",
      "metadata": {
        "colab": {
          "base_uri": "https://localhost:8080/"
        },
        "id": "rSbNZ5MISuHS",
        "outputId": "da3a616f-0eb2-4c0a-c907-a7426be53dee"
      },
      "source": [
        "time.time()"
      ],
      "execution_count": null,
      "outputs": [
        {
          "output_type": "execute_result",
          "data": {
            "text/plain": [
              "1638769815.752612"
            ]
          },
          "metadata": {},
          "execution_count": 16
        }
      ]
    },
    {
      "cell_type": "code",
      "metadata": {
        "id": "Iv0ilf-JsWoZ"
      },
      "source": [
        "# RUNNING THE INFERENCEC TIME ON A CPU\n",
        "test_losses = []\n",
        "test_acc =[]\n",
        "def test1(model):\n",
        "    model.eval()\n",
        "    test_loss = 0\n",
        "    correct = 0\n",
        "    # device = 'cuda'\n",
        "    time_list = []\n",
        "    with torch.no_grad():\n",
        "        for data, target in test_loader:\n",
        "            # data, target = data.to(device), target.to(device)\n",
        "            start = time.time()\n",
        "            output = model(data)\n",
        "            end = time.time()\n",
        "            interval = end-start\n",
        "            time_list.append(interval)\n",
        "            test_loss += F.nll_loss(output, target, reduction='sum').item()  # sum up batch loss\n",
        "            pred = output.argmax(dim=1, keepdim=True)  # get the index of the max log-probability\n",
        "            correct += pred.eq(target.view_as(pred)).sum().item()\n",
        "\n",
        "    test_loss /= len(test_loader.dataset)\n",
        "    test_losses.append(test_loss)\n",
        "    total_time = sum(time_list)\n",
        "    print('\\nTest set: Average loss: {:.4f}, Accuracy: {}/{} ({:.2f}%)\\n'.format(\n",
        "        test_loss, correct, len(test_loader.dataset),\n",
        "        100. * correct / len(test_loader.dataset)))\n",
        "    print(f'time taken is {total_time}')\n",
        "\n",
        "    test_acc.append(100. * correct / len(test_loader.dataset))"
      ],
      "execution_count": null,
      "outputs": []
    },
    {
      "cell_type": "code",
      "metadata": {
        "colab": {
          "base_uri": "https://localhost:8080/",
          "height": 394
        },
        "id": "l47gKmN3MmPT",
        "outputId": "3efbb0ac-5a34-465c-c4b6-bdd0309d3cae"
      },
      "source": [
        "test_model = Net().to('cuda')\n",
        "summary(test_model, input_size = (1,28,28))\n",
        "\n",
        "epochs = 50\n",
        "optimizer = optim.Adam(test_model.parameters(), lr = 0.01)\n",
        "scheduler = StepLR(optimizer, step_size=5, gamma=0.1)\n",
        "path = './quantization/pytorch_model/mosaic_7k_dw.pth'\n",
        "\n"
      ],
      "execution_count": null,
      "outputs": [
        {
          "output_type": "error",
          "ename": "RuntimeError",
          "evalue": "ignored",
          "traceback": [
            "\u001b[0;31m---------------------------------------------------------------------------\u001b[0m",
            "\u001b[0;31mRuntimeError\u001b[0m                              Traceback (most recent call last)",
            "\u001b[0;32m<ipython-input-9-98d612a146ff>\u001b[0m in \u001b[0;36m<module>\u001b[0;34m()\u001b[0m\n\u001b[0;32m----> 1\u001b[0;31m \u001b[0mtest_model\u001b[0m \u001b[0;34m=\u001b[0m \u001b[0mNet\u001b[0m\u001b[0;34m(\u001b[0m\u001b[0;34m)\u001b[0m\u001b[0;34m.\u001b[0m\u001b[0mto\u001b[0m\u001b[0;34m(\u001b[0m\u001b[0;34m'cuda'\u001b[0m\u001b[0;34m)\u001b[0m\u001b[0;34m\u001b[0m\u001b[0;34m\u001b[0m\u001b[0m\n\u001b[0m\u001b[1;32m      2\u001b[0m \u001b[0msummary\u001b[0m\u001b[0;34m(\u001b[0m\u001b[0mtest_model\u001b[0m\u001b[0;34m,\u001b[0m \u001b[0minput_size\u001b[0m \u001b[0;34m=\u001b[0m \u001b[0;34m(\u001b[0m\u001b[0;36m1\u001b[0m\u001b[0;34m,\u001b[0m\u001b[0;36m28\u001b[0m\u001b[0;34m,\u001b[0m\u001b[0;36m28\u001b[0m\u001b[0;34m)\u001b[0m\u001b[0;34m)\u001b[0m\u001b[0;34m\u001b[0m\u001b[0;34m\u001b[0m\u001b[0m\n\u001b[1;32m      3\u001b[0m \u001b[0;34m\u001b[0m\u001b[0m\n\u001b[1;32m      4\u001b[0m \u001b[0mepochs\u001b[0m \u001b[0;34m=\u001b[0m \u001b[0;36m50\u001b[0m\u001b[0;34m\u001b[0m\u001b[0;34m\u001b[0m\u001b[0m\n\u001b[1;32m      5\u001b[0m \u001b[0moptimizer\u001b[0m \u001b[0;34m=\u001b[0m \u001b[0moptim\u001b[0m\u001b[0;34m.\u001b[0m\u001b[0mAdam\u001b[0m\u001b[0;34m(\u001b[0m\u001b[0mtest_model\u001b[0m\u001b[0;34m.\u001b[0m\u001b[0mparameters\u001b[0m\u001b[0;34m(\u001b[0m\u001b[0;34m)\u001b[0m\u001b[0;34m,\u001b[0m \u001b[0mlr\u001b[0m \u001b[0;34m=\u001b[0m \u001b[0;36m0.01\u001b[0m\u001b[0;34m)\u001b[0m\u001b[0;34m\u001b[0m\u001b[0;34m\u001b[0m\u001b[0m\n",
            "\u001b[0;32m/usr/local/lib/python3.7/dist-packages/torch/nn/modules/module.py\u001b[0m in \u001b[0;36mto\u001b[0;34m(self, *args, **kwargs)\u001b[0m\n\u001b[1;32m    897\u001b[0m             \u001b[0;32mreturn\u001b[0m \u001b[0mt\u001b[0m\u001b[0;34m.\u001b[0m\u001b[0mto\u001b[0m\u001b[0;34m(\u001b[0m\u001b[0mdevice\u001b[0m\u001b[0;34m,\u001b[0m \u001b[0mdtype\u001b[0m \u001b[0;32mif\u001b[0m \u001b[0mt\u001b[0m\u001b[0;34m.\u001b[0m\u001b[0mis_floating_point\u001b[0m\u001b[0;34m(\u001b[0m\u001b[0;34m)\u001b[0m \u001b[0;32mor\u001b[0m \u001b[0mt\u001b[0m\u001b[0;34m.\u001b[0m\u001b[0mis_complex\u001b[0m\u001b[0;34m(\u001b[0m\u001b[0;34m)\u001b[0m \u001b[0;32melse\u001b[0m \u001b[0;32mNone\u001b[0m\u001b[0;34m,\u001b[0m \u001b[0mnon_blocking\u001b[0m\u001b[0;34m)\u001b[0m\u001b[0;34m\u001b[0m\u001b[0;34m\u001b[0m\u001b[0m\n\u001b[1;32m    898\u001b[0m \u001b[0;34m\u001b[0m\u001b[0m\n\u001b[0;32m--> 899\u001b[0;31m         \u001b[0;32mreturn\u001b[0m \u001b[0mself\u001b[0m\u001b[0;34m.\u001b[0m\u001b[0m_apply\u001b[0m\u001b[0;34m(\u001b[0m\u001b[0mconvert\u001b[0m\u001b[0;34m)\u001b[0m\u001b[0;34m\u001b[0m\u001b[0;34m\u001b[0m\u001b[0m\n\u001b[0m\u001b[1;32m    900\u001b[0m \u001b[0;34m\u001b[0m\u001b[0m\n\u001b[1;32m    901\u001b[0m     def register_backward_hook(\n",
            "\u001b[0;32m/usr/local/lib/python3.7/dist-packages/torch/nn/modules/module.py\u001b[0m in \u001b[0;36m_apply\u001b[0;34m(self, fn)\u001b[0m\n\u001b[1;32m    568\u001b[0m     \u001b[0;32mdef\u001b[0m \u001b[0m_apply\u001b[0m\u001b[0;34m(\u001b[0m\u001b[0mself\u001b[0m\u001b[0;34m,\u001b[0m \u001b[0mfn\u001b[0m\u001b[0;34m)\u001b[0m\u001b[0;34m:\u001b[0m\u001b[0;34m\u001b[0m\u001b[0;34m\u001b[0m\u001b[0m\n\u001b[1;32m    569\u001b[0m         \u001b[0;32mfor\u001b[0m \u001b[0mmodule\u001b[0m \u001b[0;32min\u001b[0m \u001b[0mself\u001b[0m\u001b[0;34m.\u001b[0m\u001b[0mchildren\u001b[0m\u001b[0;34m(\u001b[0m\u001b[0;34m)\u001b[0m\u001b[0;34m:\u001b[0m\u001b[0;34m\u001b[0m\u001b[0;34m\u001b[0m\u001b[0m\n\u001b[0;32m--> 570\u001b[0;31m             \u001b[0mmodule\u001b[0m\u001b[0;34m.\u001b[0m\u001b[0m_apply\u001b[0m\u001b[0;34m(\u001b[0m\u001b[0mfn\u001b[0m\u001b[0;34m)\u001b[0m\u001b[0;34m\u001b[0m\u001b[0;34m\u001b[0m\u001b[0m\n\u001b[0m\u001b[1;32m    571\u001b[0m \u001b[0;34m\u001b[0m\u001b[0m\n\u001b[1;32m    572\u001b[0m         \u001b[0;32mdef\u001b[0m \u001b[0mcompute_should_use_set_data\u001b[0m\u001b[0;34m(\u001b[0m\u001b[0mtensor\u001b[0m\u001b[0;34m,\u001b[0m \u001b[0mtensor_applied\u001b[0m\u001b[0;34m)\u001b[0m\u001b[0;34m:\u001b[0m\u001b[0;34m\u001b[0m\u001b[0;34m\u001b[0m\u001b[0m\n",
            "\u001b[0;32m/usr/local/lib/python3.7/dist-packages/torch/nn/modules/module.py\u001b[0m in \u001b[0;36m_apply\u001b[0;34m(self, fn)\u001b[0m\n\u001b[1;32m    568\u001b[0m     \u001b[0;32mdef\u001b[0m \u001b[0m_apply\u001b[0m\u001b[0;34m(\u001b[0m\u001b[0mself\u001b[0m\u001b[0;34m,\u001b[0m \u001b[0mfn\u001b[0m\u001b[0;34m)\u001b[0m\u001b[0;34m:\u001b[0m\u001b[0;34m\u001b[0m\u001b[0;34m\u001b[0m\u001b[0m\n\u001b[1;32m    569\u001b[0m         \u001b[0;32mfor\u001b[0m \u001b[0mmodule\u001b[0m \u001b[0;32min\u001b[0m \u001b[0mself\u001b[0m\u001b[0;34m.\u001b[0m\u001b[0mchildren\u001b[0m\u001b[0;34m(\u001b[0m\u001b[0;34m)\u001b[0m\u001b[0;34m:\u001b[0m\u001b[0;34m\u001b[0m\u001b[0;34m\u001b[0m\u001b[0m\n\u001b[0;32m--> 570\u001b[0;31m             \u001b[0mmodule\u001b[0m\u001b[0;34m.\u001b[0m\u001b[0m_apply\u001b[0m\u001b[0;34m(\u001b[0m\u001b[0mfn\u001b[0m\u001b[0;34m)\u001b[0m\u001b[0;34m\u001b[0m\u001b[0;34m\u001b[0m\u001b[0m\n\u001b[0m\u001b[1;32m    571\u001b[0m \u001b[0;34m\u001b[0m\u001b[0m\n\u001b[1;32m    572\u001b[0m         \u001b[0;32mdef\u001b[0m \u001b[0mcompute_should_use_set_data\u001b[0m\u001b[0;34m(\u001b[0m\u001b[0mtensor\u001b[0m\u001b[0;34m,\u001b[0m \u001b[0mtensor_applied\u001b[0m\u001b[0;34m)\u001b[0m\u001b[0;34m:\u001b[0m\u001b[0;34m\u001b[0m\u001b[0;34m\u001b[0m\u001b[0m\n",
            "\u001b[0;32m/usr/local/lib/python3.7/dist-packages/torch/nn/modules/module.py\u001b[0m in \u001b[0;36m_apply\u001b[0;34m(self, fn)\u001b[0m\n\u001b[1;32m    591\u001b[0m             \u001b[0;31m# `with torch.no_grad():`\u001b[0m\u001b[0;34m\u001b[0m\u001b[0;34m\u001b[0m\u001b[0;34m\u001b[0m\u001b[0m\n\u001b[1;32m    592\u001b[0m             \u001b[0;32mwith\u001b[0m \u001b[0mtorch\u001b[0m\u001b[0;34m.\u001b[0m\u001b[0mno_grad\u001b[0m\u001b[0;34m(\u001b[0m\u001b[0;34m)\u001b[0m\u001b[0;34m:\u001b[0m\u001b[0;34m\u001b[0m\u001b[0;34m\u001b[0m\u001b[0m\n\u001b[0;32m--> 593\u001b[0;31m                 \u001b[0mparam_applied\u001b[0m \u001b[0;34m=\u001b[0m \u001b[0mfn\u001b[0m\u001b[0;34m(\u001b[0m\u001b[0mparam\u001b[0m\u001b[0;34m)\u001b[0m\u001b[0;34m\u001b[0m\u001b[0;34m\u001b[0m\u001b[0m\n\u001b[0m\u001b[1;32m    594\u001b[0m             \u001b[0mshould_use_set_data\u001b[0m \u001b[0;34m=\u001b[0m \u001b[0mcompute_should_use_set_data\u001b[0m\u001b[0;34m(\u001b[0m\u001b[0mparam\u001b[0m\u001b[0;34m,\u001b[0m \u001b[0mparam_applied\u001b[0m\u001b[0;34m)\u001b[0m\u001b[0;34m\u001b[0m\u001b[0;34m\u001b[0m\u001b[0m\n\u001b[1;32m    595\u001b[0m             \u001b[0;32mif\u001b[0m \u001b[0mshould_use_set_data\u001b[0m\u001b[0;34m:\u001b[0m\u001b[0;34m\u001b[0m\u001b[0;34m\u001b[0m\u001b[0m\n",
            "\u001b[0;32m/usr/local/lib/python3.7/dist-packages/torch/nn/modules/module.py\u001b[0m in \u001b[0;36mconvert\u001b[0;34m(t)\u001b[0m\n\u001b[1;32m    895\u001b[0m                 return t.to(device, dtype if t.is_floating_point() or t.is_complex() else None,\n\u001b[1;32m    896\u001b[0m                             non_blocking, memory_format=convert_to_format)\n\u001b[0;32m--> 897\u001b[0;31m             \u001b[0;32mreturn\u001b[0m \u001b[0mt\u001b[0m\u001b[0;34m.\u001b[0m\u001b[0mto\u001b[0m\u001b[0;34m(\u001b[0m\u001b[0mdevice\u001b[0m\u001b[0;34m,\u001b[0m \u001b[0mdtype\u001b[0m \u001b[0;32mif\u001b[0m \u001b[0mt\u001b[0m\u001b[0;34m.\u001b[0m\u001b[0mis_floating_point\u001b[0m\u001b[0;34m(\u001b[0m\u001b[0;34m)\u001b[0m \u001b[0;32mor\u001b[0m \u001b[0mt\u001b[0m\u001b[0;34m.\u001b[0m\u001b[0mis_complex\u001b[0m\u001b[0;34m(\u001b[0m\u001b[0;34m)\u001b[0m \u001b[0;32melse\u001b[0m \u001b[0;32mNone\u001b[0m\u001b[0;34m,\u001b[0m \u001b[0mnon_blocking\u001b[0m\u001b[0;34m)\u001b[0m\u001b[0;34m\u001b[0m\u001b[0;34m\u001b[0m\u001b[0m\n\u001b[0m\u001b[1;32m    898\u001b[0m \u001b[0;34m\u001b[0m\u001b[0m\n\u001b[1;32m    899\u001b[0m         \u001b[0;32mreturn\u001b[0m \u001b[0mself\u001b[0m\u001b[0;34m.\u001b[0m\u001b[0m_apply\u001b[0m\u001b[0;34m(\u001b[0m\u001b[0mconvert\u001b[0m\u001b[0;34m)\u001b[0m\u001b[0;34m\u001b[0m\u001b[0;34m\u001b[0m\u001b[0m\n",
            "\u001b[0;32m/usr/local/lib/python3.7/dist-packages/torch/cuda/__init__.py\u001b[0m in \u001b[0;36m_lazy_init\u001b[0;34m()\u001b[0m\n\u001b[1;32m    212\u001b[0m         \u001b[0;31m# This function throws if there's a driver initialization error, no GPUs\u001b[0m\u001b[0;34m\u001b[0m\u001b[0;34m\u001b[0m\u001b[0;34m\u001b[0m\u001b[0m\n\u001b[1;32m    213\u001b[0m         \u001b[0;31m# are found or any other error occurs\u001b[0m\u001b[0;34m\u001b[0m\u001b[0;34m\u001b[0m\u001b[0;34m\u001b[0m\u001b[0m\n\u001b[0;32m--> 214\u001b[0;31m         \u001b[0mtorch\u001b[0m\u001b[0;34m.\u001b[0m\u001b[0m_C\u001b[0m\u001b[0;34m.\u001b[0m\u001b[0m_cuda_init\u001b[0m\u001b[0;34m(\u001b[0m\u001b[0;34m)\u001b[0m\u001b[0;34m\u001b[0m\u001b[0;34m\u001b[0m\u001b[0m\n\u001b[0m\u001b[1;32m    215\u001b[0m         \u001b[0;31m# Some of the queued calls may reentrantly call _lazy_init();\u001b[0m\u001b[0;34m\u001b[0m\u001b[0;34m\u001b[0m\u001b[0;34m\u001b[0m\u001b[0m\n\u001b[1;32m    216\u001b[0m         \u001b[0;31m# we need to just return without initializing in that case.\u001b[0m\u001b[0;34m\u001b[0m\u001b[0;34m\u001b[0m\u001b[0;34m\u001b[0m\u001b[0m\n",
            "\u001b[0;31mRuntimeError\u001b[0m: No CUDA GPUs are available"
          ]
        }
      ]
    },
    {
      "cell_type": "code",
      "metadata": {
        "colab": {
          "base_uri": "https://localhost:8080/"
        },
        "id": "-t47-lB3oNd1",
        "outputId": "9794a87b-f597-4971-ba32-2c859f495e24"
      },
      "source": [
        "execute_model(test_model, save_best_model=True)"
      ],
      "execution_count": null,
      "outputs": [
        {
          "output_type": "stream",
          "name": "stdout",
          "text": [
            "EPOCH: 0\n"
          ]
        },
        {
          "output_type": "stream",
          "name": "stderr",
          "text": [
            "\r  0%|          | 0/469 [00:00<?, ?it/s]/usr/local/lib/python3.7/dist-packages/torch/utils/data/dataloader.py:481: UserWarning: This DataLoader will create 4 worker processes in total. Our suggested max number of worker in current system is 2, which is smaller than what this DataLoader is going to create. Please be aware that excessive worker creation might get DataLoader running slow or even freeze, lower the worker number to avoid potential slowness/freeze if necessary.\n",
            "  cpuset_checked))\n",
            "Loss=0.1082153394818306 Batch_id=468 Accuracy=93.60: 100%|██████████| 469/469 [00:12<00:00, 37.05it/s]\n"
          ]
        },
        {
          "output_type": "stream",
          "name": "stdout",
          "text": [
            "\n",
            "Test set: Average loss: 0.0614, Accuracy: 9818/10000 (98.18%)\n",
            "\n",
            "98.18 98.18\n",
            "Saving model here\n",
            "EPOCH: 1\n"
          ]
        },
        {
          "output_type": "stream",
          "name": "stderr",
          "text": [
            "Loss=0.02054537832736969 Batch_id=468 Accuracy=97.80: 100%|██████████| 469/469 [00:12<00:00, 36.97it/s]\n"
          ]
        },
        {
          "output_type": "stream",
          "name": "stdout",
          "text": [
            "\n",
            "Test set: Average loss: 0.0555, Accuracy: 9814/10000 (98.14%)\n",
            "\n",
            "98.18 98.14\n",
            "EPOCH: 2\n"
          ]
        },
        {
          "output_type": "stream",
          "name": "stderr",
          "text": [
            "Loss=0.0875418409705162 Batch_id=468 Accuracy=98.18: 100%|██████████| 469/469 [00:12<00:00, 37.21it/s]\n"
          ]
        },
        {
          "output_type": "stream",
          "name": "stdout",
          "text": [
            "\n",
            "Test set: Average loss: 0.0368, Accuracy: 9879/10000 (98.79%)\n",
            "\n",
            "98.79 98.79\n",
            "Saving model here\n",
            "EPOCH: 3\n"
          ]
        },
        {
          "output_type": "stream",
          "name": "stderr",
          "text": [
            "Loss=0.02730736881494522 Batch_id=468 Accuracy=98.37: 100%|██████████| 469/469 [00:12<00:00, 36.97it/s]\n"
          ]
        },
        {
          "output_type": "stream",
          "name": "stdout",
          "text": [
            "\n",
            "Test set: Average loss: 0.0384, Accuracy: 9884/10000 (98.84%)\n",
            "\n",
            "98.84 98.84\n",
            "Saving model here\n",
            "EPOCH: 4\n"
          ]
        },
        {
          "output_type": "stream",
          "name": "stderr",
          "text": [
            "Loss=0.025228897109627724 Batch_id=468 Accuracy=98.53: 100%|██████████| 469/469 [00:12<00:00, 36.85it/s]\n"
          ]
        },
        {
          "output_type": "stream",
          "name": "stdout",
          "text": [
            "\n",
            "Test set: Average loss: 0.0416, Accuracy: 9865/10000 (98.65%)\n",
            "\n",
            "98.84 98.65\n",
            "EPOCH: 5\n"
          ]
        },
        {
          "output_type": "stream",
          "name": "stderr",
          "text": [
            "Loss=0.06000388041138649 Batch_id=468 Accuracy=99.06: 100%|██████████| 469/469 [00:12<00:00, 37.38it/s]\n"
          ]
        },
        {
          "output_type": "stream",
          "name": "stdout",
          "text": [
            "\n",
            "Test set: Average loss: 0.0217, Accuracy: 9934/10000 (99.34%)\n",
            "\n",
            "99.34 99.34\n",
            "Saving model here\n",
            "EPOCH: 6\n"
          ]
        },
        {
          "output_type": "stream",
          "name": "stderr",
          "text": [
            "Loss=0.001279215794056654 Batch_id=468 Accuracy=99.13: 100%|██████████| 469/469 [00:12<00:00, 37.53it/s]\n"
          ]
        },
        {
          "output_type": "stream",
          "name": "stdout",
          "text": [
            "\n",
            "Test set: Average loss: 0.0211, Accuracy: 9935/10000 (99.35%)\n",
            "\n",
            "99.35 99.35\n",
            "Saving model here\n",
            "EPOCH: 7\n"
          ]
        },
        {
          "output_type": "stream",
          "name": "stderr",
          "text": [
            "Loss=0.014887847937643528 Batch_id=468 Accuracy=99.16: 100%|██████████| 469/469 [00:12<00:00, 37.44it/s]\n"
          ]
        },
        {
          "output_type": "stream",
          "name": "stdout",
          "text": [
            "\n",
            "Test set: Average loss: 0.0216, Accuracy: 9932/10000 (99.32%)\n",
            "\n",
            "99.35 99.32\n",
            "EPOCH: 8\n"
          ]
        },
        {
          "output_type": "stream",
          "name": "stderr",
          "text": [
            "Loss=0.13382670283317566 Batch_id=468 Accuracy=99.26: 100%|██████████| 469/469 [00:12<00:00, 36.73it/s]\n"
          ]
        },
        {
          "output_type": "stream",
          "name": "stdout",
          "text": [
            "\n",
            "Test set: Average loss: 0.0199, Accuracy: 9934/10000 (99.34%)\n",
            "\n",
            "99.35 99.34\n",
            "EPOCH: 9\n"
          ]
        },
        {
          "output_type": "stream",
          "name": "stderr",
          "text": [
            "Loss=0.08737765997648239 Batch_id=468 Accuracy=99.27: 100%|██████████| 469/469 [00:12<00:00, 36.89it/s]\n"
          ]
        },
        {
          "output_type": "stream",
          "name": "stdout",
          "text": [
            "\n",
            "Test set: Average loss: 0.0190, Accuracy: 9942/10000 (99.42%)\n",
            "\n",
            "99.42 99.42\n",
            "Saving model here\n",
            "EPOCH: 10\n"
          ]
        },
        {
          "output_type": "stream",
          "name": "stderr",
          "text": [
            "Loss=0.050947513431310654 Batch_id=468 Accuracy=99.34: 100%|██████████| 469/469 [00:12<00:00, 37.47it/s]\n"
          ]
        },
        {
          "output_type": "stream",
          "name": "stdout",
          "text": [
            "\n",
            "Test set: Average loss: 0.0184, Accuracy: 9944/10000 (99.44%)\n",
            "\n",
            "99.44 99.44\n",
            "Saving model here\n",
            "EPOCH: 11\n"
          ]
        },
        {
          "output_type": "stream",
          "name": "stderr",
          "text": [
            "Loss=0.08939076215028763 Batch_id=468 Accuracy=99.31: 100%|██████████| 469/469 [00:12<00:00, 37.56it/s]\n"
          ]
        },
        {
          "output_type": "stream",
          "name": "stdout",
          "text": [
            "\n",
            "Test set: Average loss: 0.0184, Accuracy: 9940/10000 (99.40%)\n",
            "\n",
            "99.44 99.4\n",
            "EPOCH: 12\n"
          ]
        },
        {
          "output_type": "stream",
          "name": "stderr",
          "text": [
            "Loss=0.060498252511024475 Batch_id=468 Accuracy=99.36: 100%|██████████| 469/469 [00:12<00:00, 36.91it/s]\n"
          ]
        },
        {
          "output_type": "stream",
          "name": "stdout",
          "text": [
            "\n",
            "Test set: Average loss: 0.0186, Accuracy: 9943/10000 (99.43%)\n",
            "\n",
            "99.44 99.43\n",
            "EPOCH: 13\n"
          ]
        },
        {
          "output_type": "stream",
          "name": "stderr",
          "text": [
            "Loss=0.015667391940951347 Batch_id=468 Accuracy=99.27: 100%|██████████| 469/469 [00:12<00:00, 36.91it/s]\n"
          ]
        },
        {
          "output_type": "stream",
          "name": "stdout",
          "text": [
            "\n",
            "Test set: Average loss: 0.0181, Accuracy: 9942/10000 (99.42%)\n",
            "\n",
            "99.44 99.42\n",
            "EPOCH: 14\n"
          ]
        },
        {
          "output_type": "stream",
          "name": "stderr",
          "text": [
            "Loss=0.07250838726758957 Batch_id=468 Accuracy=99.38: 100%|██████████| 469/469 [00:12<00:00, 36.85it/s]\n"
          ]
        },
        {
          "output_type": "stream",
          "name": "stdout",
          "text": [
            "\n",
            "Test set: Average loss: 0.0184, Accuracy: 9944/10000 (99.44%)\n",
            "\n",
            "99.44 99.44\n",
            "Saving model here\n",
            "EPOCH: 15\n"
          ]
        },
        {
          "output_type": "stream",
          "name": "stderr",
          "text": [
            "Loss=0.018782032653689384 Batch_id=468 Accuracy=99.34: 100%|██████████| 469/469 [00:12<00:00, 36.83it/s]\n"
          ]
        },
        {
          "output_type": "stream",
          "name": "stdout",
          "text": [
            "\n",
            "Test set: Average loss: 0.0183, Accuracy: 9943/10000 (99.43%)\n",
            "\n",
            "99.44 99.43\n",
            "EPOCH: 16\n"
          ]
        },
        {
          "output_type": "stream",
          "name": "stderr",
          "text": [
            "Loss=0.011412869207561016 Batch_id=468 Accuracy=99.33: 100%|██████████| 469/469 [00:12<00:00, 36.26it/s]\n"
          ]
        },
        {
          "output_type": "stream",
          "name": "stdout",
          "text": [
            "\n",
            "Test set: Average loss: 0.0184, Accuracy: 9942/10000 (99.42%)\n",
            "\n",
            "99.44 99.42\n",
            "EPOCH: 17\n"
          ]
        },
        {
          "output_type": "stream",
          "name": "stderr",
          "text": [
            "Loss=0.004648513626307249 Batch_id=468 Accuracy=99.43: 100%|██████████| 469/469 [00:12<00:00, 36.15it/s]\n"
          ]
        },
        {
          "output_type": "stream",
          "name": "stdout",
          "text": [
            "\n",
            "Test set: Average loss: 0.0189, Accuracy: 9943/10000 (99.43%)\n",
            "\n",
            "99.44 99.43\n",
            "EPOCH: 18\n"
          ]
        },
        {
          "output_type": "stream",
          "name": "stderr",
          "text": [
            "Loss=0.017759809270501137 Batch_id=468 Accuracy=99.36: 100%|██████████| 469/469 [00:13<00:00, 35.96it/s]\n"
          ]
        },
        {
          "output_type": "stream",
          "name": "stdout",
          "text": [
            "\n",
            "Test set: Average loss: 0.0185, Accuracy: 9943/10000 (99.43%)\n",
            "\n",
            "99.44 99.43\n",
            "EPOCH: 19\n"
          ]
        },
        {
          "output_type": "stream",
          "name": "stderr",
          "text": [
            "Loss=0.04964422807097435 Batch_id=468 Accuracy=99.32: 100%|██████████| 469/469 [00:12<00:00, 36.18it/s]\n"
          ]
        },
        {
          "output_type": "stream",
          "name": "stdout",
          "text": [
            "\n",
            "Test set: Average loss: 0.0184, Accuracy: 9941/10000 (99.41%)\n",
            "\n",
            "99.44 99.41\n",
            "EPOCH: 20\n"
          ]
        },
        {
          "output_type": "stream",
          "name": "stderr",
          "text": [
            "Loss=0.04003634676337242 Batch_id=468 Accuracy=99.39: 100%|██████████| 469/469 [00:12<00:00, 36.41it/s]\n"
          ]
        },
        {
          "output_type": "stream",
          "name": "stdout",
          "text": [
            "\n",
            "Test set: Average loss: 0.0182, Accuracy: 9945/10000 (99.45%)\n",
            "\n",
            "99.45 99.45\n",
            "Saving model here\n",
            "EPOCH: 21\n"
          ]
        },
        {
          "output_type": "stream",
          "name": "stderr",
          "text": [
            "Loss=0.05418994650244713 Batch_id=468 Accuracy=99.32: 100%|██████████| 469/469 [00:12<00:00, 36.70it/s]\n"
          ]
        },
        {
          "output_type": "stream",
          "name": "stdout",
          "text": [
            "\n",
            "Test set: Average loss: 0.0191, Accuracy: 9944/10000 (99.44%)\n",
            "\n",
            "99.45 99.44\n",
            "EPOCH: 22\n"
          ]
        },
        {
          "output_type": "stream",
          "name": "stderr",
          "text": [
            "Loss=0.03063797391951084 Batch_id=468 Accuracy=99.36: 100%|██████████| 469/469 [00:12<00:00, 36.40it/s]\n"
          ]
        },
        {
          "output_type": "stream",
          "name": "stdout",
          "text": [
            "\n",
            "Test set: Average loss: 0.0185, Accuracy: 9944/10000 (99.44%)\n",
            "\n",
            "99.45 99.44\n",
            "EPOCH: 23\n"
          ]
        },
        {
          "output_type": "stream",
          "name": "stderr",
          "text": [
            "Loss=0.008022727444767952 Batch_id=468 Accuracy=99.42: 100%|██████████| 469/469 [00:12<00:00, 36.43it/s]\n"
          ]
        },
        {
          "output_type": "stream",
          "name": "stdout",
          "text": [
            "\n",
            "Test set: Average loss: 0.0190, Accuracy: 9942/10000 (99.42%)\n",
            "\n",
            "99.45 99.42\n",
            "EPOCH: 24\n"
          ]
        },
        {
          "output_type": "stream",
          "name": "stderr",
          "text": [
            "Loss=0.010450811125338078 Batch_id=468 Accuracy=99.36: 100%|██████████| 469/469 [00:12<00:00, 36.52it/s]\n"
          ]
        },
        {
          "output_type": "stream",
          "name": "stdout",
          "text": [
            "\n",
            "Test set: Average loss: 0.0182, Accuracy: 9944/10000 (99.44%)\n",
            "\n",
            "99.45 99.44\n",
            "EPOCH: 25\n"
          ]
        },
        {
          "output_type": "stream",
          "name": "stderr",
          "text": [
            "Loss=0.031612563878297806 Batch_id=468 Accuracy=99.38: 100%|██████████| 469/469 [00:12<00:00, 36.77it/s]\n"
          ]
        },
        {
          "output_type": "stream",
          "name": "stdout",
          "text": [
            "\n",
            "Test set: Average loss: 0.0180, Accuracy: 9945/10000 (99.45%)\n",
            "\n",
            "99.45 99.45\n",
            "Saving model here\n",
            "EPOCH: 26\n"
          ]
        },
        {
          "output_type": "stream",
          "name": "stderr",
          "text": [
            "Loss=0.059387292712926865 Batch_id=468 Accuracy=99.39: 100%|██████████| 469/469 [00:13<00:00, 35.96it/s]\n"
          ]
        },
        {
          "output_type": "stream",
          "name": "stdout",
          "text": [
            "\n",
            "Test set: Average loss: 0.0183, Accuracy: 9944/10000 (99.44%)\n",
            "\n",
            "99.45 99.44\n",
            "EPOCH: 27\n"
          ]
        },
        {
          "output_type": "stream",
          "name": "stderr",
          "text": [
            "Loss=0.017665257677435875 Batch_id=468 Accuracy=99.38: 100%|██████████| 469/469 [00:12<00:00, 36.36it/s]\n"
          ]
        },
        {
          "output_type": "stream",
          "name": "stdout",
          "text": [
            "\n",
            "Test set: Average loss: 0.0182, Accuracy: 9943/10000 (99.43%)\n",
            "\n",
            "99.45 99.43\n",
            "EPOCH: 28\n"
          ]
        },
        {
          "output_type": "stream",
          "name": "stderr",
          "text": [
            "Loss=0.012305264361202717 Batch_id=468 Accuracy=99.34: 100%|██████████| 469/469 [00:12<00:00, 36.26it/s]\n"
          ]
        },
        {
          "output_type": "stream",
          "name": "stdout",
          "text": [
            "\n",
            "Test set: Average loss: 0.0187, Accuracy: 9943/10000 (99.43%)\n",
            "\n",
            "99.45 99.43\n",
            "EPOCH: 29\n"
          ]
        },
        {
          "output_type": "stream",
          "name": "stderr",
          "text": [
            "Loss=0.0024973589461296797 Batch_id=468 Accuracy=99.43: 100%|██████████| 469/469 [00:12<00:00, 36.82it/s]\n"
          ]
        },
        {
          "output_type": "stream",
          "name": "stdout",
          "text": [
            "\n",
            "Test set: Average loss: 0.0179, Accuracy: 9944/10000 (99.44%)\n",
            "\n",
            "99.45 99.44\n",
            "EPOCH: 30\n"
          ]
        },
        {
          "output_type": "stream",
          "name": "stderr",
          "text": [
            "Loss=0.027332833036780357 Batch_id=468 Accuracy=99.39: 100%|██████████| 469/469 [00:12<00:00, 37.02it/s]\n"
          ]
        },
        {
          "output_type": "stream",
          "name": "stdout",
          "text": [
            "\n",
            "Test set: Average loss: 0.0181, Accuracy: 9944/10000 (99.44%)\n",
            "\n",
            "99.45 99.44\n",
            "EPOCH: 31\n"
          ]
        },
        {
          "output_type": "stream",
          "name": "stderr",
          "text": [
            "Loss=0.007543714251369238 Batch_id=468 Accuracy=99.39: 100%|██████████| 469/469 [00:12<00:00, 36.87it/s]\n"
          ]
        },
        {
          "output_type": "stream",
          "name": "stdout",
          "text": [
            "\n",
            "Test set: Average loss: 0.0178, Accuracy: 9946/10000 (99.46%)\n",
            "\n",
            "99.46 99.46\n",
            "Saving model here\n",
            "EPOCH: 32\n"
          ]
        },
        {
          "output_type": "stream",
          "name": "stderr",
          "text": [
            "Loss=0.01399508398026228 Batch_id=468 Accuracy=99.40: 100%|██████████| 469/469 [00:12<00:00, 36.87it/s]\n"
          ]
        },
        {
          "output_type": "stream",
          "name": "stdout",
          "text": [
            "\n",
            "Test set: Average loss: 0.0180, Accuracy: 9944/10000 (99.44%)\n",
            "\n",
            "99.46 99.44\n",
            "EPOCH: 33\n"
          ]
        },
        {
          "output_type": "stream",
          "name": "stderr",
          "text": [
            "Loss=0.00539654865860939 Batch_id=468 Accuracy=99.38: 100%|██████████| 469/469 [00:12<00:00, 37.08it/s]\n"
          ]
        },
        {
          "output_type": "stream",
          "name": "stdout",
          "text": [
            "\n",
            "Test set: Average loss: 0.0181, Accuracy: 9944/10000 (99.44%)\n",
            "\n",
            "99.46 99.44\n",
            "EPOCH: 34\n"
          ]
        },
        {
          "output_type": "stream",
          "name": "stderr",
          "text": [
            "Loss=0.014303344301879406 Batch_id=468 Accuracy=99.38: 100%|██████████| 469/469 [00:12<00:00, 36.82it/s]\n"
          ]
        },
        {
          "output_type": "stream",
          "name": "stdout",
          "text": [
            "\n",
            "Test set: Average loss: 0.0189, Accuracy: 9943/10000 (99.43%)\n",
            "\n",
            "99.46 99.43\n",
            "EPOCH: 35\n"
          ]
        },
        {
          "output_type": "stream",
          "name": "stderr",
          "text": [
            "Loss=0.004373711068183184 Batch_id=468 Accuracy=99.37: 100%|██████████| 469/469 [00:13<00:00, 35.93it/s]\n"
          ]
        },
        {
          "output_type": "stream",
          "name": "stdout",
          "text": [
            "\n",
            "Test set: Average loss: 0.0184, Accuracy: 9944/10000 (99.44%)\n",
            "\n",
            "99.46 99.44\n",
            "EPOCH: 36\n"
          ]
        },
        {
          "output_type": "stream",
          "name": "stderr",
          "text": [
            "Loss=0.0016808713553473353 Batch_id=468 Accuracy=99.36: 100%|██████████| 469/469 [00:12<00:00, 36.13it/s]\n"
          ]
        },
        {
          "output_type": "stream",
          "name": "stdout",
          "text": [
            "\n",
            "Test set: Average loss: 0.0187, Accuracy: 9941/10000 (99.41%)\n",
            "\n",
            "99.46 99.41\n",
            "EPOCH: 37\n"
          ]
        },
        {
          "output_type": "stream",
          "name": "stderr",
          "text": [
            "Loss=0.00405402947217226 Batch_id=468 Accuracy=99.38: 100%|██████████| 469/469 [00:13<00:00, 35.15it/s]\n"
          ]
        },
        {
          "output_type": "stream",
          "name": "stdout",
          "text": [
            "\n",
            "Test set: Average loss: 0.0189, Accuracy: 9944/10000 (99.44%)\n",
            "\n",
            "99.46 99.44\n",
            "EPOCH: 38\n"
          ]
        },
        {
          "output_type": "stream",
          "name": "stderr",
          "text": [
            "Loss=0.005847516935318708 Batch_id=468 Accuracy=99.37: 100%|██████████| 469/469 [00:13<00:00, 35.08it/s]\n"
          ]
        },
        {
          "output_type": "stream",
          "name": "stdout",
          "text": [
            "\n",
            "Test set: Average loss: 0.0184, Accuracy: 9942/10000 (99.42%)\n",
            "\n",
            "99.46 99.42\n",
            "EPOCH: 39\n"
          ]
        },
        {
          "output_type": "stream",
          "name": "stderr",
          "text": [
            "Loss=0.004465402569621801 Batch_id=468 Accuracy=99.40: 100%|██████████| 469/469 [00:13<00:00, 35.91it/s]\n"
          ]
        },
        {
          "output_type": "stream",
          "name": "stdout",
          "text": [
            "\n",
            "Test set: Average loss: 0.0189, Accuracy: 9942/10000 (99.42%)\n",
            "\n",
            "99.46 99.42\n",
            "EPOCH: 40\n"
          ]
        },
        {
          "output_type": "stream",
          "name": "stderr",
          "text": [
            "Loss=0.032483313232660294 Batch_id=468 Accuracy=99.40: 100%|██████████| 469/469 [00:13<00:00, 35.75it/s]\n"
          ]
        },
        {
          "output_type": "stream",
          "name": "stdout",
          "text": [
            "\n",
            "Test set: Average loss: 0.0184, Accuracy: 9942/10000 (99.42%)\n",
            "\n",
            "99.46 99.42\n",
            "EPOCH: 41\n"
          ]
        },
        {
          "output_type": "stream",
          "name": "stderr",
          "text": [
            "Loss=0.014879980124533176 Batch_id=468 Accuracy=99.35: 100%|██████████| 469/469 [00:13<00:00, 35.38it/s]\n"
          ]
        },
        {
          "output_type": "stream",
          "name": "stdout",
          "text": [
            "\n",
            "Test set: Average loss: 0.0180, Accuracy: 9946/10000 (99.46%)\n",
            "\n",
            "99.46 99.46\n",
            "Saving model here\n",
            "EPOCH: 42\n"
          ]
        },
        {
          "output_type": "stream",
          "name": "stderr",
          "text": [
            "Loss=0.018985634669661522 Batch_id=468 Accuracy=99.33: 100%|██████████| 469/469 [00:13<00:00, 35.75it/s]\n"
          ]
        },
        {
          "output_type": "stream",
          "name": "stdout",
          "text": [
            "\n",
            "Test set: Average loss: 0.0183, Accuracy: 9946/10000 (99.46%)\n",
            "\n",
            "99.46 99.46\n",
            "Saving model here\n",
            "EPOCH: 43\n"
          ]
        },
        {
          "output_type": "stream",
          "name": "stderr",
          "text": [
            "Loss=0.002994045615196228 Batch_id=468 Accuracy=99.35: 100%|██████████| 469/469 [00:13<00:00, 35.72it/s]\n"
          ]
        },
        {
          "output_type": "stream",
          "name": "stdout",
          "text": [
            "\n",
            "Test set: Average loss: 0.0181, Accuracy: 9943/10000 (99.43%)\n",
            "\n",
            "99.46 99.43\n",
            "EPOCH: 44\n"
          ]
        },
        {
          "output_type": "stream",
          "name": "stderr",
          "text": [
            "Loss=0.00778867257758975 Batch_id=468 Accuracy=99.36: 100%|██████████| 469/469 [00:13<00:00, 35.45it/s]\n"
          ]
        },
        {
          "output_type": "stream",
          "name": "stdout",
          "text": [
            "\n",
            "Test set: Average loss: 0.0191, Accuracy: 9941/10000 (99.41%)\n",
            "\n",
            "99.46 99.41\n",
            "EPOCH: 45\n"
          ]
        },
        {
          "output_type": "stream",
          "name": "stderr",
          "text": [
            "Loss=0.002465047175064683 Batch_id=468 Accuracy=99.33: 100%|██████████| 469/469 [00:13<00:00, 35.18it/s]\n"
          ]
        },
        {
          "output_type": "stream",
          "name": "stdout",
          "text": [
            "\n",
            "Test set: Average loss: 0.0180, Accuracy: 9945/10000 (99.45%)\n",
            "\n",
            "99.46 99.45\n",
            "EPOCH: 46\n"
          ]
        },
        {
          "output_type": "stream",
          "name": "stderr",
          "text": [
            "Loss=0.005003333557397127 Batch_id=468 Accuracy=99.38: 100%|██████████| 469/469 [00:13<00:00, 35.84it/s]\n"
          ]
        },
        {
          "output_type": "stream",
          "name": "stdout",
          "text": [
            "\n",
            "Test set: Average loss: 0.0183, Accuracy: 9944/10000 (99.44%)\n",
            "\n",
            "99.46 99.44\n",
            "EPOCH: 47\n"
          ]
        },
        {
          "output_type": "stream",
          "name": "stderr",
          "text": [
            "Loss=0.008983730338513851 Batch_id=468 Accuracy=99.39: 100%|██████████| 469/469 [00:13<00:00, 34.64it/s]\n"
          ]
        },
        {
          "output_type": "stream",
          "name": "stdout",
          "text": [
            "\n",
            "Test set: Average loss: 0.0181, Accuracy: 9944/10000 (99.44%)\n",
            "\n",
            "99.46 99.44\n",
            "EPOCH: 48\n"
          ]
        },
        {
          "output_type": "stream",
          "name": "stderr",
          "text": [
            "Loss=0.033340808004140854 Batch_id=468 Accuracy=99.39: 100%|██████████| 469/469 [00:13<00:00, 35.58it/s]\n"
          ]
        },
        {
          "output_type": "stream",
          "name": "stdout",
          "text": [
            "\n",
            "Test set: Average loss: 0.0189, Accuracy: 9941/10000 (99.41%)\n",
            "\n",
            "99.46 99.41\n",
            "EPOCH: 49\n"
          ]
        },
        {
          "output_type": "stream",
          "name": "stderr",
          "text": [
            "Loss=0.002529869554564357 Batch_id=468 Accuracy=99.38: 100%|██████████| 469/469 [00:13<00:00, 35.99it/s]\n"
          ]
        },
        {
          "output_type": "stream",
          "name": "stdout",
          "text": [
            "\n",
            "Test set: Average loss: 0.0181, Accuracy: 9944/10000 (99.44%)\n",
            "\n",
            "99.46 99.44\n"
          ]
        }
      ]
    },
    {
      "cell_type": "code",
      "metadata": {
        "colab": {
          "base_uri": "https://localhost:8080/",
          "height": 336
        },
        "id": "bEoPWPFzr046",
        "outputId": "5be448f0-907d-49b7-f842-ef43483482df"
      },
      "source": [
        "plot_curves('7k params with dw',test_model)"
      ],
      "execution_count": null,
      "outputs": [
        {
          "output_type": "display_data",
          "data": {
            "image/png": "[encoded data removed]",
            "text/plain": [
              "<Figure size 1080x360 with 2 Axes>"
            ]
          },
          "metadata": {
            "needs_background": "light"
          }
        }
      ]
    },
    {
      "cell_type": "markdown",
      "metadata": {
        "id": "BoReBChtcZxC"
      },
      "source": [
        "#### 7K MODEL WITH 7.6 K PARAMS\n"
      ]
    },
    {
      "cell_type": "code",
      "metadata": {
        "id": "f7vED-haWid5",
        "colab": {
          "base_uri": "https://localhost:8080/"
        },
        "outputId": "6aed134f-3541-40a5-87cb-46855ec9385f"
      },
      "source": [
        "test_model = Net1().to('cuda')\n",
        "summary(test_model, input_size = (1,28,28))\n",
        "\n",
        "epochs = 50\n",
        "optimizer = optim.Adam(test_model.parameters(), lr = 0.01)\n",
        "scheduler = StepLR(optimizer, step_size=5, gamma=0.1)\n",
        "path = './quantization/pytorch_model/mosaic_7k_dw_new.pth'\n"
      ],
      "execution_count": null,
      "outputs": [
        {
          "output_type": "stream",
          "name": "stdout",
          "text": [
            "----------------------------------------------------------------\n",
            "        Layer (type)               Output Shape         Param #\n",
            "================================================================\n",
            "            Conv2d-1           [-1, 10, 26, 26]              90\n",
            "              ReLU-2           [-1, 10, 26, 26]               0\n",
            "       BatchNorm2d-3           [-1, 10, 26, 26]              20\n",
            "            Conv2d-4           [-1, 10, 24, 24]              90\n",
            "            Conv2d-5           [-1, 12, 24, 24]             120\n",
            "              ReLU-6           [-1, 12, 24, 24]               0\n",
            "       BatchNorm2d-7           [-1, 12, 24, 24]              24\n",
            "           Dropout-8           [-1, 12, 24, 24]               0\n",
            "            Conv2d-9           [-1, 10, 24, 24]             120\n",
            "        MaxPool2d-10           [-1, 10, 12, 12]               0\n",
            "           Conv2d-11           [-1, 13, 10, 10]           1,170\n",
            "             ReLU-12           [-1, 13, 10, 10]               0\n",
            "      BatchNorm2d-13           [-1, 13, 10, 10]              26\n",
            "           Conv2d-14             [-1, 16, 8, 8]           1,872\n",
            "             ReLU-15             [-1, 16, 8, 8]               0\n",
            "      BatchNorm2d-16             [-1, 16, 8, 8]              32\n",
            "          Dropout-17             [-1, 16, 8, 8]               0\n",
            "           Conv2d-18             [-1, 12, 8, 8]             192\n",
            "        MaxPool2d-19             [-1, 12, 4, 4]               0\n",
            "           Conv2d-20             [-1, 15, 4, 4]           1,620\n",
            "             ReLU-21             [-1, 15, 4, 4]               0\n",
            "      BatchNorm2d-22             [-1, 15, 4, 4]              30\n",
            "          Dropout-23             [-1, 15, 4, 4]               0\n",
            "           Conv2d-24             [-1, 15, 4, 4]           2,025\n",
            "             ReLU-25             [-1, 15, 4, 4]               0\n",
            "      BatchNorm2d-26             [-1, 15, 4, 4]              30\n",
            "        AvgPool2d-27             [-1, 15, 1, 1]               0\n",
            "           Conv2d-28             [-1, 10, 1, 1]             150\n",
            "================================================================\n",
            "Total params: 7,611\n",
            "Trainable params: 7,611\n",
            "Non-trainable params: 0\n",
            "----------------------------------------------------------------\n",
            "Input size (MB): 0.00\n",
            "Forward/backward pass size (MB): 0.55\n",
            "Params size (MB): 0.03\n",
            "Estimated Total Size (MB): 0.58\n",
            "----------------------------------------------------------------\n"
          ]
        }
      ]
    },
    {
      "cell_type": "code",
      "metadata": {
        "colab": {
          "base_uri": "https://localhost:8080/"
        },
        "id": "AtvxtTdGcPN-",
        "outputId": "7dbc9436-ecea-421e-d6e8-fe91fb7fa261"
      },
      "source": [
        "execute_model(test_model, save_best_model=True)"
      ],
      "execution_count": null,
      "outputs": [
        {
          "output_type": "stream",
          "name": "stdout",
          "text": [
            "EPOCH: 0\n"
          ]
        },
        {
          "output_type": "stream",
          "name": "stderr",
          "text": [
            "\r  0%|          | 0/469 [00:00<?, ?it/s]/usr/local/lib/python3.7/dist-packages/torch/utils/data/dataloader.py:481: UserWarning: This DataLoader will create 4 worker processes in total. Our suggested max number of worker in current system is 2, which is smaller than what this DataLoader is going to create. Please be aware that excessive worker creation might get DataLoader running slow or even freeze, lower the worker number to avoid potential slowness/freeze if necessary.\n",
            "  cpuset_checked))\n",
            "Loss=0.13090483844280243 Batch_id=468 Accuracy=93.51: 100%|██████████| 469/469 [00:11<00:00, 40.62it/s]\n"
          ]
        },
        {
          "output_type": "stream",
          "name": "stdout",
          "text": [
            "\n",
            "Test set: Average loss: 0.1281, Accuracy: 9607/10000 (96.07%)\n",
            "\n",
            "96.07 96.07\n",
            "Saving model here\n",
            "EPOCH: 1\n"
          ]
        },
        {
          "output_type": "stream",
          "name": "stderr",
          "text": [
            "Loss=0.06565754115581512 Batch_id=468 Accuracy=97.55: 100%|██████████| 469/469 [00:11<00:00, 40.87it/s]\n"
          ]
        },
        {
          "output_type": "stream",
          "name": "stdout",
          "text": [
            "\n",
            "Test set: Average loss: 0.0567, Accuracy: 9813/10000 (98.13%)\n",
            "\n",
            "98.13 98.13\n",
            "Saving model here\n",
            "EPOCH: 2\n"
          ]
        },
        {
          "output_type": "stream",
          "name": "stderr",
          "text": [
            "Loss=0.031689006835222244 Batch_id=468 Accuracy=98.03: 100%|██████████| 469/469 [00:11<00:00, 40.28it/s]\n"
          ]
        },
        {
          "output_type": "stream",
          "name": "stdout",
          "text": [
            "\n",
            "Test set: Average loss: 0.0488, Accuracy: 9849/10000 (98.49%)\n",
            "\n",
            "98.49 98.49\n",
            "Saving model here\n",
            "EPOCH: 3\n"
          ]
        },
        {
          "output_type": "stream",
          "name": "stderr",
          "text": [
            "Loss=0.175955668091774 Batch_id=468 Accuracy=98.27: 100%|██████████| 469/469 [00:11<00:00, 40.37it/s]\n"
          ]
        },
        {
          "output_type": "stream",
          "name": "stdout",
          "text": [
            "\n",
            "Test set: Average loss: 0.0382, Accuracy: 9887/10000 (98.87%)\n",
            "\n",
            "98.87 98.87\n",
            "Saving model here\n",
            "EPOCH: 4\n"
          ]
        },
        {
          "output_type": "stream",
          "name": "stderr",
          "text": [
            "Loss=0.07044311612844467 Batch_id=468 Accuracy=98.41: 100%|██████████| 469/469 [00:11<00:00, 40.12it/s]\n"
          ]
        },
        {
          "output_type": "stream",
          "name": "stdout",
          "text": [
            "\n",
            "Test set: Average loss: 0.0393, Accuracy: 9879/10000 (98.79%)\n",
            "\n",
            "98.87 98.79\n",
            "EPOCH: 5\n"
          ]
        },
        {
          "output_type": "stream",
          "name": "stderr",
          "text": [
            "Loss=0.008538560010492802 Batch_id=468 Accuracy=98.98: 100%|██████████| 469/469 [00:11<00:00, 40.44it/s]\n"
          ]
        },
        {
          "output_type": "stream",
          "name": "stdout",
          "text": [
            "\n",
            "Test set: Average loss: 0.0258, Accuracy: 9921/10000 (99.21%)\n",
            "\n",
            "99.21 99.21\n",
            "Saving model here\n",
            "EPOCH: 6\n"
          ]
        },
        {
          "output_type": "stream",
          "name": "stderr",
          "text": [
            "Loss=0.041385192424058914 Batch_id=468 Accuracy=99.09: 100%|██████████| 469/469 [00:11<00:00, 40.64it/s]\n"
          ]
        },
        {
          "output_type": "stream",
          "name": "stdout",
          "text": [
            "\n",
            "Test set: Average loss: 0.0253, Accuracy: 9911/10000 (99.11%)\n",
            "\n",
            "99.21 99.11\n",
            "EPOCH: 7\n"
          ]
        },
        {
          "output_type": "stream",
          "name": "stderr",
          "text": [
            "Loss=0.018815508112311363 Batch_id=468 Accuracy=99.08: 100%|██████████| 469/469 [00:11<00:00, 40.67it/s]\n"
          ]
        },
        {
          "output_type": "stream",
          "name": "stdout",
          "text": [
            "\n",
            "Test set: Average loss: 0.0246, Accuracy: 9922/10000 (99.22%)\n",
            "\n",
            "99.22 99.22\n",
            "Saving model here\n",
            "EPOCH: 8\n"
          ]
        },
        {
          "output_type": "stream",
          "name": "stderr",
          "text": [
            "Loss=0.004526353906840086 Batch_id=468 Accuracy=99.12: 100%|██████████| 469/469 [00:11<00:00, 40.54it/s]\n"
          ]
        },
        {
          "output_type": "stream",
          "name": "stdout",
          "text": [
            "\n",
            "Test set: Average loss: 0.0237, Accuracy: 9919/10000 (99.19%)\n",
            "\n",
            "99.22 99.19\n",
            "EPOCH: 9\n"
          ]
        },
        {
          "output_type": "stream",
          "name": "stderr",
          "text": [
            "Loss=0.003062059171497822 Batch_id=468 Accuracy=99.14: 100%|██████████| 469/469 [00:11<00:00, 40.23it/s]\n"
          ]
        },
        {
          "output_type": "stream",
          "name": "stdout",
          "text": [
            "\n",
            "Test set: Average loss: 0.0247, Accuracy: 9925/10000 (99.25%)\n",
            "\n",
            "99.25 99.25\n",
            "Saving model here\n",
            "EPOCH: 10\n"
          ]
        },
        {
          "output_type": "stream",
          "name": "stderr",
          "text": [
            "Loss=0.008385790511965752 Batch_id=468 Accuracy=99.26: 100%|██████████| 469/469 [00:11<00:00, 40.52it/s]\n"
          ]
        },
        {
          "output_type": "stream",
          "name": "stdout",
          "text": [
            "\n",
            "Test set: Average loss: 0.0236, Accuracy: 9924/10000 (99.24%)\n",
            "\n",
            "99.25 99.24\n",
            "EPOCH: 11\n"
          ]
        },
        {
          "output_type": "stream",
          "name": "stderr",
          "text": [
            "Loss=0.08226577192544937 Batch_id=468 Accuracy=99.28: 100%|██████████| 469/469 [00:11<00:00, 40.32it/s]\n"
          ]
        },
        {
          "output_type": "stream",
          "name": "stdout",
          "text": [
            "\n",
            "Test set: Average loss: 0.0236, Accuracy: 9925/10000 (99.25%)\n",
            "\n",
            "99.25 99.25\n",
            "Saving model here\n",
            "EPOCH: 12\n"
          ]
        },
        {
          "output_type": "stream",
          "name": "stderr",
          "text": [
            "Loss=0.009610921144485474 Batch_id=468 Accuracy=99.24: 100%|██████████| 469/469 [00:11<00:00, 40.54it/s]\n"
          ]
        },
        {
          "output_type": "stream",
          "name": "stdout",
          "text": [
            "\n",
            "Test set: Average loss: 0.0241, Accuracy: 9920/10000 (99.20%)\n",
            "\n",
            "99.25 99.2\n",
            "EPOCH: 13\n"
          ]
        },
        {
          "output_type": "stream",
          "name": "stderr",
          "text": [
            "Loss=0.002387305023148656 Batch_id=468 Accuracy=99.27: 100%|██████████| 469/469 [00:11<00:00, 40.78it/s]\n"
          ]
        },
        {
          "output_type": "stream",
          "name": "stdout",
          "text": [
            "\n",
            "Test set: Average loss: 0.0232, Accuracy: 9928/10000 (99.28%)\n",
            "\n",
            "99.28 99.28\n",
            "Saving model here\n",
            "EPOCH: 14\n"
          ]
        },
        {
          "output_type": "stream",
          "name": "stderr",
          "text": [
            "Loss=0.006180583033710718 Batch_id=468 Accuracy=99.28: 100%|██████████| 469/469 [00:11<00:00, 40.39it/s]\n"
          ]
        },
        {
          "output_type": "stream",
          "name": "stdout",
          "text": [
            "\n",
            "Test set: Average loss: 0.0230, Accuracy: 9928/10000 (99.28%)\n",
            "\n",
            "99.28 99.28\n",
            "Saving model here\n",
            "EPOCH: 15\n"
          ]
        },
        {
          "output_type": "stream",
          "name": "stderr",
          "text": [
            "Loss=0.007284469902515411 Batch_id=468 Accuracy=99.25: 100%|██████████| 469/469 [00:11<00:00, 40.09it/s]\n"
          ]
        },
        {
          "output_type": "stream",
          "name": "stdout",
          "text": [
            "\n",
            "Test set: Average loss: 0.0236, Accuracy: 9927/10000 (99.27%)\n",
            "\n",
            "99.28 99.27\n",
            "EPOCH: 16\n"
          ]
        },
        {
          "output_type": "stream",
          "name": "stderr",
          "text": [
            "Loss=0.05470110476016998 Batch_id=468 Accuracy=99.31: 100%|██████████| 469/469 [00:11<00:00, 40.71it/s]\n"
          ]
        },
        {
          "output_type": "stream",
          "name": "stdout",
          "text": [
            "\n",
            "Test set: Average loss: 0.0228, Accuracy: 9931/10000 (99.31%)\n",
            "\n",
            "99.31 99.31\n",
            "Saving model here\n",
            "EPOCH: 17\n"
          ]
        },
        {
          "output_type": "stream",
          "name": "stderr",
          "text": [
            "Loss=0.006730444263666868 Batch_id=468 Accuracy=99.29: 100%|██████████| 469/469 [00:11<00:00, 40.21it/s]\n"
          ]
        },
        {
          "output_type": "stream",
          "name": "stdout",
          "text": [
            "\n",
            "Test set: Average loss: 0.0236, Accuracy: 9925/10000 (99.25%)\n",
            "\n",
            "99.31 99.25\n",
            "EPOCH: 18\n"
          ]
        },
        {
          "output_type": "stream",
          "name": "stderr",
          "text": [
            "Loss=0.008591183461248875 Batch_id=468 Accuracy=99.29: 100%|██████████| 469/469 [00:11<00:00, 40.79it/s]\n"
          ]
        },
        {
          "output_type": "stream",
          "name": "stdout",
          "text": [
            "\n",
            "Test set: Average loss: 0.0245, Accuracy: 9926/10000 (99.26%)\n",
            "\n",
            "99.31 99.26\n",
            "EPOCH: 19\n"
          ]
        },
        {
          "output_type": "stream",
          "name": "stderr",
          "text": [
            "Loss=0.06954629719257355 Batch_id=468 Accuracy=99.28: 100%|██████████| 469/469 [00:11<00:00, 40.77it/s]\n"
          ]
        },
        {
          "output_type": "stream",
          "name": "stdout",
          "text": [
            "\n",
            "Test set: Average loss: 0.0234, Accuracy: 9927/10000 (99.27%)\n",
            "\n",
            "99.31 99.27\n",
            "EPOCH: 20\n"
          ]
        },
        {
          "output_type": "stream",
          "name": "stderr",
          "text": [
            "Loss=0.013369708321988583 Batch_id=468 Accuracy=99.27: 100%|██████████| 469/469 [00:11<00:00, 40.96it/s]\n"
          ]
        },
        {
          "output_type": "stream",
          "name": "stdout",
          "text": [
            "\n",
            "Test set: Average loss: 0.0232, Accuracy: 9926/10000 (99.26%)\n",
            "\n",
            "99.31 99.26\n",
            "EPOCH: 21\n"
          ]
        },
        {
          "output_type": "stream",
          "name": "stderr",
          "text": [
            "Loss=0.012492910958826542 Batch_id=468 Accuracy=99.28: 100%|██████████| 469/469 [00:11<00:00, 40.84it/s]\n"
          ]
        },
        {
          "output_type": "stream",
          "name": "stdout",
          "text": [
            "\n",
            "Test set: Average loss: 0.0234, Accuracy: 9930/10000 (99.30%)\n",
            "\n",
            "99.31 99.3\n",
            "EPOCH: 22\n"
          ]
        },
        {
          "output_type": "stream",
          "name": "stderr",
          "text": [
            "Loss=0.023412197828292847 Batch_id=468 Accuracy=99.29: 100%|██████████| 469/469 [00:11<00:00, 40.67it/s]\n"
          ]
        },
        {
          "output_type": "stream",
          "name": "stdout",
          "text": [
            "\n",
            "Test set: Average loss: 0.0230, Accuracy: 9927/10000 (99.27%)\n",
            "\n",
            "99.31 99.27\n",
            "EPOCH: 23\n"
          ]
        },
        {
          "output_type": "stream",
          "name": "stderr",
          "text": [
            "Loss=0.004855922888964415 Batch_id=468 Accuracy=99.31: 100%|██████████| 469/469 [00:12<00:00, 38.03it/s]\n"
          ]
        },
        {
          "output_type": "stream",
          "name": "stdout",
          "text": [
            "\n",
            "Test set: Average loss: 0.0232, Accuracy: 9928/10000 (99.28%)\n",
            "\n",
            "99.31 99.28\n",
            "EPOCH: 24\n"
          ]
        },
        {
          "output_type": "stream",
          "name": "stderr",
          "text": [
            "Loss=0.005448854994028807 Batch_id=468 Accuracy=99.31: 100%|██████████| 469/469 [00:12<00:00, 38.91it/s]\n"
          ]
        },
        {
          "output_type": "stream",
          "name": "stdout",
          "text": [
            "\n",
            "Test set: Average loss: 0.0228, Accuracy: 9927/10000 (99.27%)\n",
            "\n",
            "99.31 99.27\n",
            "EPOCH: 25\n"
          ]
        },
        {
          "output_type": "stream",
          "name": "stderr",
          "text": [
            "Loss=0.005849994253367186 Batch_id=468 Accuracy=99.31: 100%|██████████| 469/469 [00:12<00:00, 38.14it/s]\n"
          ]
        },
        {
          "output_type": "stream",
          "name": "stdout",
          "text": [
            "\n",
            "Test set: Average loss: 0.0229, Accuracy: 9929/10000 (99.29%)\n",
            "\n",
            "99.31 99.29\n",
            "EPOCH: 26\n"
          ]
        },
        {
          "output_type": "stream",
          "name": "stderr",
          "text": [
            "Loss=0.006535604130476713 Batch_id=468 Accuracy=99.33: 100%|██████████| 469/469 [00:11<00:00, 39.73it/s]\n"
          ]
        },
        {
          "output_type": "stream",
          "name": "stdout",
          "text": [
            "\n",
            "Test set: Average loss: 0.0235, Accuracy: 9925/10000 (99.25%)\n",
            "\n",
            "99.31 99.25\n",
            "EPOCH: 27\n"
          ]
        },
        {
          "output_type": "stream",
          "name": "stderr",
          "text": [
            "Loss=0.00594748929142952 Batch_id=468 Accuracy=99.28: 100%|██████████| 469/469 [00:11<00:00, 40.24it/s]\n"
          ]
        },
        {
          "output_type": "stream",
          "name": "stdout",
          "text": [
            "\n",
            "Test set: Average loss: 0.0237, Accuracy: 9928/10000 (99.28%)\n",
            "\n",
            "99.31 99.28\n",
            "EPOCH: 28\n"
          ]
        },
        {
          "output_type": "stream",
          "name": "stderr",
          "text": [
            "Loss=0.0019165356643497944 Batch_id=468 Accuracy=99.26: 100%|██████████| 469/469 [00:11<00:00, 40.33it/s]\n"
          ]
        },
        {
          "output_type": "stream",
          "name": "stdout",
          "text": [
            "\n",
            "Test set: Average loss: 0.0232, Accuracy: 9927/10000 (99.27%)\n",
            "\n",
            "99.31 99.27\n",
            "EPOCH: 29\n"
          ]
        },
        {
          "output_type": "stream",
          "name": "stderr",
          "text": [
            "Loss=0.006686723325401545 Batch_id=468 Accuracy=99.30: 100%|██████████| 469/469 [00:11<00:00, 39.75it/s]\n"
          ]
        },
        {
          "output_type": "stream",
          "name": "stdout",
          "text": [
            "\n",
            "Test set: Average loss: 0.0239, Accuracy: 9925/10000 (99.25%)\n",
            "\n",
            "99.31 99.25\n",
            "EPOCH: 30\n"
          ]
        },
        {
          "output_type": "stream",
          "name": "stderr",
          "text": [
            "Loss=0.13173054158687592 Batch_id=468 Accuracy=99.27: 100%|██████████| 469/469 [00:11<00:00, 40.16it/s]\n"
          ]
        },
        {
          "output_type": "stream",
          "name": "stdout",
          "text": [
            "\n",
            "Test set: Average loss: 0.0232, Accuracy: 9926/10000 (99.26%)\n",
            "\n",
            "99.31 99.26\n",
            "EPOCH: 31\n"
          ]
        },
        {
          "output_type": "stream",
          "name": "stderr",
          "text": [
            "Loss=0.018181422725319862 Batch_id=468 Accuracy=99.27: 100%|██████████| 469/469 [00:11<00:00, 39.79it/s]\n"
          ]
        },
        {
          "output_type": "stream",
          "name": "stdout",
          "text": [
            "\n",
            "Test set: Average loss: 0.0238, Accuracy: 9924/10000 (99.24%)\n",
            "\n",
            "99.31 99.24\n",
            "EPOCH: 32\n"
          ]
        },
        {
          "output_type": "stream",
          "name": "stderr",
          "text": [
            "Loss=0.004015788435935974 Batch_id=468 Accuracy=99.27: 100%|██████████| 469/469 [00:11<00:00, 39.77it/s]\n"
          ]
        },
        {
          "output_type": "stream",
          "name": "stdout",
          "text": [
            "\n",
            "Test set: Average loss: 0.0233, Accuracy: 9928/10000 (99.28%)\n",
            "\n",
            "99.31 99.28\n",
            "EPOCH: 33\n"
          ]
        },
        {
          "output_type": "stream",
          "name": "stderr",
          "text": [
            "Loss=0.08537200093269348 Batch_id=468 Accuracy=99.27: 100%|██████████| 469/469 [00:11<00:00, 39.13it/s]\n"
          ]
        },
        {
          "output_type": "stream",
          "name": "stdout",
          "text": [
            "\n",
            "Test set: Average loss: 0.0233, Accuracy: 9929/10000 (99.29%)\n",
            "\n",
            "99.31 99.29\n",
            "EPOCH: 34\n"
          ]
        },
        {
          "output_type": "stream",
          "name": "stderr",
          "text": [
            "Loss=0.020938977599143982 Batch_id=468 Accuracy=99.28: 100%|██████████| 469/469 [00:12<00:00, 38.63it/s]\n"
          ]
        },
        {
          "output_type": "stream",
          "name": "stdout",
          "text": [
            "\n",
            "Test set: Average loss: 0.0230, Accuracy: 9926/10000 (99.26%)\n",
            "\n",
            "99.31 99.26\n",
            "EPOCH: 35\n"
          ]
        },
        {
          "output_type": "stream",
          "name": "stderr",
          "text": [
            "Loss=0.02247251570224762 Batch_id=468 Accuracy=99.31: 100%|██████████| 469/469 [00:11<00:00, 39.71it/s]\n"
          ]
        },
        {
          "output_type": "stream",
          "name": "stdout",
          "text": [
            "\n",
            "Test set: Average loss: 0.0240, Accuracy: 9926/10000 (99.26%)\n",
            "\n",
            "99.31 99.26\n",
            "EPOCH: 36\n"
          ]
        },
        {
          "output_type": "stream",
          "name": "stderr",
          "text": [
            "Loss=0.012650396674871445 Batch_id=468 Accuracy=99.29: 100%|██████████| 469/469 [00:11<00:00, 39.95it/s]\n"
          ]
        },
        {
          "output_type": "stream",
          "name": "stdout",
          "text": [
            "\n",
            "Test set: Average loss: 0.0248, Accuracy: 9925/10000 (99.25%)\n",
            "\n",
            "99.31 99.25\n",
            "EPOCH: 37\n"
          ]
        },
        {
          "output_type": "stream",
          "name": "stderr",
          "text": [
            "Loss=0.03469930216670036 Batch_id=468 Accuracy=99.23: 100%|██████████| 469/469 [00:11<00:00, 40.06it/s]\n"
          ]
        },
        {
          "output_type": "stream",
          "name": "stdout",
          "text": [
            "\n",
            "Test set: Average loss: 0.0242, Accuracy: 9925/10000 (99.25%)\n",
            "\n",
            "99.31 99.25\n",
            "EPOCH: 38\n"
          ]
        },
        {
          "output_type": "stream",
          "name": "stderr",
          "text": [
            "Loss=0.047761380672454834 Batch_id=468 Accuracy=99.29: 100%|██████████| 469/469 [00:11<00:00, 40.28it/s]\n"
          ]
        },
        {
          "output_type": "stream",
          "name": "stdout",
          "text": [
            "\n",
            "Test set: Average loss: 0.0236, Accuracy: 9925/10000 (99.25%)\n",
            "\n",
            "99.31 99.25\n",
            "EPOCH: 39\n"
          ]
        },
        {
          "output_type": "stream",
          "name": "stderr",
          "text": [
            "Loss=0.012024745345115662 Batch_id=468 Accuracy=99.31: 100%|██████████| 469/469 [00:11<00:00, 39.54it/s]\n"
          ]
        },
        {
          "output_type": "stream",
          "name": "stdout",
          "text": [
            "\n",
            "Test set: Average loss: 0.0232, Accuracy: 9925/10000 (99.25%)\n",
            "\n",
            "99.31 99.25\n",
            "EPOCH: 40\n"
          ]
        },
        {
          "output_type": "stream",
          "name": "stderr",
          "text": [
            "Loss=0.028406566008925438 Batch_id=468 Accuracy=99.31: 100%|██████████| 469/469 [00:11<00:00, 39.55it/s]\n"
          ]
        },
        {
          "output_type": "stream",
          "name": "stdout",
          "text": [
            "\n",
            "Test set: Average loss: 0.0236, Accuracy: 9927/10000 (99.27%)\n",
            "\n",
            "99.31 99.27\n",
            "EPOCH: 41\n"
          ]
        },
        {
          "output_type": "stream",
          "name": "stderr",
          "text": [
            "Loss=0.008627836592495441 Batch_id=468 Accuracy=99.33: 100%|██████████| 469/469 [00:11<00:00, 39.66it/s]\n"
          ]
        },
        {
          "output_type": "stream",
          "name": "stdout",
          "text": [
            "\n",
            "Test set: Average loss: 0.0229, Accuracy: 9930/10000 (99.30%)\n",
            "\n",
            "99.31 99.3\n",
            "EPOCH: 42\n"
          ]
        },
        {
          "output_type": "stream",
          "name": "stderr",
          "text": [
            "Loss=0.015173579566180706 Batch_id=468 Accuracy=99.27: 100%|██████████| 469/469 [00:11<00:00, 39.91it/s]\n"
          ]
        },
        {
          "output_type": "stream",
          "name": "stdout",
          "text": [
            "\n",
            "Test set: Average loss: 0.0233, Accuracy: 9928/10000 (99.28%)\n",
            "\n",
            "99.31 99.28\n",
            "EPOCH: 43\n"
          ]
        },
        {
          "output_type": "stream",
          "name": "stderr",
          "text": [
            "Loss=0.015255617909133434 Batch_id=468 Accuracy=99.28: 100%|██████████| 469/469 [00:11<00:00, 40.27it/s]\n"
          ]
        },
        {
          "output_type": "stream",
          "name": "stdout",
          "text": [
            "\n",
            "Test set: Average loss: 0.0232, Accuracy: 9927/10000 (99.27%)\n",
            "\n",
            "99.31 99.27\n",
            "EPOCH: 44\n"
          ]
        },
        {
          "output_type": "stream",
          "name": "stderr",
          "text": [
            "Loss=0.006850117817521095 Batch_id=468 Accuracy=99.28: 100%|██████████| 469/469 [00:11<00:00, 39.82it/s]\n"
          ]
        },
        {
          "output_type": "stream",
          "name": "stdout",
          "text": [
            "\n",
            "Test set: Average loss: 0.0235, Accuracy: 9927/10000 (99.27%)\n",
            "\n",
            "99.31 99.27\n",
            "EPOCH: 45\n"
          ]
        },
        {
          "output_type": "stream",
          "name": "stderr",
          "text": [
            "Loss=0.007182084023952484 Batch_id=468 Accuracy=99.31: 100%|██████████| 469/469 [00:11<00:00, 39.45it/s]\n"
          ]
        },
        {
          "output_type": "stream",
          "name": "stdout",
          "text": [
            "\n",
            "Test set: Average loss: 0.0228, Accuracy: 9933/10000 (99.33%)\n",
            "\n",
            "99.33 99.33\n",
            "Saving model here\n",
            "EPOCH: 46\n"
          ]
        },
        {
          "output_type": "stream",
          "name": "stderr",
          "text": [
            "Loss=0.0022405392955988646 Batch_id=468 Accuracy=99.28: 100%|██████████| 469/469 [00:11<00:00, 39.31it/s]\n"
          ]
        },
        {
          "output_type": "stream",
          "name": "stdout",
          "text": [
            "\n",
            "Test set: Average loss: 0.0237, Accuracy: 9927/10000 (99.27%)\n",
            "\n",
            "99.33 99.27\n",
            "EPOCH: 47\n"
          ]
        },
        {
          "output_type": "stream",
          "name": "stderr",
          "text": [
            "Loss=0.002883447101339698 Batch_id=468 Accuracy=99.30: 100%|██████████| 469/469 [00:11<00:00, 39.10it/s]\n"
          ]
        },
        {
          "output_type": "stream",
          "name": "stdout",
          "text": [
            "\n",
            "Test set: Average loss: 0.0228, Accuracy: 9930/10000 (99.30%)\n",
            "\n",
            "99.33 99.3\n",
            "EPOCH: 48\n"
          ]
        },
        {
          "output_type": "stream",
          "name": "stderr",
          "text": [
            "Loss=0.009814745746552944 Batch_id=468 Accuracy=99.26: 100%|██████████| 469/469 [00:11<00:00, 40.21it/s]\n"
          ]
        },
        {
          "output_type": "stream",
          "name": "stdout",
          "text": [
            "\n",
            "Test set: Average loss: 0.0235, Accuracy: 9926/10000 (99.26%)\n",
            "\n",
            "99.33 99.26\n",
            "EPOCH: 49\n"
          ]
        },
        {
          "output_type": "stream",
          "name": "stderr",
          "text": [
            "Loss=0.045463334769010544 Batch_id=468 Accuracy=99.27: 100%|██████████| 469/469 [00:11<00:00, 39.49it/s]\n"
          ]
        },
        {
          "output_type": "stream",
          "name": "stdout",
          "text": [
            "\n",
            "Test set: Average loss: 0.0235, Accuracy: 9926/10000 (99.26%)\n",
            "\n",
            "99.33 99.26\n"
          ]
        }
      ]
    },
    {
      "cell_type": "code",
      "metadata": {
        "colab": {
          "base_uri": "https://localhost:8080/",
          "height": 336
        },
        "id": "lwkPcfuPeOk_",
        "outputId": "c14cc524-b488-474c-96ec-332a218f9f05"
      },
      "source": [
        "plot_curves('7.6 k params with dw',test_model)"
      ],
      "execution_count": null,
      "outputs": [
        {
          "output_type": "display_data",
          "data": {
            "image/png": "[encoded data removed]",
            "text/plain": [
              "<Figure size 1080x360 with 2 Axes>"
            ]
          },
          "metadata": {
            "needs_background": "light"
          }
        }
      ]
    },
    {
      "cell_type": "markdown",
      "metadata": {
        "id": "Cy63ZKBOthEF"
      },
      "source": [
        "#### 5.6K MODEL WITH DEPTHWISE CONV "
      ]
    },
    {
      "cell_type": "code",
      "metadata": {
        "colab": {
          "base_uri": "https://localhost:8080/"
        },
        "id": "2Hq_W3cktgca",
        "outputId": "98d4fd46-4b96-4242-ffbe-d4afd5a663fb"
      },
      "source": [
        "test_model = CNet1().to('cuda')\n",
        "summary(test_model, input_size = (1,28,28))\n",
        "\n",
        "epochs = 50\n",
        "optimizer = optim.Adam(test_model.parameters(), lr = 0.01)\n",
        "scheduler = StepLR(optimizer, step_size=5, gamma=0.1)\n",
        "path = './quantization/pytorch_model/mosaic_5K_dw_new.pth'"
      ],
      "execution_count": null,
      "outputs": [
        {
          "output_type": "stream",
          "name": "stdout",
          "text": [
            "----------------------------------------------------------------\n",
            "        Layer (type)               Output Shape         Param #\n",
            "================================================================\n",
            "            Conv2d-1            [-1, 8, 26, 26]              72\n",
            "              ReLU-2            [-1, 8, 26, 26]               0\n",
            "       BatchNorm2d-3            [-1, 8, 26, 26]              16\n",
            "            Conv2d-4            [-1, 8, 24, 24]              72\n",
            "            Conv2d-5           [-1, 12, 24, 24]              96\n",
            "              ReLU-6           [-1, 12, 24, 24]               0\n",
            "       BatchNorm2d-7           [-1, 12, 24, 24]              24\n",
            "           Dropout-8           [-1, 12, 24, 24]               0\n",
            "            Conv2d-9            [-1, 8, 24, 24]              96\n",
            "        MaxPool2d-10            [-1, 8, 12, 12]               0\n",
            "           Conv2d-11           [-1, 13, 10, 10]             936\n",
            "             ReLU-12           [-1, 13, 10, 10]               0\n",
            "      BatchNorm2d-13           [-1, 13, 10, 10]              26\n",
            "           Conv2d-14             [-1, 18, 8, 8]           2,106\n",
            "             ReLU-15             [-1, 18, 8, 8]               0\n",
            "      BatchNorm2d-16             [-1, 18, 8, 8]              36\n",
            "          Dropout-17             [-1, 18, 8, 8]               0\n",
            "           Conv2d-18             [-1, 12, 8, 8]             216\n",
            "        MaxPool2d-19             [-1, 12, 4, 4]               0\n",
            "           Conv2d-20             [-1, 16, 4, 4]           1,728\n",
            "             ReLU-21             [-1, 16, 4, 4]               0\n",
            "      BatchNorm2d-22             [-1, 16, 4, 4]              32\n",
            "          Dropout-23             [-1, 16, 4, 4]               0\n",
            "        AvgPool2d-24             [-1, 16, 1, 1]               0\n",
            "           Conv2d-25             [-1, 10, 1, 1]             160\n",
            "================================================================\n",
            "Total params: 5,616\n",
            "Trainable params: 5,616\n",
            "Non-trainable params: 0\n",
            "----------------------------------------------------------------\n",
            "Input size (MB): 0.00\n",
            "Forward/backward pass size (MB): 0.49\n",
            "Params size (MB): 0.02\n",
            "Estimated Total Size (MB): 0.52\n",
            "----------------------------------------------------------------\n"
          ]
        }
      ]
    },
    {
      "cell_type": "code",
      "metadata": {
        "colab": {
          "base_uri": "https://localhost:8080/"
        },
        "id": "Zb-ymw5ztrGE",
        "outputId": "2d4245e9-bb08-4f89-e43d-fadb5fb80362"
      },
      "source": [
        "execute_model(test_model, save_best_model=True)"
      ],
      "execution_count": null,
      "outputs": [
        {
          "metadata": {
            "tags": null
          },
          "name": "stdout",
          "output_type": "stream",
          "text": [
            "EPOCH: 0\n"
          ]
        },
        {
          "metadata": {
            "tags": null
          },
          "name": "stderr",
          "output_type": "stream",
          "text": [
            "  0%|          | 0/469 [00:00<?, ?it/s]/usr/local/lib/python3.7/dist-packages/torch/utils/data/dataloader.py:481: UserWarning: This DataLoader will create 4 worker processes in total. Our suggested max number of worker in current system is 2, which is smaller than what this DataLoader is going to create. Please be aware that excessive worker creation might get DataLoader running slow or even freeze, lower the worker number to avoid potential slowness/freeze if necessary.\n",
            "  cpuset_checked))\n",
            "Loss=0.13055835664272308 Batch_id=468 Accuracy=92.44: 100%|██████████| 469/469 [00:11<00:00, 39.51it/s]\n"
          ]
        },
        {
          "metadata": {
            "tags": null
          },
          "name": "stdout",
          "output_type": "stream",
          "text": [
            "\n",
            "Test set: Average loss: 0.1017, Accuracy: 9651/10000 (96.51%)\n",
            "\n",
            "96.51 96.51\n",
            "Saving model here\n",
            "EPOCH: 1\n"
          ]
        },
        {
          "metadata": {
            "tags": null
          },
          "name": "stderr",
          "output_type": "stream",
          "text": [
            "Loss=0.04787528142333031 Batch_id=468 Accuracy=97.67: 100%|██████████| 469/469 [00:12<00:00, 38.89it/s]\n"
          ]
        },
        {
          "metadata": {
            "tags": null
          },
          "name": "stdout",
          "output_type": "stream",
          "text": [
            "\n",
            "Test set: Average loss: 0.0436, Accuracy: 9868/10000 (98.68%)\n",
            "\n",
            "98.68 98.68\n",
            "Saving model here\n",
            "EPOCH: 2\n"
          ]
        },
        {
          "metadata": {
            "tags": null
          },
          "name": "stderr",
          "output_type": "stream",
          "text": [
            "Loss=0.019855692982673645 Batch_id=468 Accuracy=97.95: 100%|██████████| 469/469 [00:11<00:00, 39.74it/s]\n"
          ]
        },
        {
          "metadata": {
            "tags": null
          },
          "name": "stdout",
          "output_type": "stream",
          "text": [
            "\n",
            "Test set: Average loss: 0.0483, Accuracy: 9838/10000 (98.38%)\n",
            "\n",
            "98.68 98.38\n",
            "EPOCH: 3\n"
          ]
        },
        {
          "metadata": {
            "tags": null
          },
          "name": "stderr",
          "output_type": "stream",
          "text": [
            "Loss=0.057521283626556396 Batch_id=468 Accuracy=98.25: 100%|██████████| 469/469 [00:11<00:00, 40.15it/s]\n"
          ]
        },
        {
          "metadata": {
            "tags": null
          },
          "name": "stdout",
          "output_type": "stream",
          "text": [
            "\n",
            "Test set: Average loss: 0.0451, Accuracy: 9859/10000 (98.59%)\n",
            "\n",
            "98.68 98.59\n",
            "EPOCH: 4\n"
          ]
        },
        {
          "metadata": {
            "tags": null
          },
          "name": "stderr",
          "output_type": "stream",
          "text": [
            "Loss=0.11048400402069092 Batch_id=468 Accuracy=98.37: 100%|██████████| 469/469 [00:11<00:00, 39.38it/s]\n"
          ]
        },
        {
          "metadata": {
            "tags": null
          },
          "name": "stdout",
          "output_type": "stream",
          "text": [
            "\n",
            "Test set: Average loss: 0.0370, Accuracy: 9882/10000 (98.82%)\n",
            "\n",
            "98.82 98.82\n",
            "Saving model here\n",
            "EPOCH: 5\n"
          ]
        },
        {
          "metadata": {
            "tags": null
          },
          "name": "stderr",
          "output_type": "stream",
          "text": [
            "Loss=0.0676373764872551 Batch_id=468 Accuracy=98.89: 100%|██████████| 469/469 [00:11<00:00, 39.89it/s]\n"
          ]
        },
        {
          "metadata": {
            "tags": null
          },
          "name": "stdout",
          "output_type": "stream",
          "text": [
            "\n",
            "Test set: Average loss: 0.0262, Accuracy: 9914/10000 (99.14%)\n",
            "\n",
            "99.14 99.14\n",
            "Saving model here\n",
            "EPOCH: 6\n"
          ]
        },
        {
          "metadata": {
            "tags": null
          },
          "name": "stderr",
          "output_type": "stream",
          "text": [
            "Loss=0.04417817294597626 Batch_id=468 Accuracy=98.97: 100%|██████████| 469/469 [00:11<00:00, 39.40it/s]\n"
          ]
        },
        {
          "metadata": {
            "tags": null
          },
          "name": "stdout",
          "output_type": "stream",
          "text": [
            "\n",
            "Test set: Average loss: 0.0234, Accuracy: 9927/10000 (99.27%)\n",
            "\n",
            "99.27 99.27\n",
            "Saving model here\n",
            "EPOCH: 7\n"
          ]
        },
        {
          "metadata": {
            "tags": null
          },
          "name": "stderr",
          "output_type": "stream",
          "text": [
            "Loss=0.05187194049358368 Batch_id=468 Accuracy=99.05: 100%|██████████| 469/469 [00:11<00:00, 39.51it/s]\n"
          ]
        },
        {
          "metadata": {
            "tags": null
          },
          "name": "stdout",
          "output_type": "stream",
          "text": [
            "\n",
            "Test set: Average loss: 0.0260, Accuracy: 9924/10000 (99.24%)\n",
            "\n",
            "99.27 99.24\n",
            "EPOCH: 8\n"
          ]
        },
        {
          "metadata": {
            "tags": null
          },
          "name": "stderr",
          "output_type": "stream",
          "text": [
            "Loss=0.002177296206355095 Batch_id=468 Accuracy=99.09: 100%|██████████| 469/469 [00:11<00:00, 39.69it/s]\n"
          ]
        },
        {
          "metadata": {
            "tags": null
          },
          "name": "stdout",
          "output_type": "stream",
          "text": [
            "\n",
            "Test set: Average loss: 0.0240, Accuracy: 9927/10000 (99.27%)\n",
            "\n",
            "99.27 99.27\n",
            "Saving model here\n",
            "EPOCH: 9\n"
          ]
        },
        {
          "metadata": {
            "tags": null
          },
          "name": "stderr",
          "output_type": "stream",
          "text": [
            "Loss=0.013960727490484715 Batch_id=468 Accuracy=99.08: 100%|██████████| 469/469 [00:11<00:00, 39.95it/s]\n"
          ]
        },
        {
          "metadata": {
            "tags": null
          },
          "name": "stdout",
          "output_type": "stream",
          "text": [
            "\n",
            "Test set: Average loss: 0.0250, Accuracy: 9920/10000 (99.20%)\n",
            "\n",
            "99.27 99.2\n",
            "EPOCH: 10\n"
          ]
        },
        {
          "metadata": {
            "tags": null
          },
          "name": "stderr",
          "output_type": "stream",
          "text": [
            "Loss=0.012264303863048553 Batch_id=468 Accuracy=99.17: 100%|██████████| 469/469 [00:11<00:00, 39.12it/s]\n"
          ]
        },
        {
          "metadata": {
            "tags": null
          },
          "name": "stdout",
          "output_type": "stream",
          "text": [
            "\n",
            "Test set: Average loss: 0.0237, Accuracy: 9927/10000 (99.27%)\n",
            "\n",
            "99.27 99.27\n",
            "Saving model here\n",
            "EPOCH: 11\n"
          ]
        },
        {
          "metadata": {
            "tags": null
          },
          "name": "stderr",
          "output_type": "stream",
          "text": [
            "Loss=0.02797161042690277 Batch_id=468 Accuracy=99.16: 100%|██████████| 469/469 [00:12<00:00, 38.49it/s]\n"
          ]
        },
        {
          "metadata": {
            "tags": null
          },
          "name": "stdout",
          "output_type": "stream",
          "text": [
            "\n",
            "Test set: Average loss: 0.0231, Accuracy: 9929/10000 (99.29%)\n",
            "\n",
            "99.29 99.29\n",
            "Saving model here\n",
            "EPOCH: 12\n"
          ]
        },
        {
          "metadata": {
            "tags": null
          },
          "name": "stderr",
          "output_type": "stream",
          "text": [
            "Loss=0.04378479719161987 Batch_id=468 Accuracy=99.20: 100%|██████████| 469/469 [00:11<00:00, 39.10it/s]\n"
          ]
        },
        {
          "metadata": {
            "tags": null
          },
          "name": "stdout",
          "output_type": "stream",
          "text": [
            "\n",
            "Test set: Average loss: 0.0235, Accuracy: 9925/10000 (99.25%)\n",
            "\n",
            "99.29 99.25\n",
            "EPOCH: 13\n"
          ]
        },
        {
          "metadata": {
            "tags": null
          },
          "name": "stderr",
          "output_type": "stream",
          "text": [
            "Loss=0.018713654950261116 Batch_id=468 Accuracy=99.19: 100%|██████████| 469/469 [00:11<00:00, 39.35it/s]\n"
          ]
        },
        {
          "metadata": {
            "tags": null
          },
          "name": "stdout",
          "output_type": "stream",
          "text": [
            "\n",
            "Test set: Average loss: 0.0227, Accuracy: 9926/10000 (99.26%)\n",
            "\n",
            "99.29 99.26\n",
            "EPOCH: 14\n"
          ]
        },
        {
          "metadata": {
            "tags": null
          },
          "name": "stderr",
          "output_type": "stream",
          "text": [
            "Loss=0.026468550786376 Batch_id=468 Accuracy=99.21: 100%|██████████| 469/469 [00:11<00:00, 39.77it/s]\n"
          ]
        },
        {
          "metadata": {
            "tags": null
          },
          "name": "stdout",
          "output_type": "stream",
          "text": [
            "\n",
            "Test set: Average loss: 0.0229, Accuracy: 9927/10000 (99.27%)\n",
            "\n",
            "99.29 99.27\n",
            "EPOCH: 15\n"
          ]
        },
        {
          "metadata": {
            "tags": null
          },
          "name": "stderr",
          "output_type": "stream",
          "text": [
            "Loss=0.009634794667363167 Batch_id=468 Accuracy=99.24: 100%|██████████| 469/469 [00:11<00:00, 39.68it/s]\n"
          ]
        },
        {
          "metadata": {
            "tags": null
          },
          "name": "stdout",
          "output_type": "stream",
          "text": [
            "\n",
            "Test set: Average loss: 0.0227, Accuracy: 9926/10000 (99.26%)\n",
            "\n",
            "99.29 99.26\n",
            "EPOCH: 16\n"
          ]
        },
        {
          "metadata": {
            "tags": null
          },
          "name": "stderr",
          "output_type": "stream",
          "text": [
            "Loss=0.011882253922522068 Batch_id=468 Accuracy=99.15: 100%|██████████| 469/469 [00:11<00:00, 39.42it/s]\n"
          ]
        },
        {
          "metadata": {
            "tags": null
          },
          "name": "stdout",
          "output_type": "stream",
          "text": [
            "\n",
            "Test set: Average loss: 0.0220, Accuracy: 9930/10000 (99.30%)\n",
            "\n",
            "99.3 99.3\n",
            "Saving model here\n",
            "EPOCH: 17\n"
          ]
        },
        {
          "metadata": {
            "tags": null
          },
          "name": "stderr",
          "output_type": "stream",
          "text": [
            "Loss=0.0478571355342865 Batch_id=468 Accuracy=99.18: 100%|██████████| 469/469 [00:11<00:00, 39.25it/s]\n"
          ]
        },
        {
          "metadata": {
            "tags": null
          },
          "name": "stdout",
          "output_type": "stream",
          "text": [
            "\n",
            "Test set: Average loss: 0.0229, Accuracy: 9928/10000 (99.28%)\n",
            "\n",
            "99.3 99.28\n",
            "EPOCH: 18\n"
          ]
        },
        {
          "metadata": {
            "tags": null
          },
          "name": "stderr",
          "output_type": "stream",
          "text": [
            "Loss=0.17101234197616577 Batch_id=468 Accuracy=99.26: 100%|██████████| 469/469 [00:12<00:00, 37.98it/s]\n"
          ]
        },
        {
          "metadata": {
            "tags": null
          },
          "name": "stdout",
          "output_type": "stream",
          "text": [
            "\n",
            "Test set: Average loss: 0.0228, Accuracy: 9925/10000 (99.25%)\n",
            "\n",
            "99.3 99.25\n",
            "EPOCH: 19\n"
          ]
        },
        {
          "metadata": {
            "tags": null
          },
          "name": "stderr",
          "output_type": "stream",
          "text": [
            "Loss=0.06769631057977676 Batch_id=468 Accuracy=99.16: 100%|██████████| 469/469 [00:12<00:00, 38.13it/s]\n"
          ]
        },
        {
          "metadata": {
            "tags": null
          },
          "name": "stdout",
          "output_type": "stream",
          "text": [
            "\n",
            "Test set: Average loss: 0.0224, Accuracy: 9927/10000 (99.27%)\n",
            "\n",
            "99.3 99.27\n",
            "EPOCH: 20\n"
          ]
        },
        {
          "metadata": {
            "tags": null
          },
          "name": "stderr",
          "output_type": "stream",
          "text": [
            "Loss=0.012907758355140686 Batch_id=468 Accuracy=99.23: 100%|██████████| 469/469 [00:12<00:00, 38.26it/s]\n"
          ]
        },
        {
          "metadata": {
            "tags": null
          },
          "name": "stdout",
          "output_type": "stream",
          "text": [
            "\n",
            "Test set: Average loss: 0.0228, Accuracy: 9925/10000 (99.25%)\n",
            "\n",
            "99.3 99.25\n",
            "EPOCH: 21\n"
          ]
        },
        {
          "metadata": {
            "tags": null
          },
          "name": "stderr",
          "output_type": "stream",
          "text": [
            "Loss=0.003455857513472438 Batch_id=468 Accuracy=99.15: 100%|██████████| 469/469 [00:12<00:00, 38.36it/s]\n"
          ]
        },
        {
          "metadata": {
            "tags": null
          },
          "name": "stdout",
          "output_type": "stream",
          "text": [
            "\n",
            "Test set: Average loss: 0.0226, Accuracy: 9927/10000 (99.27%)\n",
            "\n",
            "99.3 99.27\n",
            "EPOCH: 22\n"
          ]
        },
        {
          "metadata": {
            "tags": null
          },
          "name": "stderr",
          "output_type": "stream",
          "text": [
            "Loss=0.004422960337251425 Batch_id=468 Accuracy=99.18: 100%|██████████| 469/469 [00:12<00:00, 37.94it/s]\n"
          ]
        },
        {
          "metadata": {
            "tags": null
          },
          "name": "stdout",
          "output_type": "stream",
          "text": [
            "\n",
            "Test set: Average loss: 0.0222, Accuracy: 9927/10000 (99.27%)\n",
            "\n",
            "99.3 99.27\n",
            "EPOCH: 23\n"
          ]
        },
        {
          "metadata": {
            "tags": null
          },
          "name": "stderr",
          "output_type": "stream",
          "text": [
            "Loss=0.01312565803527832 Batch_id=468 Accuracy=99.17: 100%|██████████| 469/469 [00:12<00:00, 37.61it/s]\n"
          ]
        },
        {
          "metadata": {
            "tags": null
          },
          "name": "stdout",
          "output_type": "stream",
          "text": [
            "\n",
            "Test set: Average loss: 0.0228, Accuracy: 9928/10000 (99.28%)\n",
            "\n",
            "99.3 99.28\n",
            "EPOCH: 24\n"
          ]
        },
        {
          "metadata": {
            "tags": null
          },
          "name": "stderr",
          "output_type": "stream",
          "text": [
            "Loss=0.004812197759747505 Batch_id=468 Accuracy=99.22: 100%|██████████| 469/469 [00:12<00:00, 38.05it/s]\n"
          ]
        },
        {
          "metadata": {
            "tags": null
          },
          "name": "stdout",
          "output_type": "stream",
          "text": [
            "\n",
            "Test set: Average loss: 0.0222, Accuracy: 9926/10000 (99.26%)\n",
            "\n",
            "99.3 99.26\n",
            "EPOCH: 25\n"
          ]
        },
        {
          "metadata": {
            "tags": null
          },
          "name": "stderr",
          "output_type": "stream",
          "text": [
            "Loss=0.030738502740859985 Batch_id=468 Accuracy=99.26: 100%|██████████| 469/469 [00:12<00:00, 38.21it/s]\n"
          ]
        },
        {
          "metadata": {
            "tags": null
          },
          "name": "stdout",
          "output_type": "stream",
          "text": [
            "\n",
            "Test set: Average loss: 0.0230, Accuracy: 9926/10000 (99.26%)\n",
            "\n",
            "99.3 99.26\n",
            "EPOCH: 26\n"
          ]
        },
        {
          "metadata": {
            "tags": null
          },
          "name": "stderr",
          "output_type": "stream",
          "text": [
            "Loss=0.018104668706655502 Batch_id=468 Accuracy=99.18: 100%|██████████| 469/469 [00:12<00:00, 38.60it/s]\n"
          ]
        },
        {
          "metadata": {
            "tags": null
          },
          "name": "stdout",
          "output_type": "stream",
          "text": [
            "\n",
            "Test set: Average loss: 0.0220, Accuracy: 9928/10000 (99.28%)\n",
            "\n",
            "99.3 99.28\n",
            "EPOCH: 27\n"
          ]
        },
        {
          "metadata": {
            "tags": null
          },
          "name": "stderr",
          "output_type": "stream",
          "text": [
            "Loss=0.04104657843708992 Batch_id=468 Accuracy=99.24: 100%|██████████| 469/469 [00:12<00:00, 38.61it/s]\n"
          ]
        },
        {
          "metadata": {
            "tags": null
          },
          "name": "stdout",
          "output_type": "stream",
          "text": [
            "\n",
            "Test set: Average loss: 0.0231, Accuracy: 9928/10000 (99.28%)\n",
            "\n",
            "99.3 99.28\n",
            "EPOCH: 28\n"
          ]
        },
        {
          "metadata": {
            "tags": null
          },
          "name": "stderr",
          "output_type": "stream",
          "text": [
            "Loss=0.002122580772265792 Batch_id=468 Accuracy=99.20: 100%|██████████| 469/469 [00:12<00:00, 38.38it/s]\n"
          ]
        },
        {
          "metadata": {
            "tags": null
          },
          "name": "stdout",
          "output_type": "stream",
          "text": [
            "\n",
            "Test set: Average loss: 0.0222, Accuracy: 9929/10000 (99.29%)\n",
            "\n",
            "99.3 99.29\n",
            "EPOCH: 29\n"
          ]
        },
        {
          "metadata": {
            "tags": null
          },
          "name": "stderr",
          "output_type": "stream",
          "text": [
            "Loss=0.01464646216481924 Batch_id=468 Accuracy=99.20: 100%|██████████| 469/469 [00:12<00:00, 36.83it/s]\n"
          ]
        },
        {
          "metadata": {
            "tags": null
          },
          "name": "stdout",
          "output_type": "stream",
          "text": [
            "\n",
            "Test set: Average loss: 0.0227, Accuracy: 9930/10000 (99.30%)\n",
            "\n",
            "99.3 99.3\n",
            "Saving model here\n",
            "EPOCH: 30\n"
          ]
        },
        {
          "metadata": {
            "tags": null
          },
          "name": "stderr",
          "output_type": "stream",
          "text": [
            "Loss=0.009402308613061905 Batch_id=468 Accuracy=99.18: 100%|██████████| 469/469 [00:12<00:00, 37.20it/s]\n"
          ]
        },
        {
          "metadata": {
            "tags": null
          },
          "name": "stdout",
          "output_type": "stream",
          "text": [
            "\n",
            "Test set: Average loss: 0.0221, Accuracy: 9923/10000 (99.23%)\n",
            "\n",
            "99.3 99.23\n",
            "EPOCH: 31\n"
          ]
        },
        {
          "metadata": {
            "tags": null
          },
          "name": "stderr",
          "output_type": "stream",
          "text": [
            "Loss=0.033617518842220306 Batch_id=468 Accuracy=99.16: 100%|██████████| 469/469 [00:11<00:00, 39.75it/s]\n"
          ]
        },
        {
          "metadata": {
            "tags": null
          },
          "name": "stdout",
          "output_type": "stream",
          "text": [
            "\n",
            "Test set: Average loss: 0.0223, Accuracy: 9929/10000 (99.29%)\n",
            "\n",
            "99.3 99.29\n",
            "EPOCH: 32\n"
          ]
        },
        {
          "metadata": {
            "tags": null
          },
          "name": "stderr",
          "output_type": "stream",
          "text": [
            "Loss=0.003985182847827673 Batch_id=468 Accuracy=99.19: 100%|██████████| 469/469 [00:12<00:00, 38.82it/s]\n"
          ]
        },
        {
          "metadata": {
            "tags": null
          },
          "name": "stdout",
          "output_type": "stream",
          "text": [
            "\n",
            "Test set: Average loss: 0.0227, Accuracy: 9927/10000 (99.27%)\n",
            "\n",
            "99.3 99.27\n",
            "EPOCH: 33\n"
          ]
        },
        {
          "metadata": {
            "tags": null
          },
          "name": "stderr",
          "output_type": "stream",
          "text": [
            "Loss=0.023649848997592926 Batch_id=468 Accuracy=99.19: 100%|██████████| 469/469 [00:12<00:00, 38.97it/s]\n"
          ]
        },
        {
          "metadata": {
            "tags": null
          },
          "name": "stdout",
          "output_type": "stream",
          "text": [
            "\n",
            "Test set: Average loss: 0.0226, Accuracy: 9926/10000 (99.26%)\n",
            "\n",
            "99.3 99.26\n",
            "EPOCH: 34\n"
          ]
        },
        {
          "metadata": {
            "tags": null
          },
          "name": "stderr",
          "output_type": "stream",
          "text": [
            "Loss=0.009338229894638062 Batch_id=468 Accuracy=99.24: 100%|██████████| 469/469 [00:12<00:00, 38.39it/s]\n"
          ]
        },
        {
          "metadata": {
            "tags": null
          },
          "name": "stdout",
          "output_type": "stream",
          "text": [
            "\n",
            "Test set: Average loss: 0.0221, Accuracy: 9928/10000 (99.28%)\n",
            "\n",
            "99.3 99.28\n",
            "EPOCH: 35\n"
          ]
        },
        {
          "metadata": {
            "tags": null
          },
          "name": "stderr",
          "output_type": "stream",
          "text": [
            "Loss=0.0156644769012928 Batch_id=468 Accuracy=99.18: 100%|██████████| 469/469 [00:12<00:00, 38.12it/s]\n"
          ]
        },
        {
          "metadata": {
            "tags": null
          },
          "name": "stdout",
          "output_type": "stream",
          "text": [
            "\n",
            "Test set: Average loss: 0.0230, Accuracy: 9927/10000 (99.27%)\n",
            "\n",
            "99.3 99.27\n",
            "EPOCH: 36\n"
          ]
        },
        {
          "metadata": {
            "tags": null
          },
          "name": "stderr",
          "output_type": "stream",
          "text": [
            "Loss=0.12693272531032562 Batch_id=468 Accuracy=99.26: 100%|██████████| 469/469 [00:12<00:00, 39.04it/s]\n"
          ]
        },
        {
          "metadata": {
            "tags": null
          },
          "name": "stdout",
          "output_type": "stream",
          "text": [
            "\n",
            "Test set: Average loss: 0.0223, Accuracy: 9930/10000 (99.30%)\n",
            "\n",
            "99.3 99.3\n",
            "Saving model here\n",
            "EPOCH: 37\n"
          ]
        },
        {
          "metadata": {
            "tags": null
          },
          "name": "stderr",
          "output_type": "stream",
          "text": [
            "Loss=0.042733240872621536 Batch_id=468 Accuracy=99.17: 100%|██████████| 469/469 [00:12<00:00, 38.90it/s]\n"
          ]
        },
        {
          "metadata": {
            "tags": null
          },
          "name": "stdout",
          "output_type": "stream",
          "text": [
            "\n",
            "Test set: Average loss: 0.0223, Accuracy: 9926/10000 (99.26%)\n",
            "\n",
            "99.3 99.26\n",
            "EPOCH: 38\n"
          ]
        },
        {
          "metadata": {
            "tags": null
          },
          "name": "stderr",
          "output_type": "stream",
          "text": [
            "Loss=0.10957914590835571 Batch_id=468 Accuracy=99.21: 100%|██████████| 469/469 [00:11<00:00, 39.39it/s]\n"
          ]
        },
        {
          "metadata": {
            "tags": null
          },
          "name": "stdout",
          "output_type": "stream",
          "text": [
            "\n",
            "Test set: Average loss: 0.0225, Accuracy: 9926/10000 (99.26%)\n",
            "\n",
            "99.3 99.26\n",
            "EPOCH: 39\n"
          ]
        },
        {
          "metadata": {
            "tags": null
          },
          "name": "stderr",
          "output_type": "stream",
          "text": [
            "Loss=0.0208726916462183 Batch_id=468 Accuracy=99.22: 100%|██████████| 469/469 [00:12<00:00, 38.19it/s]\n"
          ]
        },
        {
          "metadata": {
            "tags": null
          },
          "name": "stdout",
          "output_type": "stream",
          "text": [
            "\n",
            "Test set: Average loss: 0.0227, Accuracy: 9925/10000 (99.25%)\n",
            "\n",
            "99.3 99.25\n",
            "EPOCH: 40\n"
          ]
        },
        {
          "metadata": {
            "tags": null
          },
          "name": "stderr",
          "output_type": "stream",
          "text": [
            "Loss=0.04985083267092705 Batch_id=468 Accuracy=99.19: 100%|██████████| 469/469 [00:12<00:00, 37.75it/s]\n"
          ]
        },
        {
          "metadata": {
            "tags": null
          },
          "name": "stdout",
          "output_type": "stream",
          "text": [
            "\n",
            "Test set: Average loss: 0.0228, Accuracy: 9927/10000 (99.27%)\n",
            "\n",
            "99.3 99.27\n",
            "EPOCH: 41\n"
          ]
        },
        {
          "metadata": {
            "tags": null
          },
          "name": "stderr",
          "output_type": "stream",
          "text": [
            "Loss=0.07496066391468048 Batch_id=468 Accuracy=99.25: 100%|██████████| 469/469 [00:12<00:00, 37.63it/s]\n"
          ]
        },
        {
          "metadata": {
            "tags": null
          },
          "name": "stdout",
          "output_type": "stream",
          "text": [
            "\n",
            "Test set: Average loss: 0.0227, Accuracy: 9925/10000 (99.25%)\n",
            "\n",
            "99.3 99.25\n",
            "EPOCH: 42\n"
          ]
        },
        {
          "metadata": {
            "tags": null
          },
          "name": "stderr",
          "output_type": "stream",
          "text": [
            "Loss=0.019618330523371696 Batch_id=468 Accuracy=99.24: 100%|██████████| 469/469 [00:12<00:00, 38.24it/s]\n"
          ]
        },
        {
          "metadata": {
            "tags": null
          },
          "name": "stdout",
          "output_type": "stream",
          "text": [
            "\n",
            "Test set: Average loss: 0.0225, Accuracy: 9927/10000 (99.27%)\n",
            "\n",
            "99.3 99.27\n",
            "EPOCH: 43\n"
          ]
        },
        {
          "metadata": {
            "tags": null
          },
          "name": "stderr",
          "output_type": "stream",
          "text": [
            "Loss=0.008292394690215588 Batch_id=468 Accuracy=99.20: 100%|██████████| 469/469 [00:12<00:00, 38.50it/s]\n"
          ]
        },
        {
          "metadata": {
            "tags": null
          },
          "name": "stdout",
          "output_type": "stream",
          "text": [
            "\n",
            "Test set: Average loss: 0.0226, Accuracy: 9929/10000 (99.29%)\n",
            "\n",
            "99.3 99.29\n",
            "EPOCH: 44\n"
          ]
        },
        {
          "output_type": "stream",
          "name": "stderr",
          "text": [
            "Loss=0.04374505206942558 Batch_id=468 Accuracy=99.19: 100%|██████████| 469/469 [00:12<00:00, 39.05it/s]\n"
          ]
        },
        {
          "output_type": "stream",
          "name": "stdout",
          "text": [
            "\n",
            "Test set: Average loss: 0.0221, Accuracy: 9927/10000 (99.27%)\n",
            "\n",
            "99.3 99.27\n",
            "EPOCH: 45\n"
          ]
        },
        {
          "output_type": "stream",
          "name": "stderr",
          "text": [
            "Loss=0.019316690042614937 Batch_id=468 Accuracy=99.17: 100%|██████████| 469/469 [00:12<00:00, 38.40it/s]\n"
          ]
        },
        {
          "output_type": "stream",
          "name": "stdout",
          "text": [
            "\n",
            "Test set: Average loss: 0.0222, Accuracy: 9928/10000 (99.28%)\n",
            "\n",
            "99.3 99.28\n",
            "EPOCH: 46\n"
          ]
        },
        {
          "output_type": "stream",
          "name": "stderr",
          "text": [
            "Loss=0.06526999920606613 Batch_id=468 Accuracy=99.17: 100%|██████████| 469/469 [00:12<00:00, 38.35it/s]\n"
          ]
        },
        {
          "output_type": "stream",
          "name": "stdout",
          "text": [
            "\n",
            "Test set: Average loss: 0.0230, Accuracy: 9929/10000 (99.29%)\n",
            "\n",
            "99.3 99.29\n",
            "EPOCH: 47\n"
          ]
        },
        {
          "output_type": "stream",
          "name": "stderr",
          "text": [
            "Loss=0.01877213642001152 Batch_id=468 Accuracy=99.20: 100%|██████████| 469/469 [00:12<00:00, 37.91it/s]\n"
          ]
        },
        {
          "output_type": "stream",
          "name": "stdout",
          "text": [
            "\n",
            "Test set: Average loss: 0.0224, Accuracy: 9930/10000 (99.30%)\n",
            "\n",
            "99.3 99.3\n",
            "Saving model here\n",
            "EPOCH: 48\n"
          ]
        },
        {
          "output_type": "stream",
          "name": "stderr",
          "text": [
            "Loss=0.010773216374218464 Batch_id=468 Accuracy=99.21: 100%|██████████| 469/469 [00:12<00:00, 37.83it/s]\n"
          ]
        },
        {
          "output_type": "stream",
          "name": "stdout",
          "text": [
            "\n",
            "Test set: Average loss: 0.0230, Accuracy: 9927/10000 (99.27%)\n",
            "\n",
            "99.3 99.27\n",
            "EPOCH: 49\n"
          ]
        },
        {
          "output_type": "stream",
          "name": "stderr",
          "text": [
            "Loss=0.10083002597093582 Batch_id=468 Accuracy=99.24: 100%|██████████| 469/469 [00:12<00:00, 37.76it/s]\n"
          ]
        },
        {
          "output_type": "stream",
          "name": "stdout",
          "text": [
            "\n",
            "Test set: Average loss: 0.0220, Accuracy: 9927/10000 (99.27%)\n",
            "\n",
            "99.3 99.27\n"
          ]
        }
      ]
    },
    {
      "cell_type": "code",
      "metadata": {
        "colab": {
          "base_uri": "https://localhost:8080/",
          "height": 336
        },
        "id": "Pr3ztiDZ1dWk",
        "outputId": "094ef550-39f6-4409-982c-e396d64957cb"
      },
      "source": [
        "plot_curves('5.6K parameters with dw conv')"
      ],
      "execution_count": null,
      "outputs": [
        {
          "output_type": "display_data",
          "data": {
            "image/png": "[encoded data removed]",
            "text/plain": [
              "<Figure size 1080x360 with 2 Axes>"
            ]
          },
          "metadata": {
            "needs_background": "light"
          }
        }
      ]
    },
    {
      "cell_type": "markdown",
      "metadata": {
        "id": "oZbnF3SVBkbv"
      },
      "source": [
        "#### BASENET TRAINING"
      ]
    },
    {
      "cell_type": "code",
      "metadata": {
        "id": "kofAhs6xBhVp"
      },
      "source": [
        "epochs = 50\n",
        "optimizer = optim.Adam(basenet.parameters(), lr = 0.01)\n",
        "scheduler = StepLR(optimizer, step_size=5, gamma=0.1)\n",
        "path = './quantization/pytorch_model/basenet25k.pth'\n"
      ],
      "execution_count": null,
      "outputs": []
    },
    {
      "cell_type": "code",
      "metadata": {
        "colab": {
          "base_uri": "https://localhost:8080/"
        },
        "id": "dlsxi8iGCIa9",
        "outputId": "48f765f5-35ba-4932-b4b1-a5580667fe09"
      },
      "source": [
        "execute_model(basenet, save_best_model=True)"
      ],
      "execution_count": null,
      "outputs": [
        {
          "output_type": "stream",
          "name": "stdout",
          "text": [
            "EPOCH: 0\n"
          ]
        },
        {
          "output_type": "stream",
          "name": "stderr",
          "text": [
            "\r  0%|          | 0/469 [00:00<?, ?it/s]/usr/local/lib/python3.7/dist-packages/torch/utils/data/dataloader.py:481: UserWarning: This DataLoader will create 4 worker processes in total. Our suggested max number of worker in current system is 2, which is smaller than what this DataLoader is going to create. Please be aware that excessive worker creation might get DataLoader running slow or even freeze, lower the worker number to avoid potential slowness/freeze if necessary.\n",
            "  cpuset_checked))\n",
            "Loss=0.00558740459382534 Batch_id=468 Accuracy=99.72: 100%|██████████| 469/469 [00:11<00:00, 42.58it/s]\n"
          ]
        },
        {
          "output_type": "stream",
          "name": "stdout",
          "text": [
            "\n",
            "Test set: Average loss: 0.0227, Accuracy: 9929/10000 (99.29%)\n",
            "\n",
            "99.35 99.29\n",
            "EPOCH: 1\n"
          ]
        },
        {
          "output_type": "stream",
          "name": "stderr",
          "text": [
            "Loss=0.0005575611721724272 Batch_id=468 Accuracy=99.78: 100%|██████████| 469/469 [00:10<00:00, 43.27it/s]\n"
          ]
        },
        {
          "output_type": "stream",
          "name": "stdout",
          "text": [
            "\n",
            "Test set: Average loss: 0.0228, Accuracy: 9929/10000 (99.29%)\n",
            "\n",
            "99.35 99.29\n",
            "EPOCH: 2\n"
          ]
        },
        {
          "output_type": "stream",
          "name": "stderr",
          "text": [
            "Loss=0.008801541291177273 Batch_id=468 Accuracy=99.82: 100%|██████████| 469/469 [00:11<00:00, 42.39it/s]\n"
          ]
        },
        {
          "output_type": "stream",
          "name": "stdout",
          "text": [
            "\n",
            "Test set: Average loss: 0.0219, Accuracy: 9933/10000 (99.33%)\n",
            "\n",
            "99.35 99.33\n",
            "EPOCH: 3\n"
          ]
        },
        {
          "output_type": "stream",
          "name": "stderr",
          "text": [
            "Loss=0.005467440467327833 Batch_id=468 Accuracy=99.84: 100%|██████████| 469/469 [00:11<00:00, 42.39it/s]\n"
          ]
        },
        {
          "output_type": "stream",
          "name": "stdout",
          "text": [
            "\n",
            "Test set: Average loss: 0.0224, Accuracy: 9929/10000 (99.29%)\n",
            "\n",
            "99.35 99.29\n",
            "EPOCH: 4\n"
          ]
        },
        {
          "output_type": "stream",
          "name": "stderr",
          "text": [
            "Loss=0.02612931840121746 Batch_id=468 Accuracy=99.83: 100%|██████████| 469/469 [00:10<00:00, 42.84it/s]\n"
          ]
        },
        {
          "output_type": "stream",
          "name": "stdout",
          "text": [
            "\n",
            "Test set: Average loss: 0.0222, Accuracy: 9932/10000 (99.32%)\n",
            "\n",
            "99.35 99.32\n",
            "EPOCH: 5\n"
          ]
        },
        {
          "output_type": "stream",
          "name": "stderr",
          "text": [
            "Loss=0.001837934018112719 Batch_id=468 Accuracy=99.85: 100%|██████████| 469/469 [00:10<00:00, 43.25it/s]\n"
          ]
        },
        {
          "output_type": "stream",
          "name": "stdout",
          "text": [
            "\n",
            "Test set: Average loss: 0.0213, Accuracy: 9932/10000 (99.32%)\n",
            "\n",
            "99.35 99.32\n",
            "EPOCH: 6\n"
          ]
        },
        {
          "output_type": "stream",
          "name": "stderr",
          "text": [
            "Loss=0.014143336564302444 Batch_id=468 Accuracy=99.85: 100%|██████████| 469/469 [00:11<00:00, 42.52it/s]\n"
          ]
        },
        {
          "output_type": "stream",
          "name": "stdout",
          "text": [
            "\n",
            "Test set: Average loss: 0.0216, Accuracy: 9932/10000 (99.32%)\n",
            "\n",
            "99.35 99.32\n",
            "EPOCH: 7\n"
          ]
        },
        {
          "output_type": "stream",
          "name": "stderr",
          "text": [
            "Loss=0.00477896723896265 Batch_id=468 Accuracy=99.86: 100%|██████████| 469/469 [00:11<00:00, 42.31it/s]\n"
          ]
        },
        {
          "output_type": "stream",
          "name": "stdout",
          "text": [
            "\n",
            "Test set: Average loss: 0.0214, Accuracy: 9935/10000 (99.35%)\n",
            "\n",
            "99.35 99.35\n",
            "Saving model here\n",
            "EPOCH: 8\n"
          ]
        },
        {
          "output_type": "stream",
          "name": "stderr",
          "text": [
            "Loss=0.004245364107191563 Batch_id=468 Accuracy=99.87: 100%|██████████| 469/469 [00:11<00:00, 41.58it/s]\n"
          ]
        },
        {
          "output_type": "stream",
          "name": "stdout",
          "text": [
            "\n",
            "Test set: Average loss: 0.0222, Accuracy: 9930/10000 (99.30%)\n",
            "\n",
            "99.35 99.3\n",
            "EPOCH: 9\n"
          ]
        },
        {
          "output_type": "stream",
          "name": "stderr",
          "text": [
            "Loss=0.0023852328304201365 Batch_id=468 Accuracy=99.88: 100%|██████████| 469/469 [00:11<00:00, 42.44it/s]\n"
          ]
        },
        {
          "output_type": "stream",
          "name": "stdout",
          "text": [
            "\n",
            "Test set: Average loss: 0.0216, Accuracy: 9932/10000 (99.32%)\n",
            "\n",
            "99.35 99.32\n",
            "EPOCH: 10\n"
          ]
        },
        {
          "output_type": "stream",
          "name": "stderr",
          "text": [
            "Loss=0.023078732192516327 Batch_id=468 Accuracy=99.87: 100%|██████████| 469/469 [00:10<00:00, 43.02it/s]\n"
          ]
        },
        {
          "output_type": "stream",
          "name": "stdout",
          "text": [
            "\n",
            "Test set: Average loss: 0.0218, Accuracy: 9931/10000 (99.31%)\n",
            "\n",
            "99.35 99.31\n",
            "EPOCH: 11\n"
          ]
        },
        {
          "output_type": "stream",
          "name": "stderr",
          "text": [
            "Loss=0.001029090373776853 Batch_id=468 Accuracy=99.86: 100%|██████████| 469/469 [00:10<00:00, 42.87it/s]\n"
          ]
        },
        {
          "output_type": "stream",
          "name": "stdout",
          "text": [
            "\n",
            "Test set: Average loss: 0.0216, Accuracy: 9932/10000 (99.32%)\n",
            "\n",
            "99.35 99.32\n",
            "EPOCH: 12\n"
          ]
        },
        {
          "output_type": "stream",
          "name": "stderr",
          "text": [
            "Loss=0.0019513815641403198 Batch_id=468 Accuracy=99.85: 100%|██████████| 469/469 [00:10<00:00, 43.02it/s]\n"
          ]
        },
        {
          "output_type": "stream",
          "name": "stdout",
          "text": [
            "\n",
            "Test set: Average loss: 0.0220, Accuracy: 9931/10000 (99.31%)\n",
            "\n",
            "99.35 99.31\n",
            "EPOCH: 13\n"
          ]
        },
        {
          "output_type": "stream",
          "name": "stderr",
          "text": [
            "Loss=0.0014543962897732854 Batch_id=468 Accuracy=99.87: 100%|██████████| 469/469 [00:10<00:00, 42.96it/s]\n"
          ]
        },
        {
          "output_type": "stream",
          "name": "stdout",
          "text": [
            "\n",
            "Test set: Average loss: 0.0213, Accuracy: 9934/10000 (99.34%)\n",
            "\n",
            "99.35 99.34\n",
            "EPOCH: 14\n"
          ]
        },
        {
          "output_type": "stream",
          "name": "stderr",
          "text": [
            "Loss=0.005384864751249552 Batch_id=468 Accuracy=99.86: 100%|██████████| 469/469 [00:11<00:00, 41.81it/s]\n"
          ]
        },
        {
          "output_type": "stream",
          "name": "stdout",
          "text": [
            "\n",
            "Test set: Average loss: 0.0213, Accuracy: 9934/10000 (99.34%)\n",
            "\n",
            "99.35 99.34\n",
            "EPOCH: 15\n"
          ]
        },
        {
          "output_type": "stream",
          "name": "stderr",
          "text": [
            "Loss=0.0007527198176831007 Batch_id=468 Accuracy=99.88: 100%|██████████| 469/469 [00:11<00:00, 41.40it/s]\n"
          ]
        },
        {
          "output_type": "stream",
          "name": "stdout",
          "text": [
            "\n",
            "Test set: Average loss: 0.0221, Accuracy: 9931/10000 (99.31%)\n",
            "\n",
            "99.35 99.31\n",
            "EPOCH: 16\n"
          ]
        },
        {
          "output_type": "stream",
          "name": "stderr",
          "text": [
            "Loss=0.0005670698010362685 Batch_id=468 Accuracy=99.88: 100%|██████████| 469/469 [00:11<00:00, 42.33it/s]\n"
          ]
        },
        {
          "output_type": "stream",
          "name": "stdout",
          "text": [
            "\n",
            "Test set: Average loss: 0.0216, Accuracy: 9931/10000 (99.31%)\n",
            "\n",
            "99.35 99.31\n",
            "EPOCH: 17\n"
          ]
        },
        {
          "output_type": "stream",
          "name": "stderr",
          "text": [
            "Loss=0.011619067750871181 Batch_id=468 Accuracy=99.85: 100%|██████████| 469/469 [00:11<00:00, 41.93it/s]\n"
          ]
        },
        {
          "output_type": "stream",
          "name": "stdout",
          "text": [
            "\n",
            "Test set: Average loss: 0.0216, Accuracy: 9931/10000 (99.31%)\n",
            "\n",
            "99.35 99.31\n",
            "EPOCH: 18\n"
          ]
        },
        {
          "output_type": "stream",
          "name": "stderr",
          "text": [
            "Loss=0.010014846920967102 Batch_id=468 Accuracy=99.87: 100%|██████████| 469/469 [00:11<00:00, 41.18it/s]\n"
          ]
        },
        {
          "output_type": "stream",
          "name": "stdout",
          "text": [
            "\n",
            "Test set: Average loss: 0.0218, Accuracy: 9933/10000 (99.33%)\n",
            "\n",
            "99.35 99.33\n",
            "EPOCH: 19\n"
          ]
        },
        {
          "output_type": "stream",
          "name": "stderr",
          "text": [
            "Loss=0.0011635733535513282 Batch_id=468 Accuracy=99.87: 100%|██████████| 469/469 [00:11<00:00, 41.99it/s]\n"
          ]
        },
        {
          "output_type": "stream",
          "name": "stdout",
          "text": [
            "\n",
            "Test set: Average loss: 0.0212, Accuracy: 9934/10000 (99.34%)\n",
            "\n",
            "99.35 99.34\n",
            "EPOCH: 20\n"
          ]
        },
        {
          "output_type": "stream",
          "name": "stderr",
          "text": [
            "Loss=0.02658594399690628 Batch_id=468 Accuracy=99.86: 100%|██████████| 469/469 [00:11<00:00, 41.25it/s]\n"
          ]
        },
        {
          "output_type": "stream",
          "name": "stdout",
          "text": [
            "\n",
            "Test set: Average loss: 0.0222, Accuracy: 9931/10000 (99.31%)\n",
            "\n",
            "99.35 99.31\n",
            "EPOCH: 21\n"
          ]
        },
        {
          "output_type": "stream",
          "name": "stderr",
          "text": [
            "Loss=0.012752990238368511 Batch_id=468 Accuracy=99.85: 100%|██████████| 469/469 [00:11<00:00, 41.11it/s]\n"
          ]
        },
        {
          "output_type": "stream",
          "name": "stdout",
          "text": [
            "\n",
            "Test set: Average loss: 0.0214, Accuracy: 9933/10000 (99.33%)\n",
            "\n",
            "99.35 99.33\n",
            "EPOCH: 22\n"
          ]
        },
        {
          "output_type": "stream",
          "name": "stderr",
          "text": [
            "Loss=0.006269669160246849 Batch_id=468 Accuracy=99.86: 100%|██████████| 469/469 [00:11<00:00, 41.75it/s]\n"
          ]
        },
        {
          "output_type": "stream",
          "name": "stdout",
          "text": [
            "\n",
            "Test set: Average loss: 0.0217, Accuracy: 9930/10000 (99.30%)\n",
            "\n",
            "99.35 99.3\n",
            "EPOCH: 23\n"
          ]
        },
        {
          "output_type": "stream",
          "name": "stderr",
          "text": [
            "Loss=0.00241866591386497 Batch_id=468 Accuracy=99.87: 100%|██████████| 469/469 [00:11<00:00, 41.17it/s]\n"
          ]
        },
        {
          "output_type": "stream",
          "name": "stdout",
          "text": [
            "\n",
            "Test set: Average loss: 0.0213, Accuracy: 9933/10000 (99.33%)\n",
            "\n",
            "99.35 99.33\n",
            "EPOCH: 24\n"
          ]
        },
        {
          "output_type": "stream",
          "name": "stderr",
          "text": [
            "Loss=0.0014789925189688802 Batch_id=468 Accuracy=99.87: 100%|██████████| 469/469 [00:11<00:00, 41.96it/s]\n"
          ]
        },
        {
          "output_type": "stream",
          "name": "stdout",
          "text": [
            "\n",
            "Test set: Average loss: 0.0217, Accuracy: 9931/10000 (99.31%)\n",
            "\n",
            "99.35 99.31\n",
            "EPOCH: 25\n"
          ]
        },
        {
          "output_type": "stream",
          "name": "stderr",
          "text": [
            "Loss=0.03143145143985748 Batch_id=468 Accuracy=99.86: 100%|██████████| 469/469 [00:11<00:00, 41.34it/s]\n"
          ]
        },
        {
          "output_type": "stream",
          "name": "stdout",
          "text": [
            "\n",
            "Test set: Average loss: 0.0220, Accuracy: 9930/10000 (99.30%)\n",
            "\n",
            "99.35 99.3\n",
            "EPOCH: 26\n"
          ]
        },
        {
          "output_type": "stream",
          "name": "stderr",
          "text": [
            "Loss=0.004307493567466736 Batch_id=468 Accuracy=99.89: 100%|██████████| 469/469 [00:11<00:00, 41.55it/s]\n"
          ]
        },
        {
          "output_type": "stream",
          "name": "stdout",
          "text": [
            "\n",
            "Test set: Average loss: 0.0213, Accuracy: 9933/10000 (99.33%)\n",
            "\n",
            "99.35 99.33\n",
            "EPOCH: 27\n"
          ]
        },
        {
          "output_type": "stream",
          "name": "stderr",
          "text": [
            "Loss=0.0007890099077485502 Batch_id=468 Accuracy=99.87: 100%|██████████| 469/469 [00:11<00:00, 41.41it/s]\n"
          ]
        },
        {
          "output_type": "stream",
          "name": "stdout",
          "text": [
            "\n",
            "Test set: Average loss: 0.0210, Accuracy: 9933/10000 (99.33%)\n",
            "\n",
            "99.35 99.33\n",
            "EPOCH: 28\n"
          ]
        },
        {
          "output_type": "stream",
          "name": "stderr",
          "text": [
            "Loss=0.0028155960608273745 Batch_id=468 Accuracy=99.86: 100%|██████████| 469/469 [00:11<00:00, 40.56it/s]\n"
          ]
        },
        {
          "output_type": "stream",
          "name": "stdout",
          "text": [
            "\n",
            "Test set: Average loss: 0.0211, Accuracy: 9933/10000 (99.33%)\n",
            "\n",
            "99.35 99.33\n",
            "EPOCH: 29\n"
          ]
        },
        {
          "output_type": "stream",
          "name": "stderr",
          "text": [
            "Loss=0.0015522785251960158 Batch_id=468 Accuracy=99.86: 100%|██████████| 469/469 [00:11<00:00, 40.87it/s]\n"
          ]
        },
        {
          "output_type": "stream",
          "name": "stdout",
          "text": [
            "\n",
            "Test set: Average loss: 0.0221, Accuracy: 9929/10000 (99.29%)\n",
            "\n",
            "99.35 99.29\n",
            "EPOCH: 30\n"
          ]
        },
        {
          "output_type": "stream",
          "name": "stderr",
          "text": [
            "Loss=0.0015475740656256676 Batch_id=468 Accuracy=99.87: 100%|██████████| 469/469 [00:11<00:00, 41.71it/s]\n"
          ]
        },
        {
          "output_type": "stream",
          "name": "stdout",
          "text": [
            "\n",
            "Test set: Average loss: 0.0215, Accuracy: 9931/10000 (99.31%)\n",
            "\n",
            "99.35 99.31\n",
            "EPOCH: 31\n"
          ]
        },
        {
          "output_type": "stream",
          "name": "stderr",
          "text": [
            "Loss=0.0021144957281649113 Batch_id=468 Accuracy=99.86: 100%|██████████| 469/469 [00:11<00:00, 41.19it/s]\n"
          ]
        },
        {
          "output_type": "stream",
          "name": "stdout",
          "text": [
            "\n",
            "Test set: Average loss: 0.0214, Accuracy: 9931/10000 (99.31%)\n",
            "\n",
            "99.35 99.31\n",
            "EPOCH: 32\n"
          ]
        },
        {
          "output_type": "stream",
          "name": "stderr",
          "text": [
            "Loss=0.0050553795881569386 Batch_id=468 Accuracy=99.87: 100%|██████████| 469/469 [00:11<00:00, 40.97it/s]\n"
          ]
        },
        {
          "output_type": "stream",
          "name": "stdout",
          "text": [
            "\n",
            "Test set: Average loss: 0.0223, Accuracy: 9930/10000 (99.30%)\n",
            "\n",
            "99.35 99.3\n",
            "EPOCH: 33\n"
          ]
        },
        {
          "output_type": "stream",
          "name": "stderr",
          "text": [
            "Loss=0.004191295709460974 Batch_id=468 Accuracy=99.84: 100%|██████████| 469/469 [00:11<00:00, 41.04it/s]\n"
          ]
        },
        {
          "output_type": "stream",
          "name": "stdout",
          "text": [
            "\n",
            "Test set: Average loss: 0.0218, Accuracy: 9934/10000 (99.34%)\n",
            "\n",
            "99.35 99.34\n",
            "EPOCH: 34\n"
          ]
        },
        {
          "output_type": "stream",
          "name": "stderr",
          "text": [
            "Loss=0.010423672385513783 Batch_id=468 Accuracy=99.88: 100%|██████████| 469/469 [00:11<00:00, 40.53it/s]\n"
          ]
        },
        {
          "output_type": "stream",
          "name": "stdout",
          "text": [
            "\n",
            "Test set: Average loss: 0.0207, Accuracy: 9935/10000 (99.35%)\n",
            "\n",
            "99.35 99.35\n",
            "Saving model here\n",
            "EPOCH: 35\n"
          ]
        },
        {
          "output_type": "stream",
          "name": "stderr",
          "text": [
            "Loss=0.002116902032867074 Batch_id=468 Accuracy=99.88: 100%|██████████| 469/469 [00:11<00:00, 41.59it/s]\n"
          ]
        },
        {
          "output_type": "stream",
          "name": "stdout",
          "text": [
            "\n",
            "Test set: Average loss: 0.0223, Accuracy: 9930/10000 (99.30%)\n",
            "\n",
            "99.35 99.3\n",
            "EPOCH: 36\n"
          ]
        },
        {
          "output_type": "stream",
          "name": "stderr",
          "text": [
            "Loss=0.003453887300565839 Batch_id=468 Accuracy=99.89: 100%|██████████| 469/469 [00:11<00:00, 40.67it/s]\n"
          ]
        },
        {
          "output_type": "stream",
          "name": "stdout",
          "text": [
            "\n",
            "Test set: Average loss: 0.0232, Accuracy: 9927/10000 (99.27%)\n",
            "\n",
            "99.35 99.27\n",
            "EPOCH: 37\n"
          ]
        },
        {
          "output_type": "stream",
          "name": "stderr",
          "text": [
            "Loss=0.0029388591647148132 Batch_id=468 Accuracy=99.88: 100%|██████████| 469/469 [00:11<00:00, 41.27it/s]\n"
          ]
        },
        {
          "output_type": "stream",
          "name": "stdout",
          "text": [
            "\n",
            "Test set: Average loss: 0.0213, Accuracy: 9935/10000 (99.35%)\n",
            "\n",
            "99.35 99.35\n",
            "Saving model here\n",
            "EPOCH: 38\n"
          ]
        },
        {
          "output_type": "stream",
          "name": "stderr",
          "text": [
            "Loss=0.005716720595955849 Batch_id=468 Accuracy=99.89: 100%|██████████| 469/469 [00:11<00:00, 40.94it/s]\n"
          ]
        },
        {
          "output_type": "stream",
          "name": "stdout",
          "text": [
            "\n",
            "Test set: Average loss: 0.0219, Accuracy: 9932/10000 (99.32%)\n",
            "\n",
            "99.35 99.32\n",
            "EPOCH: 39\n"
          ]
        },
        {
          "output_type": "stream",
          "name": "stderr",
          "text": [
            "Loss=0.0008876295760273933 Batch_id=468 Accuracy=99.86: 100%|██████████| 469/469 [00:11<00:00, 41.05it/s]\n"
          ]
        },
        {
          "output_type": "stream",
          "name": "stdout",
          "text": [
            "\n",
            "Test set: Average loss: 0.0217, Accuracy: 9932/10000 (99.32%)\n",
            "\n",
            "99.35 99.32\n",
            "EPOCH: 40\n"
          ]
        },
        {
          "output_type": "stream",
          "name": "stderr",
          "text": [
            "Loss=0.0008701427723281085 Batch_id=468 Accuracy=99.88: 100%|██████████| 469/469 [00:11<00:00, 40.36it/s]\n"
          ]
        },
        {
          "output_type": "stream",
          "name": "stdout",
          "text": [
            "\n",
            "Test set: Average loss: 0.0216, Accuracy: 9932/10000 (99.32%)\n",
            "\n",
            "99.35 99.32\n",
            "EPOCH: 41\n"
          ]
        },
        {
          "output_type": "stream",
          "name": "stderr",
          "text": [
            "Loss=0.009804162196815014 Batch_id=468 Accuracy=99.86: 100%|██████████| 469/469 [00:11<00:00, 40.55it/s]\n"
          ]
        },
        {
          "output_type": "stream",
          "name": "stdout",
          "text": [
            "\n",
            "Test set: Average loss: 0.0212, Accuracy: 9932/10000 (99.32%)\n",
            "\n",
            "99.35 99.32\n",
            "EPOCH: 42\n"
          ]
        },
        {
          "output_type": "stream",
          "name": "stderr",
          "text": [
            "Loss=0.02477221190929413 Batch_id=468 Accuracy=99.87: 100%|██████████| 469/469 [00:12<00:00, 39.05it/s]\n"
          ]
        },
        {
          "output_type": "stream",
          "name": "stdout",
          "text": [
            "\n",
            "Test set: Average loss: 0.0221, Accuracy: 9930/10000 (99.30%)\n",
            "\n",
            "99.35 99.3\n",
            "EPOCH: 43\n"
          ]
        },
        {
          "output_type": "stream",
          "name": "stderr",
          "text": [
            "Loss=0.0011001399252563715 Batch_id=468 Accuracy=99.86: 100%|██████████| 469/469 [00:12<00:00, 38.58it/s]\n"
          ]
        },
        {
          "output_type": "stream",
          "name": "stdout",
          "text": [
            "\n",
            "Test set: Average loss: 0.0219, Accuracy: 9931/10000 (99.31%)\n",
            "\n",
            "99.35 99.31\n",
            "EPOCH: 44\n"
          ]
        },
        {
          "output_type": "stream",
          "name": "stderr",
          "text": [
            "Loss=0.003773842239752412 Batch_id=468 Accuracy=99.84: 100%|██████████| 469/469 [00:11<00:00, 41.25it/s]\n"
          ]
        },
        {
          "output_type": "stream",
          "name": "stdout",
          "text": [
            "\n",
            "Test set: Average loss: 0.0213, Accuracy: 9933/10000 (99.33%)\n",
            "\n",
            "99.35 99.33\n",
            "EPOCH: 45\n"
          ]
        },
        {
          "output_type": "stream",
          "name": "stderr",
          "text": [
            "Loss=0.0025346192996948957 Batch_id=468 Accuracy=99.87: 100%|██████████| 469/469 [00:11<00:00, 40.21it/s]\n"
          ]
        },
        {
          "output_type": "stream",
          "name": "stdout",
          "text": [
            "\n",
            "Test set: Average loss: 0.0218, Accuracy: 9931/10000 (99.31%)\n",
            "\n",
            "99.35 99.31\n",
            "EPOCH: 46\n"
          ]
        },
        {
          "output_type": "stream",
          "name": "stderr",
          "text": [
            "Loss=0.004092139657586813 Batch_id=468 Accuracy=99.85: 100%|██████████| 469/469 [00:11<00:00, 40.44it/s]\n"
          ]
        },
        {
          "output_type": "stream",
          "name": "stdout",
          "text": [
            "\n",
            "Test set: Average loss: 0.0215, Accuracy: 9932/10000 (99.32%)\n",
            "\n",
            "99.35 99.32\n",
            "EPOCH: 47\n"
          ]
        },
        {
          "output_type": "stream",
          "name": "stderr",
          "text": [
            "Loss=0.0013715067179873586 Batch_id=468 Accuracy=99.87: 100%|██████████| 469/469 [00:11<00:00, 41.15it/s]\n"
          ]
        },
        {
          "output_type": "stream",
          "name": "stdout",
          "text": [
            "\n",
            "Test set: Average loss: 0.0216, Accuracy: 9930/10000 (99.30%)\n",
            "\n",
            "99.35 99.3\n",
            "EPOCH: 48\n"
          ]
        },
        {
          "output_type": "stream",
          "name": "stderr",
          "text": [
            "Loss=0.007209875155240297 Batch_id=468 Accuracy=99.86: 100%|██████████| 469/469 [00:11<00:00, 41.02it/s]\n"
          ]
        },
        {
          "output_type": "stream",
          "name": "stdout",
          "text": [
            "\n",
            "Test set: Average loss: 0.0224, Accuracy: 9931/10000 (99.31%)\n",
            "\n",
            "99.35 99.31\n",
            "EPOCH: 49\n"
          ]
        },
        {
          "output_type": "stream",
          "name": "stderr",
          "text": [
            "Loss=0.0020154661033302546 Batch_id=468 Accuracy=99.87: 100%|██████████| 469/469 [00:11<00:00, 41.49it/s]\n"
          ]
        },
        {
          "output_type": "stream",
          "name": "stdout",
          "text": [
            "\n",
            "Test set: Average loss: 0.0216, Accuracy: 9932/10000 (99.32%)\n",
            "\n",
            "99.35 99.32\n"
          ]
        }
      ]
    },
    {
      "cell_type": "code",
      "metadata": {
        "colab": {
          "base_uri": "https://localhost:8080/",
          "height": 336
        },
        "id": "phqzeElBCL7j",
        "outputId": "b73bde24-fcc2-461e-aad7-b066290606e8"
      },
      "source": [
        "plot_curves('Basenet 25K')"
      ],
      "execution_count": null,
      "outputs": [
        {
          "output_type": "display_data",
          "data": {
            "image/png": "[encoded data removed]",
            "text/plain": [
              "<Figure size 1080x360 with 2 Axes>"
            ]
          },
          "metadata": {
            "needs_background": "light"
          }
        }
      ]
    },
    {
      "cell_type": "markdown",
      "metadata": {
        "id": "xsa5kqk4QtXM"
      },
      "source": [
        "#### 1.5K ONE CYCLE LR"
      ]
    },
    {
      "cell_type": "code",
      "metadata": {
        "id": "nq5MKVXyQsu7"
      },
      "source": [
        "epochs = 50\n",
        "optimizer = optim.Adam(m.parameters(), lr = 0.01)\n",
        "scheduler = torch.optim.lr_scheduler.OneCycleLR(optimizer, max_lr=0.5, steps_per_epoch=len(train_loader), epochs=epochs)\n",
        "path = './quantization/pytorch_model/1.5k_one_cycle.pth'"
      ],
      "execution_count": null,
      "outputs": []
    },
    {
      "cell_type": "code",
      "metadata": {
        "colab": {
          "base_uri": "https://localhost:8080/"
        },
        "id": "jyZNli-4Rk_V",
        "outputId": "48ce9b2a-35d6-484d-f296-d395d2a625a0"
      },
      "source": [
        "execute_model(m, save_best_model=True)"
      ],
      "execution_count": null,
      "outputs": [
        {
          "metadata": {
            "tags": null
          },
          "name": "stdout",
          "output_type": "stream",
          "text": [
            "EPOCH: 0\n"
          ]
        },
        {
          "metadata": {
            "tags": null
          },
          "name": "stderr",
          "output_type": "stream",
          "text": [
            "  0%|          | 0/469 [00:00<?, ?it/s]/usr/local/lib/python3.7/dist-packages/torch/utils/data/dataloader.py:481: UserWarning: This DataLoader will create 4 worker processes in total. Our suggested max number of worker in current system is 2, which is smaller than what this DataLoader is going to create. Please be aware that excessive worker creation might get DataLoader running slow or even freeze, lower the worker number to avoid potential slowness/freeze if necessary.\n",
            "  cpuset_checked))\n",
            "Loss=0.09385713934898376 Batch_id=468 Accuracy=95.64: 100%|██████████| 469/469 [00:18<00:00, 25.92it/s]\n"
          ]
        },
        {
          "metadata": {
            "tags": null
          },
          "name": "stdout",
          "output_type": "stream",
          "text": [
            "\n",
            "Test set: Average loss: 0.1047, Accuracy: 9674/10000 (96.74%)\n",
            "\n",
            "96.74 96.74\n",
            "Saving model here\n",
            "EPOCH: 1\n"
          ]
        },
        {
          "metadata": {
            "tags": null
          },
          "name": "stderr",
          "output_type": "stream",
          "text": [
            "Loss=0.10431339591741562 Batch_id=468 Accuracy=96.82: 100%|██████████| 469/469 [00:17<00:00, 26.17it/s]\n"
          ]
        },
        {
          "metadata": {
            "tags": null
          },
          "name": "stdout",
          "output_type": "stream",
          "text": [
            "\n",
            "Test set: Average loss: 0.0696, Accuracy: 9765/10000 (97.65%)\n",
            "\n",
            "97.65 97.65\n",
            "Saving model here\n",
            "EPOCH: 2\n"
          ]
        },
        {
          "metadata": {
            "tags": null
          },
          "name": "stderr",
          "output_type": "stream",
          "text": [
            "Loss=0.029705272987484932 Batch_id=468 Accuracy=97.08: 100%|██████████| 469/469 [00:18<00:00, 25.61it/s]\n"
          ]
        },
        {
          "metadata": {
            "tags": null
          },
          "name": "stdout",
          "output_type": "stream",
          "text": [
            "\n",
            "Test set: Average loss: 0.0827, Accuracy: 9746/10000 (97.46%)\n",
            "\n",
            "97.65 97.46\n",
            "EPOCH: 3\n"
          ]
        },
        {
          "metadata": {
            "tags": null
          },
          "name": "stderr",
          "output_type": "stream",
          "text": [
            "Loss=0.09929722547531128 Batch_id=468 Accuracy=97.39: 100%|██████████| 469/469 [00:18<00:00, 25.88it/s]\n"
          ]
        },
        {
          "metadata": {
            "tags": null
          },
          "name": "stdout",
          "output_type": "stream",
          "text": [
            "\n",
            "Test set: Average loss: 0.0633, Accuracy: 9791/10000 (97.91%)\n",
            "\n",
            "97.91 97.91\n",
            "Saving model here\n",
            "EPOCH: 4\n"
          ]
        },
        {
          "metadata": {
            "tags": null
          },
          "name": "stderr",
          "output_type": "stream",
          "text": [
            "Loss=0.03752538934350014 Batch_id=468 Accuracy=97.50: 100%|██████████| 469/469 [00:18<00:00, 25.76it/s]\n"
          ]
        },
        {
          "metadata": {
            "tags": null
          },
          "name": "stdout",
          "output_type": "stream",
          "text": [
            "\n",
            "Test set: Average loss: 0.0963, Accuracy: 9704/10000 (97.04%)\n",
            "\n",
            "97.91 97.04\n",
            "EPOCH: 5\n"
          ]
        },
        {
          "metadata": {
            "tags": null
          },
          "name": "stderr",
          "output_type": "stream",
          "text": [
            "Loss=0.03874589130282402 Batch_id=468 Accuracy=97.58: 100%|██████████| 469/469 [00:18<00:00, 25.70it/s]\n"
          ]
        },
        {
          "metadata": {
            "tags": null
          },
          "name": "stdout",
          "output_type": "stream",
          "text": [
            "\n",
            "Test set: Average loss: 0.0642, Accuracy: 9803/10000 (98.03%)\n",
            "\n",
            "98.03 98.03\n",
            "Saving model here\n",
            "EPOCH: 6\n"
          ]
        },
        {
          "metadata": {
            "tags": null
          },
          "name": "stderr",
          "output_type": "stream",
          "text": [
            "Loss=0.05910563841462135 Batch_id=468 Accuracy=97.69: 100%|██████████| 469/469 [00:18<00:00, 25.88it/s]\n"
          ]
        },
        {
          "metadata": {
            "tags": null
          },
          "name": "stdout",
          "output_type": "stream",
          "text": [
            "\n",
            "Test set: Average loss: 0.0549, Accuracy: 9826/10000 (98.26%)\n",
            "\n",
            "98.26 98.26\n",
            "Saving model here\n",
            "EPOCH: 7\n"
          ]
        },
        {
          "metadata": {
            "tags": null
          },
          "name": "stderr",
          "output_type": "stream",
          "text": [
            "Loss=0.06552813202142715 Batch_id=468 Accuracy=97.85: 100%|██████████| 469/469 [00:18<00:00, 25.74it/s]\n"
          ]
        },
        {
          "metadata": {
            "tags": null
          },
          "name": "stdout",
          "output_type": "stream",
          "text": [
            "\n",
            "Test set: Average loss: 0.0643, Accuracy: 9814/10000 (98.14%)\n",
            "\n",
            "98.26 98.14\n",
            "EPOCH: 8\n"
          ]
        },
        {
          "metadata": {
            "tags": null
          },
          "name": "stderr",
          "output_type": "stream",
          "text": [
            "Loss=0.003482641652226448 Batch_id=468 Accuracy=97.84: 100%|██████████| 469/469 [00:18<00:00, 25.91it/s]\n"
          ]
        },
        {
          "metadata": {
            "tags": null
          },
          "name": "stdout",
          "output_type": "stream",
          "text": [
            "\n",
            "Test set: Average loss: 0.0748, Accuracy: 9757/10000 (97.57%)\n",
            "\n",
            "98.26 97.57\n",
            "EPOCH: 9\n"
          ]
        },
        {
          "metadata": {
            "tags": null
          },
          "name": "stderr",
          "output_type": "stream",
          "text": [
            "Loss=0.057568471878767014 Batch_id=468 Accuracy=97.92: 100%|██████████| 469/469 [00:19<00:00, 24.68it/s]\n"
          ]
        },
        {
          "metadata": {
            "tags": null
          },
          "name": "stdout",
          "output_type": "stream",
          "text": [
            "\n",
            "Test set: Average loss: 0.0584, Accuracy: 9817/10000 (98.17%)\n",
            "\n",
            "98.26 98.17\n",
            "EPOCH: 10\n"
          ]
        },
        {
          "metadata": {
            "tags": null
          },
          "name": "stderr",
          "output_type": "stream",
          "text": [
            "Loss=0.04158405959606171 Batch_id=468 Accuracy=98.07: 100%|██████████| 469/469 [00:19<00:00, 24.55it/s]\n"
          ]
        },
        {
          "metadata": {
            "tags": null
          },
          "name": "stdout",
          "output_type": "stream",
          "text": [
            "\n",
            "Test set: Average loss: 0.0506, Accuracy: 9843/10000 (98.43%)\n",
            "\n",
            "98.43 98.43\n",
            "Saving model here\n",
            "EPOCH: 11\n"
          ]
        },
        {
          "metadata": {
            "tags": null
          },
          "name": "stderr",
          "output_type": "stream",
          "text": [
            "Loss=0.044068530201911926 Batch_id=468 Accuracy=98.08: 100%|██████████| 469/469 [00:19<00:00, 23.87it/s]\n"
          ]
        },
        {
          "metadata": {
            "tags": null
          },
          "name": "stdout",
          "output_type": "stream",
          "text": [
            "\n",
            "Test set: Average loss: 0.0497, Accuracy: 9843/10000 (98.43%)\n",
            "\n",
            "98.43 98.43\n",
            "Saving model here\n",
            "EPOCH: 12\n"
          ]
        },
        {
          "metadata": {
            "tags": null
          },
          "name": "stderr",
          "output_type": "stream",
          "text": [
            "Loss=0.02702931873500347 Batch_id=468 Accuracy=97.98: 100%|██████████| 469/469 [00:19<00:00, 24.29it/s]\n"
          ]
        },
        {
          "metadata": {
            "tags": null
          },
          "name": "stdout",
          "output_type": "stream",
          "text": [
            "\n",
            "Test set: Average loss: 0.0449, Accuracy: 9854/10000 (98.54%)\n",
            "\n",
            "98.54 98.54\n",
            "Saving model here\n",
            "EPOCH: 13\n"
          ]
        },
        {
          "metadata": {
            "tags": null
          },
          "name": "stderr",
          "output_type": "stream",
          "text": [
            "Loss=0.19608068466186523 Batch_id=468 Accuracy=98.14: 100%|██████████| 469/469 [00:18<00:00, 25.08it/s]\n"
          ]
        },
        {
          "metadata": {
            "tags": null
          },
          "name": "stdout",
          "output_type": "stream",
          "text": [
            "\n",
            "Test set: Average loss: 0.0468, Accuracy: 9857/10000 (98.57%)\n",
            "\n",
            "98.57 98.57\n",
            "Saving model here\n",
            "EPOCH: 14\n"
          ]
        },
        {
          "metadata": {
            "tags": null
          },
          "name": "stderr",
          "output_type": "stream",
          "text": [
            "Loss=0.09502141922712326 Batch_id=468 Accuracy=98.10: 100%|██████████| 469/469 [00:19<00:00, 24.06it/s]\n"
          ]
        },
        {
          "metadata": {
            "tags": null
          },
          "name": "stdout",
          "output_type": "stream",
          "text": [
            "\n",
            "Test set: Average loss: 0.0459, Accuracy: 9860/10000 (98.60%)\n",
            "\n",
            "98.6 98.6\n",
            "Saving model here\n",
            "EPOCH: 15\n"
          ]
        },
        {
          "metadata": {
            "tags": null
          },
          "name": "stderr",
          "output_type": "stream",
          "text": [
            "Loss=0.1847274750471115 Batch_id=468 Accuracy=98.14: 100%|██████████| 469/469 [00:18<00:00, 24.74it/s]\n"
          ]
        },
        {
          "metadata": {
            "tags": null
          },
          "name": "stdout",
          "output_type": "stream",
          "text": [
            "\n",
            "Test set: Average loss: 0.0528, Accuracy: 9830/10000 (98.30%)\n",
            "\n",
            "98.6 98.3\n",
            "EPOCH: 16\n"
          ]
        },
        {
          "metadata": {
            "tags": null
          },
          "name": "stderr",
          "output_type": "stream",
          "text": [
            "Loss=0.017349306493997574 Batch_id=468 Accuracy=98.17: 100%|██████████| 469/469 [00:18<00:00, 24.88it/s]\n"
          ]
        },
        {
          "output_type": "stream",
          "name": "stdout",
          "text": [
            "\n",
            "Test set: Average loss: 0.0509, Accuracy: 9837/10000 (98.37%)\n",
            "\n",
            "98.6 98.37\n",
            "EPOCH: 17\n"
          ]
        },
        {
          "output_type": "stream",
          "name": "stderr",
          "text": [
            "Loss=0.06058394908905029 Batch_id=468 Accuracy=98.27: 100%|██████████| 469/469 [00:19<00:00, 24.32it/s]\n"
          ]
        },
        {
          "output_type": "stream",
          "name": "stdout",
          "text": [
            "\n",
            "Test set: Average loss: 0.0465, Accuracy: 9854/10000 (98.54%)\n",
            "\n",
            "98.6 98.54\n",
            "EPOCH: 18\n"
          ]
        },
        {
          "output_type": "stream",
          "name": "stderr",
          "text": [
            "Loss=0.04139604791998863 Batch_id=468 Accuracy=98.19: 100%|██████████| 469/469 [00:19<00:00, 24.13it/s]\n"
          ]
        },
        {
          "output_type": "stream",
          "name": "stdout",
          "text": [
            "\n",
            "Test set: Average loss: 0.0458, Accuracy: 9852/10000 (98.52%)\n",
            "\n",
            "98.6 98.52\n",
            "EPOCH: 19\n"
          ]
        },
        {
          "output_type": "stream",
          "name": "stderr",
          "text": [
            "Loss=0.06869810074567795 Batch_id=468 Accuracy=98.25: 100%|██████████| 469/469 [00:19<00:00, 23.66it/s]\n"
          ]
        },
        {
          "output_type": "stream",
          "name": "stdout",
          "text": [
            "\n",
            "Test set: Average loss: 0.0452, Accuracy: 9855/10000 (98.55%)\n",
            "\n",
            "98.6 98.55\n",
            "EPOCH: 20\n"
          ]
        },
        {
          "output_type": "stream",
          "name": "stderr",
          "text": [
            "Loss=0.15161560475826263 Batch_id=468 Accuracy=98.30: 100%|██████████| 469/469 [00:19<00:00, 24.46it/s]\n"
          ]
        },
        {
          "output_type": "stream",
          "name": "stdout",
          "text": [
            "\n",
            "Test set: Average loss: 0.0434, Accuracy: 9860/10000 (98.60%)\n",
            "\n",
            "98.6 98.6\n",
            "Saving model here\n",
            "EPOCH: 21\n"
          ]
        },
        {
          "output_type": "stream",
          "name": "stderr",
          "text": [
            "Loss=0.02581685222685337 Batch_id=468 Accuracy=98.17: 100%|██████████| 469/469 [00:19<00:00, 24.02it/s]\n"
          ]
        },
        {
          "output_type": "stream",
          "name": "stdout",
          "text": [
            "\n",
            "Test set: Average loss: 0.0594, Accuracy: 9819/10000 (98.19%)\n",
            "\n",
            "98.6 98.19\n",
            "EPOCH: 22\n"
          ]
        },
        {
          "output_type": "stream",
          "name": "stderr",
          "text": [
            "Loss=0.06287331134080887 Batch_id=468 Accuracy=98.34: 100%|██████████| 469/469 [00:19<00:00, 23.92it/s]\n"
          ]
        },
        {
          "output_type": "stream",
          "name": "stdout",
          "text": [
            "\n",
            "Test set: Average loss: 0.0390, Accuracy: 9873/10000 (98.73%)\n",
            "\n",
            "98.73 98.73\n",
            "Saving model here\n",
            "EPOCH: 23\n"
          ]
        },
        {
          "output_type": "stream",
          "name": "stderr",
          "text": [
            "Loss=0.010902014560997486 Batch_id=468 Accuracy=98.29: 100%|██████████| 469/469 [00:19<00:00, 24.33it/s]\n"
          ]
        },
        {
          "output_type": "stream",
          "name": "stdout",
          "text": [
            "\n",
            "Test set: Average loss: 0.0464, Accuracy: 9853/10000 (98.53%)\n",
            "\n",
            "98.73 98.53\n",
            "EPOCH: 24\n"
          ]
        },
        {
          "output_type": "stream",
          "name": "stderr",
          "text": [
            "Loss=0.040428802371025085 Batch_id=468 Accuracy=98.30: 100%|██████████| 469/469 [00:18<00:00, 24.86it/s]\n"
          ]
        },
        {
          "output_type": "stream",
          "name": "stdout",
          "text": [
            "\n",
            "Test set: Average loss: 0.0381, Accuracy: 9872/10000 (98.72%)\n",
            "\n",
            "98.73 98.72\n",
            "EPOCH: 25\n"
          ]
        },
        {
          "output_type": "stream",
          "name": "stderr",
          "text": [
            "Loss=0.03805513679981232 Batch_id=468 Accuracy=98.39: 100%|██████████| 469/469 [00:19<00:00, 24.32it/s]\n"
          ]
        },
        {
          "output_type": "stream",
          "name": "stdout",
          "text": [
            "\n",
            "Test set: Average loss: 0.0547, Accuracy: 9831/10000 (98.31%)\n",
            "\n",
            "98.73 98.31\n",
            "EPOCH: 26\n"
          ]
        },
        {
          "output_type": "stream",
          "name": "stderr",
          "text": [
            "Loss=0.02663888782262802 Batch_id=468 Accuracy=98.36: 100%|██████████| 469/469 [00:19<00:00, 24.52it/s]\n"
          ]
        },
        {
          "output_type": "stream",
          "name": "stdout",
          "text": [
            "\n",
            "Test set: Average loss: 0.0469, Accuracy: 9857/10000 (98.57%)\n",
            "\n",
            "98.73 98.57\n",
            "EPOCH: 27\n"
          ]
        },
        {
          "output_type": "stream",
          "name": "stderr",
          "text": [
            "Loss=0.024576576426625252 Batch_id=468 Accuracy=98.36: 100%|██████████| 469/469 [00:18<00:00, 24.71it/s]\n"
          ]
        },
        {
          "output_type": "stream",
          "name": "stdout",
          "text": [
            "\n",
            "Test set: Average loss: 0.0428, Accuracy: 9869/10000 (98.69%)\n",
            "\n",
            "98.73 98.69\n",
            "EPOCH: 28\n"
          ]
        },
        {
          "output_type": "stream",
          "name": "stderr",
          "text": [
            "Loss=0.08774302154779434 Batch_id=468 Accuracy=98.39: 100%|██████████| 469/469 [00:18<00:00, 24.90it/s]\n"
          ]
        },
        {
          "output_type": "stream",
          "name": "stdout",
          "text": [
            "\n",
            "Test set: Average loss: 0.0408, Accuracy: 9871/10000 (98.71%)\n",
            "\n",
            "98.73 98.71\n",
            "EPOCH: 29\n"
          ]
        },
        {
          "output_type": "stream",
          "name": "stderr",
          "text": [
            "Loss=0.02231641672551632 Batch_id=468 Accuracy=98.41: 100%|██████████| 469/469 [00:18<00:00, 25.17it/s]\n"
          ]
        },
        {
          "output_type": "stream",
          "name": "stdout",
          "text": [
            "\n",
            "Test set: Average loss: 0.0508, Accuracy: 9839/10000 (98.39%)\n",
            "\n",
            "98.73 98.39\n",
            "EPOCH: 30\n"
          ]
        },
        {
          "output_type": "stream",
          "name": "stderr",
          "text": [
            "Loss=0.054371997714042664 Batch_id=468 Accuracy=98.40: 100%|██████████| 469/469 [00:18<00:00, 24.94it/s]\n"
          ]
        },
        {
          "output_type": "stream",
          "name": "stdout",
          "text": [
            "\n",
            "Test set: Average loss: 0.0366, Accuracy: 9881/10000 (98.81%)\n",
            "\n",
            "98.81 98.81\n",
            "Saving model here\n",
            "EPOCH: 31\n"
          ]
        },
        {
          "output_type": "stream",
          "name": "stderr",
          "text": [
            "Loss=0.05387061461806297 Batch_id=468 Accuracy=98.44: 100%|██████████| 469/469 [00:19<00:00, 24.58it/s]\n"
          ]
        },
        {
          "output_type": "stream",
          "name": "stdout",
          "text": [
            "\n",
            "Test set: Average loss: 0.0455, Accuracy: 9862/10000 (98.62%)\n",
            "\n",
            "98.81 98.62\n",
            "EPOCH: 32\n"
          ]
        },
        {
          "output_type": "stream",
          "name": "stderr",
          "text": [
            "Loss=0.06623388081789017 Batch_id=468 Accuracy=98.43: 100%|██████████| 469/469 [00:18<00:00, 24.93it/s]\n"
          ]
        },
        {
          "output_type": "stream",
          "name": "stdout",
          "text": [
            "\n",
            "Test set: Average loss: 0.0362, Accuracy: 9892/10000 (98.92%)\n",
            "\n",
            "98.92 98.92\n",
            "Saving model here\n",
            "EPOCH: 33\n"
          ]
        },
        {
          "output_type": "stream",
          "name": "stderr",
          "text": [
            "Loss=0.00817026849836111 Batch_id=468 Accuracy=98.44: 100%|██████████| 469/469 [00:18<00:00, 25.17it/s]\n"
          ]
        },
        {
          "output_type": "stream",
          "name": "stdout",
          "text": [
            "\n",
            "Test set: Average loss: 0.0357, Accuracy: 9891/10000 (98.91%)\n",
            "\n",
            "98.92 98.91\n",
            "EPOCH: 34\n"
          ]
        },
        {
          "output_type": "stream",
          "name": "stderr",
          "text": [
            "Loss=0.016855401918292046 Batch_id=468 Accuracy=98.45: 100%|██████████| 469/469 [00:18<00:00, 25.06it/s]\n"
          ]
        },
        {
          "output_type": "stream",
          "name": "stdout",
          "text": [
            "\n",
            "Test set: Average loss: 0.0497, Accuracy: 9848/10000 (98.48%)\n",
            "\n",
            "98.92 98.48\n",
            "EPOCH: 35\n"
          ]
        },
        {
          "output_type": "stream",
          "name": "stderr",
          "text": [
            "Loss=0.004988791886717081 Batch_id=468 Accuracy=98.47: 100%|██████████| 469/469 [00:18<00:00, 25.47it/s]\n"
          ]
        },
        {
          "output_type": "stream",
          "name": "stdout",
          "text": [
            "\n",
            "Test set: Average loss: 0.0429, Accuracy: 9871/10000 (98.71%)\n",
            "\n",
            "98.92 98.71\n",
            "EPOCH: 36\n"
          ]
        },
        {
          "output_type": "stream",
          "name": "stderr",
          "text": [
            "Loss=0.0026717770379036665 Batch_id=468 Accuracy=98.46: 100%|██████████| 469/469 [00:18<00:00, 24.86it/s]\n"
          ]
        },
        {
          "output_type": "stream",
          "name": "stdout",
          "text": [
            "\n",
            "Test set: Average loss: 0.0419, Accuracy: 9866/10000 (98.66%)\n",
            "\n",
            "98.92 98.66\n",
            "EPOCH: 37\n"
          ]
        },
        {
          "output_type": "stream",
          "name": "stderr",
          "text": [
            "Loss=0.035886988043785095 Batch_id=468 Accuracy=98.46: 100%|██████████| 469/469 [00:18<00:00, 25.03it/s]\n"
          ]
        },
        {
          "output_type": "stream",
          "name": "stdout",
          "text": [
            "\n",
            "Test set: Average loss: 0.0461, Accuracy: 9858/10000 (98.58%)\n",
            "\n",
            "98.92 98.58\n",
            "EPOCH: 38\n"
          ]
        },
        {
          "output_type": "stream",
          "name": "stderr",
          "text": [
            "Loss=0.1082523986697197 Batch_id=468 Accuracy=98.44: 100%|██████████| 469/469 [00:18<00:00, 24.74it/s]\n"
          ]
        },
        {
          "output_type": "stream",
          "name": "stdout",
          "text": [
            "\n",
            "Test set: Average loss: 0.0427, Accuracy: 9866/10000 (98.66%)\n",
            "\n",
            "98.92 98.66\n",
            "EPOCH: 39\n"
          ]
        },
        {
          "output_type": "stream",
          "name": "stderr",
          "text": [
            "Loss=0.08327525854110718 Batch_id=468 Accuracy=98.49: 100%|██████████| 469/469 [00:18<00:00, 25.82it/s]\n"
          ]
        },
        {
          "output_type": "stream",
          "name": "stdout",
          "text": [
            "\n",
            "Test set: Average loss: 0.0425, Accuracy: 9875/10000 (98.75%)\n",
            "\n",
            "98.92 98.75\n",
            "EPOCH: 40\n"
          ]
        },
        {
          "output_type": "stream",
          "name": "stderr",
          "text": [
            "Loss=0.01462333183735609 Batch_id=468 Accuracy=98.45: 100%|██████████| 469/469 [00:18<00:00, 25.59it/s]\n"
          ]
        },
        {
          "output_type": "stream",
          "name": "stdout",
          "text": [
            "\n",
            "Test set: Average loss: 0.0462, Accuracy: 9865/10000 (98.65%)\n",
            "\n",
            "98.92 98.65\n",
            "EPOCH: 41\n"
          ]
        },
        {
          "output_type": "stream",
          "name": "stderr",
          "text": [
            "Loss=0.03411365672945976 Batch_id=468 Accuracy=98.56: 100%|██████████| 469/469 [00:18<00:00, 24.87it/s]\n"
          ]
        },
        {
          "output_type": "stream",
          "name": "stdout",
          "text": [
            "\n",
            "Test set: Average loss: 0.0472, Accuracy: 9853/10000 (98.53%)\n",
            "\n",
            "98.92 98.53\n",
            "EPOCH: 42\n"
          ]
        },
        {
          "output_type": "stream",
          "name": "stderr",
          "text": [
            "Loss=0.1219724714756012 Batch_id=468 Accuracy=98.49: 100%|██████████| 469/469 [00:19<00:00, 24.24it/s]\n"
          ]
        },
        {
          "output_type": "stream",
          "name": "stdout",
          "text": [
            "\n",
            "Test set: Average loss: 0.0490, Accuracy: 9856/10000 (98.56%)\n",
            "\n",
            "98.92 98.56\n",
            "EPOCH: 43\n"
          ]
        },
        {
          "output_type": "stream",
          "name": "stderr",
          "text": [
            "Loss=0.039519596844911575 Batch_id=468 Accuracy=98.46: 100%|██████████| 469/469 [00:19<00:00, 24.46it/s]\n"
          ]
        },
        {
          "output_type": "stream",
          "name": "stdout",
          "text": [
            "\n",
            "Test set: Average loss: 0.0478, Accuracy: 9839/10000 (98.39%)\n",
            "\n",
            "98.92 98.39\n",
            "EPOCH: 44\n"
          ]
        },
        {
          "output_type": "stream",
          "name": "stderr",
          "text": [
            "Loss=0.14146682620048523 Batch_id=468 Accuracy=98.53: 100%|██████████| 469/469 [00:19<00:00, 24.24it/s]\n"
          ]
        },
        {
          "output_type": "stream",
          "name": "stdout",
          "text": [
            "\n",
            "Test set: Average loss: 0.0402, Accuracy: 9876/10000 (98.76%)\n",
            "\n",
            "98.92 98.76\n",
            "EPOCH: 45\n"
          ]
        },
        {
          "output_type": "stream",
          "name": "stderr",
          "text": [
            "Loss=0.0548822283744812 Batch_id=468 Accuracy=98.44: 100%|██████████| 469/469 [00:18<00:00, 24.71it/s]\n"
          ]
        },
        {
          "output_type": "stream",
          "name": "stdout",
          "text": [
            "\n",
            "Test set: Average loss: 0.0373, Accuracy: 9886/10000 (98.86%)\n",
            "\n",
            "98.92 98.86\n",
            "EPOCH: 46\n"
          ]
        },
        {
          "output_type": "stream",
          "name": "stderr",
          "text": [
            "Loss=0.033068422228097916 Batch_id=468 Accuracy=98.48: 100%|██████████| 469/469 [00:18<00:00, 24.70it/s]\n"
          ]
        },
        {
          "output_type": "stream",
          "name": "stdout",
          "text": [
            "\n",
            "Test set: Average loss: 0.0447, Accuracy: 9867/10000 (98.67%)\n",
            "\n",
            "98.92 98.67\n",
            "EPOCH: 47\n"
          ]
        },
        {
          "output_type": "stream",
          "name": "stderr",
          "text": [
            "Loss=0.03411846235394478 Batch_id=468 Accuracy=98.57: 100%|██████████| 469/469 [00:19<00:00, 24.60it/s]\n"
          ]
        },
        {
          "output_type": "stream",
          "name": "stdout",
          "text": [
            "\n",
            "Test set: Average loss: 0.0479, Accuracy: 9854/10000 (98.54%)\n",
            "\n",
            "98.92 98.54\n",
            "EPOCH: 48\n"
          ]
        },
        {
          "output_type": "stream",
          "name": "stderr",
          "text": [
            "Loss=0.10830556601285934 Batch_id=468 Accuracy=98.52: 100%|██████████| 469/469 [00:19<00:00, 23.95it/s]\n"
          ]
        },
        {
          "output_type": "stream",
          "name": "stdout",
          "text": [
            "\n",
            "Test set: Average loss: 0.0413, Accuracy: 9872/10000 (98.72%)\n",
            "\n",
            "98.92 98.72\n",
            "EPOCH: 49\n"
          ]
        },
        {
          "output_type": "stream",
          "name": "stderr",
          "text": [
            "Loss=0.033116042613983154 Batch_id=468 Accuracy=98.50: 100%|██████████| 469/469 [00:19<00:00, 24.23it/s]\n"
          ]
        },
        {
          "output_type": "stream",
          "name": "stdout",
          "text": [
            "\n",
            "Test set: Average loss: 0.0436, Accuracy: 9869/10000 (98.69%)\n",
            "\n",
            "98.92 98.69\n"
          ]
        }
      ]
    },
    {
      "cell_type": "code",
      "metadata": {
        "colab": {
          "base_uri": "https://localhost:8080/",
          "height": 336
        },
        "id": "T2aZsSdERl-q",
        "outputId": "135b6ea8-c8da-4e03-d793-0b6e4d2ca4c8"
      },
      "source": [
        "plot_curves('1.5k with one cycle lr')"
      ],
      "execution_count": null,
      "outputs": [
        {
          "output_type": "display_data",
          "data": {
            "image/png": "[encoded data removed]",
            "text/plain": [
              "<Figure size 1080x360 with 2 Axes>"
            ]
          },
          "metadata": {
            "needs_background": "light"
          }
        }
      ]
    },
    {
      "cell_type": "markdown",
      "source": [
        "#### CIFARNET10"
      ],
      "metadata": {
        "id": "H82gEEwt8Jks"
      }
    },
    {
      "cell_type": "code",
      "source": [
        "class CifarNet11(nn.Module):\n",
        "    def __init__(self):\n",
        "        super(CifarNet11, self).__init__()\n",
        "\n",
        "# FIRST MAJOR BLOCK\n",
        "        # first convolutional block\n",
        "        self.convblock1a = nn.Sequential(\n",
        "            nn.Conv2d(in_channels = 3,out_channels = 16, dilation  = 1,padding = 1, kernel_size= (3,3)),                     # in 32, out 32, RF 3\n",
        "            nn.ReLU(),\n",
        "            nn.BatchNorm2d(16)\n",
        "        )\n",
        "\n",
        "        self.convblock1b = nn.Sequential(\n",
        "            nn.Conv2d(in_channels = 16,out_channels = 16, dilation  = 1,padding = 1, kernel_size= (3,3)),                     # in 32, out 32, RF 3\n",
        "            nn.ReLU(),\n",
        "            nn.BatchNorm2d(16)\n",
        "        )\n",
        "        self.dropout1  = nn.Sequential(nn.Dropout(0.06))\n",
        "\n",
        "        # Using stride 2 without dilation instead of maxpooling\n",
        "        self.convpool1 = nn.MaxPool2d(2, 2)\n",
        "\n",
        "\n",
        "# SECOND MAJOR BLOCK\n",
        "          # first convolutional block\n",
        "        self.convblock2a = nn.Sequential(\n",
        "            # nn.Conv2d(in_channels = 16,out_channels = 32, dilation  = 1,padding = 1,kernel_size= (3,3)),                    # in 16, out 16, RF ?\n",
        "            nn.Conv2d(in_channels = 16,out_channels = 16,groups = 16, dilation  = 1,padding = 1,kernel_size= (3,3)),\n",
        "            nn.Conv2d(in_channels = 16,out_channels = 32, dilation = 1,padding = 0,kernel_size= (1,1)), # 8, 8, 3  \n",
        "            nn.ReLU(),\n",
        "            nn.BatchNorm2d(32)\n",
        "        ) # will the learning will be better in depth wise or in normal 3x3 convolutions?\n",
        "\n",
        "        self.convblock2b = nn.Sequential(\n",
        "            nn.Conv2d(in_channels = 32,out_channels = 32, dilation  = 1,padding = 1, kernel_size= (3,3)),                     # in 16, out 16, RF 3\n",
        "            nn.ReLU(),\n",
        "            nn.BatchNorm2d(32)\n",
        "        )\n",
        "        self.dropout2  = nn.Sequential(nn.Dropout(0.07))\n",
        "\n",
        "        # Using stride 2 without dilation to simulate max pooling\n",
        "        self.convpool2 = nn.MaxPool2d(2, 2)\n",
        "\n",
        "# THIRD MAJOR BLOCK\n",
        "         # first convolutional block\n",
        "        self.convblock3a = nn.Sequential(\n",
        "            # nn.Conv2d(in_channels = 32,out_channels = 64, dilation  = 1,padding = 1,kernel_size= (3,3)), \n",
        "            nn.Conv2d(in_channels = 32,out_channels = 32,groups = 32, dilation  = 1,padding = 1,kernel_size= (3,3)),        # in 8, out 8, RF ?\n",
        "            nn.Conv2d(in_channels = 32,out_channels = 64, dilation = 1,padding = 0,kernel_size= (1,1)), # 8, 8, 3           # in 8, out 8, RF ?\n",
        "            nn.ReLU(),\n",
        "            nn.BatchNorm2d(64)\n",
        "        )\n",
        "\n",
        "        self.convblock3b = nn.Sequential(\n",
        "            nn.Conv2d(in_channels = 64,out_channels = 64, dilation  = 2,padding = 2, kernel_size= (3,3)),                     # in 8, out 8, RF 3\n",
        "            nn.ReLU(),\n",
        "            nn.BatchNorm2d(64)\n",
        "        )\n",
        "        self.dropout3  = nn.Sequential(nn.Dropout(0.07))\n",
        "        # using dilation to simulate maxpooling\n",
        "        self.convpool3 = nn.MaxPool2d(2, 2)\n",
        "\n",
        "# FOURTH MAJOR BLOCK\n",
        "        # second convolutional block\n",
        "        self.convblock4a = nn.Sequential(\n",
        "            # nn.Conv2d(in_channels = 128,out_channels = 128, dilation  = 1,padding = 1,kernel_size= (3,3)), \n",
        "            nn.Conv2d(in_channels = 64,out_channels = 64, groups = 64, dilation  = 1,padding = 1,kernel_size= (3,3)),    # in 4, out 4, RF ?\n",
        "            nn.Conv2d(in_channels = 64,out_channels = 128, dilation  = 1,padding = 0,kernel_size= (1,1)),                  # in 4, out 4, RF ?\n",
        "            nn.ReLU(),\n",
        "            nn.BatchNorm2d(128)\n",
        "        )\n",
        "\n",
        "        self.convblock4a1 = nn.Sequential(\n",
        "            # nn.Conv2d(in_channels = 128,out_channels = 128, dilation  = 1,padding = 1,kernel_size= (3,3)), \n",
        "            nn.Conv2d(in_channels = 128,out_channels = 128, groups = 128, dilation  = 1,padding = 1,kernel_size= (3,3)),    # in 4, out 4,, RF ?\n",
        "            nn.Conv2d(in_channels = 128,out_channels = 192, dilation  = 1,padding = 0,kernel_size= (1,1)),                  # in 4, out 4, RF ?\n",
        "            nn.ReLU(),\n",
        "            nn.BatchNorm2d(192)\n",
        "        )\n",
        "\n",
        "        self.dropout4  = nn.Sequential(nn.Dropout(0.05))\n",
        "\n",
        "        self.convblock4b = nn.Sequential(\n",
        "            # nn.Conv2d(in_channels = 128,out_channels = 128, dilation  = 1,padding = 1,kernel_size= (3,3)), \n",
        "            nn.Conv2d(in_channels = 192,out_channels = 192, groups = 192, dilation  = 1,padding = 1,kernel_size= (3,3)),    # in 4, out 4,, RF ?\n",
        "            nn.Conv2d(in_channels = 192,out_channels = 260, dilation  = 1,padding = 0,kernel_size= (1,1)),                  # in 4, out 4, RF ?\n",
        "            nn.ReLU(),\n",
        "            nn.BatchNorm2d(260)\n",
        "        )\n",
        "\n",
        "        # self.convblock4b = nn.Sequential(\n",
        "        #     # nn.Conv2d(in_channels = 128,out_channels = 128, dilation  = 1,padding = 1,kernel_size= (3,3)), \n",
        "        #     nn.Conv2d(in_channels = 128,out_channels = 128, groups = 128, dilation  = 1,padding = 1,kernel_size= (3,3)),    # in 4, out 4,, RF ?\n",
        "        #     nn.Conv2d(in_channels = 128,out_channels = 256, dilation  = 1,padding = 0,kernel_size= (1,1)),                  # in 4, out 4, RF ?\n",
        "        #     nn.ReLU(),\n",
        "        #     nn.BatchNorm2d(256)\n",
        "        # )\n",
        "\n",
        "# GAP LAYER\n",
        "        self.gap = nn.AvgPool2d(4)                                                                                          # in 3, out 1, RF ?\n",
        "        self.convblockf = nn.Sequential(\n",
        "            nn.Conv2d(in_channels=260, out_channels=10, kernel_size=(1, 1), padding=0, bias=False),\n",
        "        ) \n",
        "\n",
        "\n",
        "    def forward(self, x):\n",
        "        x = self.convblock1a(x)\n",
        "        x1 = self.convblock1b(x)\n",
        "        x = torch.add(x,x1)\n",
        "        x = self.dropout1(x)\n",
        "        x = self.convpool1(x)\n",
        "\n",
        "\n",
        "        x = self.convblock2a(x)\n",
        "        x1 = self.convblock2b(x)\n",
        "        x = torch.add(x,x1)\n",
        "        x = self.dropout2(x)\n",
        "        x = self.convpool2(x1)\n",
        "\n",
        "        x = self.convblock3a(x)\n",
        "        x1 = self.convblock3b(x)        \n",
        "        x = torch.add(x,x1)\n",
        "        x = self.dropout3(x)\n",
        "        x = self.convpool3(x1)\n",
        "\n",
        "        x = self.convblock4a(x)\n",
        "        x = self.convblock4a1(x)\n",
        "        x = self.dropout4(x)\n",
        "        x = self.convblock4b(x)\n",
        "        \n",
        "        \n",
        "        x = self.gap(x)\n",
        "        x = self.convblockf(x)\n",
        "        x = x.view(-1, 10)\n",
        "        return F.log_softmax(x, dim=-1)\n",
        "model = CifarNet11()\n"
      ],
      "metadata": {
        "id": "iBtFTyS58D2T"
      },
      "execution_count": null,
      "outputs": []
    },
    {
      "cell_type": "code",
      "source": [
        "class CifarNet11a(nn.Module):\n",
        "    def __init__(self):\n",
        "        super(CifarNet11a, self).__init__()\n",
        "\n",
        "# FIRST MAJOR BLOCK\n",
        "        # first convolutional block\n",
        "        self.convblock1a = nn.Sequential(\n",
        "            nn.Conv2d(in_channels = 3,out_channels = 16, dilation  = 1,padding = 1, kernel_size= (3,3)),                     # in 32, out 32, RF 3\n",
        "            nn.ReLU(),\n",
        "            nn.BatchNorm2d(16)\n",
        "        )\n",
        "\n",
        "        self.convblock1b = nn.Sequential(\n",
        "            nn.Conv2d(in_channels = 16,out_channels = 16, dilation  = 1,padding = 1, kernel_size= (3,3)),                     # in 32, out 32, RF 3\n",
        "            nn.ReLU(),\n",
        "            nn.BatchNorm2d(16)\n",
        "        )\n",
        "        self.dropout1  = nn.Sequential(nn.Dropout(0.06))\n",
        "\n",
        "        # Using stride 2 without dilation instead of maxpooling\n",
        "        self.convpool1 = nn.MaxPool2d(2, 2)\n",
        "\n",
        "\n",
        "# SECOND MAJOR BLOCK\n",
        "          # first convolutional block\n",
        "        self.convblock2a = nn.Sequential(\n",
        "            nn.Conv2d(in_channels = 16,out_channels = 32, dilation  = 1,padding = 1,kernel_size= (3,3)),                    # in 16, out 16, RF ? \n",
        "            nn.ReLU(),\n",
        "            nn.BatchNorm2d(32)\n",
        "        ) # will the learning will be better in depth wise or in normal 3x3 convolutions?\n",
        "\n",
        "        self.convblock2b = nn.Sequential(\n",
        "            nn.Conv2d(in_channels = 32,out_channels = 32, dilation  = 1,padding = 1, kernel_size= (3,3)),                     # in 16, out 16, RF 3\n",
        "            nn.ReLU(),\n",
        "            nn.BatchNorm2d(32)\n",
        "        )\n",
        "        self.dropout2  = nn.Sequential(nn.Dropout(0.07))\n",
        "\n",
        "        # Using stride 2 without dilation to simulate max pooling\n",
        "        self.convpool2 = nn.MaxPool2d(2, 2)\n",
        "\n",
        "# THIRD MAJOR BLOCK\n",
        "         # first convolutional block\n",
        "        self.convblock3a = nn.Sequential(\n",
        "            nn.Conv2d(in_channels = 32,out_channels = 64, dilation  = 1,padding = 1,kernel_size= (3,3)), \n",
        "            nn.ReLU(),\n",
        "            nn.BatchNorm2d(64)\n",
        "        )\n",
        "\n",
        "        self.convblock3b = nn.Sequential(\n",
        "            nn.Conv2d(in_channels = 64,out_channels = 64, dilation  = 2,padding = 2, kernel_size= (3,3)),                     # in 8, out 8, RF 3\n",
        "            nn.ReLU(),\n",
        "            nn.BatchNorm2d(64)\n",
        "        )\n",
        "        self.dropout3  = nn.Sequential(nn.Dropout(0.07))\n",
        "        # using dilation to simulate maxpooling\n",
        "        self.convpool3 = nn.MaxPool2d(2, 2)\n",
        "\n",
        "# FOURTH MAJOR BLOCK\n",
        "        # second convolutional block\n",
        "        self.convblock4a = nn.Sequential(\n",
        "            nn.Conv2d(in_channels = 64,out_channels = 120, dilation  = 1,padding = 1,kernel_size= (3,3)), \n",
        "            nn.ReLU(),\n",
        "            nn.BatchNorm2d(120)\n",
        "        )\n",
        "# GAP LAYER\n",
        "        self.gap = nn.AvgPool2d(4)                                                                                          # in 3, out 1, RF ?\n",
        "        self.convblockf = nn.Sequential(\n",
        "            nn.Conv2d(in_channels=120, out_channels=10, kernel_size=(1, 1), padding=0, bias=False),\n",
        "        ) \n",
        "\n",
        "    def forward(self, x):\n",
        "        x = self.convblock1a(x)\n",
        "        x1 = self.convblock1b(x)\n",
        "        x = torch.add(x,x1)\n",
        "        x = self.dropout1(x)\n",
        "        x = self.convpool1(x)\n",
        "\n",
        "\n",
        "        x = self.convblock2a(x)\n",
        "        x1 = self.convblock2b(x)\n",
        "        x = torch.add(x,x1)\n",
        "        x = self.dropout2(x)\n",
        "        x = self.convpool2(x1)\n",
        "\n",
        "        x = self.convblock3a(x)\n",
        "        x1 = self.convblock3b(x)        \n",
        "        x = torch.add(x,x1)\n",
        "        x = self.dropout3(x)\n",
        "        x = self.convpool3(x1)\n",
        "\n",
        "        x = self.convblock4a(x)\n",
        "        x = self.gap(x)\n",
        "        x = self.convblockf(x)\n",
        "        x = x.view(-1, 10)\n",
        "        return F.log_softmax(x, dim=-1)\n",
        "model = CifarNet11a()"
      ],
      "metadata": {
        "id": "KT7pyqqGDyxi"
      },
      "execution_count": null,
      "outputs": []
    },
    {
      "cell_type": "markdown",
      "metadata": {
        "id": "UHX2b1nNckag"
      },
      "source": [
        "#### INFERENCE TIME EVALUATION"
      ]
    },
    {
      "cell_type": "code",
      "metadata": {
        "id": "mSditzEtXTcD",
        "colab": {
          "base_uri": "https://localhost:8080/"
        },
        "outputId": "46b08a3d-88cc-4460-9f85-801c60800418"
      },
      "source": [
        "path = './quantization/pytorch_model/normal_pytorch.pth'\n",
        "model = Net()\n",
        "model.load_state_dict(torch.load(path,map_location=torch.device('cpu')))  # Choose whatever GPU device number you want\n",
        "test1(model)"
      ],
      "execution_count": null,
      "outputs": [
        {
          "output_type": "stream",
          "name": "stderr",
          "text": [
            "/usr/local/lib/python3.7/dist-packages/torch/utils/data/dataloader.py:481: UserWarning: This DataLoader will create 4 worker processes in total. Our suggested max number of worker in current system is 2, which is smaller than what this DataLoader is going to create. Please be aware that excessive worker creation might get DataLoader running slow or even freeze, lower the worker number to avoid potential slowness/freeze if necessary.\n",
            "  cpuset_checked))\n"
          ]
        },
        {
          "output_type": "stream",
          "name": "stdout",
          "text": [
            "\n",
            "Test set: Average loss: 0.0197, Accuracy: 9934/10000 (99.34%)\n",
            "\n",
            "time taken is 2.6732869148254395\n"
          ]
        }
      ]
    },
    {
      "cell_type": "code",
      "metadata": {
        "colab": {
          "base_uri": "https://localhost:8080/",
          "height": 461
        },
        "id": "4Umwrax2wDtB",
        "outputId": "409cbce8-104b-402b-ec77-4bb9f05846e8"
      },
      "source": [
        "path = './quantization/pytorch_model/mosaic_7k_dw.pth'\n",
        "model1 = Net1()\n",
        "model1.load_state_dict(torch.load(path, map_location=torch.device('cpu')))  # Choose whatever GPU device number you want\n",
        "test1(model1)"
      ],
      "execution_count": null,
      "outputs": [
        {
          "output_type": "error",
          "ename": "RuntimeError",
          "evalue": "ignored",
          "traceback": [
            "\u001b[0;31m---------------------------------------------------------------------------\u001b[0m",
            "\u001b[0;31mRuntimeError\u001b[0m                              Traceback (most recent call last)",
            "\u001b[0;32m<ipython-input-18-03d24a1a1a94>\u001b[0m in \u001b[0;36m<module>\u001b[0;34m()\u001b[0m\n\u001b[1;32m      1\u001b[0m \u001b[0mpath\u001b[0m \u001b[0;34m=\u001b[0m \u001b[0;34m'./quantization/pytorch_model/mosaic_7k_dw.pth'\u001b[0m\u001b[0;34m\u001b[0m\u001b[0;34m\u001b[0m\u001b[0m\n\u001b[1;32m      2\u001b[0m \u001b[0mmodel1\u001b[0m \u001b[0;34m=\u001b[0m \u001b[0mNet1\u001b[0m\u001b[0;34m(\u001b[0m\u001b[0;34m)\u001b[0m\u001b[0;34m\u001b[0m\u001b[0;34m\u001b[0m\u001b[0m\n\u001b[0;32m----> 3\u001b[0;31m \u001b[0mmodel1\u001b[0m\u001b[0;34m.\u001b[0m\u001b[0mload_state_dict\u001b[0m\u001b[0;34m(\u001b[0m\u001b[0mtorch\u001b[0m\u001b[0;34m.\u001b[0m\u001b[0mload\u001b[0m\u001b[0;34m(\u001b[0m\u001b[0mpath\u001b[0m\u001b[0;34m,\u001b[0m \u001b[0mmap_location\u001b[0m\u001b[0;34m=\u001b[0m\u001b[0mtorch\u001b[0m\u001b[0;34m.\u001b[0m\u001b[0mdevice\u001b[0m\u001b[0;34m(\u001b[0m\u001b[0;34m'cpu'\u001b[0m\u001b[0;34m)\u001b[0m\u001b[0;34m)\u001b[0m\u001b[0;34m)\u001b[0m  \u001b[0;31m# Choose whatever GPU device number you want\u001b[0m\u001b[0;34m\u001b[0m\u001b[0;34m\u001b[0m\u001b[0m\n\u001b[0m\u001b[1;32m      4\u001b[0m \u001b[0mtest1\u001b[0m\u001b[0;34m(\u001b[0m\u001b[0mmodel1\u001b[0m\u001b[0;34m)\u001b[0m\u001b[0;34m\u001b[0m\u001b[0;34m\u001b[0m\u001b[0m\n",
            "\u001b[0;32m/usr/local/lib/python3.7/dist-packages/torch/nn/modules/module.py\u001b[0m in \u001b[0;36mload_state_dict\u001b[0;34m(self, state_dict, strict)\u001b[0m\n\u001b[1;32m   1481\u001b[0m         \u001b[0;32mif\u001b[0m \u001b[0mlen\u001b[0m\u001b[0;34m(\u001b[0m\u001b[0merror_msgs\u001b[0m\u001b[0;34m)\u001b[0m \u001b[0;34m>\u001b[0m \u001b[0;36m0\u001b[0m\u001b[0;34m:\u001b[0m\u001b[0;34m\u001b[0m\u001b[0;34m\u001b[0m\u001b[0m\n\u001b[1;32m   1482\u001b[0m             raise RuntimeError('Error(s) in loading state_dict for {}:\\n\\t{}'.format(\n\u001b[0;32m-> 1483\u001b[0;31m                                self.__class__.__name__, \"\\n\\t\".join(error_msgs)))\n\u001b[0m\u001b[1;32m   1484\u001b[0m         \u001b[0;32mreturn\u001b[0m \u001b[0m_IncompatibleKeys\u001b[0m\u001b[0;34m(\u001b[0m\u001b[0mmissing_keys\u001b[0m\u001b[0;34m,\u001b[0m \u001b[0munexpected_keys\u001b[0m\u001b[0;34m)\u001b[0m\u001b[0;34m\u001b[0m\u001b[0;34m\u001b[0m\u001b[0m\n\u001b[1;32m   1485\u001b[0m \u001b[0;34m\u001b[0m\u001b[0m\n",
            "\u001b[0;31mRuntimeError\u001b[0m: Error(s) in loading state_dict for Net1:\n\tsize mismatch for convblock4.0.weight: copying a param with shape torch.Size([14, 10, 3, 3]) from checkpoint, the shape in current model is torch.Size([13, 10, 3, 3]).\n\tsize mismatch for convblock4.2.weight: copying a param with shape torch.Size([14]) from checkpoint, the shape in current model is torch.Size([13]).\n\tsize mismatch for convblock4.2.bias: copying a param with shape torch.Size([14]) from checkpoint, the shape in current model is torch.Size([13]).\n\tsize mismatch for convblock4.2.running_mean: copying a param with shape torch.Size([14]) from checkpoint, the shape in current model is torch.Size([13]).\n\tsize mismatch for convblock4.2.running_var: copying a param with shape torch.Size([14]) from checkpoint, the shape in current model is torch.Size([13]).\n\tsize mismatch for convblock5.0.weight: copying a param with shape torch.Size([16, 14, 3, 3]) from checkpoint, the shape in current model is torch.Size([16, 13, 3, 3])."
          ]
        }
      ]
    },
    {
      "cell_type": "code",
      "metadata": {
        "id": "e9sChEdoRLs8",
        "colab": {
          "base_uri": "https://localhost:8080/"
        },
        "outputId": "9fe4499e-03bb-47a8-88b1-4eb68090809f"
      },
      "source": [
        "path = './quantization/pytorch_model/mosaic_7k_dw_new.pth'\n",
        "model2 = Net1()\n",
        "model2.load_state_dict(torch.load(path,map_location=torch.device('cpu')))  # Choose whatever GPU device number you want\n",
        "test1(model2)"
      ],
      "execution_count": null,
      "outputs": [
        {
          "output_type": "stream",
          "name": "stderr",
          "text": [
            "/usr/local/lib/python3.7/dist-packages/torch/utils/data/dataloader.py:481: UserWarning: This DataLoader will create 4 worker processes in total. Our suggested max number of worker in current system is 2, which is smaller than what this DataLoader is going to create. Please be aware that excessive worker creation might get DataLoader running slow or even freeze, lower the worker number to avoid potential slowness/freeze if necessary.\n",
            "  cpuset_checked))\n"
          ]
        },
        {
          "output_type": "stream",
          "name": "stdout",
          "text": [
            "\n",
            "Test set: Average loss: 0.0228, Accuracy: 9933/10000 (99.33%)\n",
            "\n",
            "time taken is 3.3572731018066406\n"
          ]
        }
      ]
    },
    {
      "cell_type": "code",
      "metadata": {
        "colab": {
          "base_uri": "https://localhost:8080/"
        },
        "id": "axo7d1OUfUdy",
        "outputId": "56da6472-323e-4eac-fc95-cbcfbdcc3a37"
      },
      "source": [
        "path = './quantization/pytorch_model/smallest_pytorch.pth'\n",
        "smodel = SNet()\n",
        "smodel.load_state_dict(torch.load(path,map_location=torch.device('cpu')))  # Choose whatever GPU device number you want\n",
        "test1(smodel)\n"
      ],
      "execution_count": null,
      "outputs": [
        {
          "output_type": "stream",
          "name": "stderr",
          "text": [
            "/usr/local/lib/python3.7/dist-packages/torch/utils/data/dataloader.py:481: UserWarning: This DataLoader will create 4 worker processes in total. Our suggested max number of worker in current system is 2, which is smaller than what this DataLoader is going to create. Please be aware that excessive worker creation might get DataLoader running slow or even freeze, lower the worker number to avoid potential slowness/freeze if necessary.\n",
            "  cpuset_checked))\n"
          ]
        },
        {
          "output_type": "stream",
          "name": "stdout",
          "text": [
            "\n",
            "Test set: Average loss: 0.0484, Accuracy: 9835/10000 (98.35%)\n",
            "\n",
            "time taken is 2.521306037902832\n"
          ]
        }
      ]
    },
    {
      "cell_type": "code",
      "metadata": {
        "colab": {
          "base_uri": "https://localhost:8080/"
        },
        "id": "yA9Y4HukQ-B0",
        "outputId": "65210b61-5ac5-481e-cf39-745c849ec596"
      },
      "source": [
        "path = './quantization/pytorch_model/small_pytorch.pth'\n",
        "cmodel = CNet()\n",
        "cmodel.load_state_dict(torch.load(path,map_location=torch.device('cpu')))  # Choose whatever GPU device number you want\n",
        "test1(cmodel)"
      ],
      "execution_count": null,
      "outputs": [
        {
          "output_type": "stream",
          "name": "stderr",
          "text": [
            "/usr/local/lib/python3.7/dist-packages/torch/utils/data/dataloader.py:481: UserWarning: This DataLoader will create 4 worker processes in total. Our suggested max number of worker in current system is 2, which is smaller than what this DataLoader is going to create. Please be aware that excessive worker creation might get DataLoader running slow or even freeze, lower the worker number to avoid potential slowness/freeze if necessary.\n",
            "  cpuset_checked))\n"
          ]
        },
        {
          "output_type": "stream",
          "name": "stdout",
          "text": [
            "\n",
            "Test set: Average loss: 0.0224, Accuracy: 9927/10000 (99.27%)\n",
            "\n",
            "time taken is 2.762350559234619\n"
          ]
        }
      ]
    },
    {
      "cell_type": "code",
      "metadata": {
        "colab": {
          "base_uri": "https://localhost:8080/"
        },
        "id": "wF6rk7ymuTYZ",
        "outputId": "17e9fa01-6dd4-4454-d41a-3dd831144ffd"
      },
      "source": [
        "path = './quantization/pytorch_model/mosaic_5K_dw_new.pth'\n",
        "cmodel = CNet1()\n",
        "cmodel.load_state_dict(torch.load(path,map_location=torch.device('cpu')))  # Choose whatever GPU device number you want\n",
        "test1(cmodel)"
      ],
      "execution_count": null,
      "outputs": [
        {
          "output_type": "stream",
          "name": "stderr",
          "text": [
            "/usr/local/lib/python3.7/dist-packages/torch/utils/data/dataloader.py:481: UserWarning: This DataLoader will create 4 worker processes in total. Our suggested max number of worker in current system is 2, which is smaller than what this DataLoader is going to create. Please be aware that excessive worker creation might get DataLoader running slow or even freeze, lower the worker number to avoid potential slowness/freeze if necessary.\n",
            "  cpuset_checked))\n"
          ]
        },
        {
          "output_type": "stream",
          "name": "stdout",
          "text": [
            "\n",
            "Test set: Average loss: 0.0224, Accuracy: 9930/10000 (99.30%)\n",
            "\n",
            "time taken is 2.747142791748047\n"
          ]
        }
      ]
    },
    {
      "cell_type": "code",
      "metadata": {
        "colab": {
          "base_uri": "https://localhost:8080/"
        },
        "id": "TL71RRyNDn9A",
        "outputId": "debe4e8b-e4cd-4c64-89b0-057beadf9d89"
      },
      "source": [
        "path = './quantization/pytorch_model/basenet25k.pth'\n",
        "cmodel = BaseNet()\n",
        "cmodel.load_state_dict(torch.load(path,map_location=torch.device('cpu')))  # Choose whatever GPU device number you want\n",
        "test1(cmodel)"
      ],
      "execution_count": null,
      "outputs": [
        {
          "output_type": "stream",
          "name": "stderr",
          "text": [
            "/usr/local/lib/python3.7/dist-packages/torch/utils/data/dataloader.py:481: UserWarning: This DataLoader will create 4 worker processes in total. Our suggested max number of worker in current system is 2, which is smaller than what this DataLoader is going to create. Please be aware that excessive worker creation might get DataLoader running slow or even freeze, lower the worker number to avoid potential slowness/freeze if necessary.\n",
            "  cpuset_checked))\n"
          ]
        },
        {
          "output_type": "stream",
          "name": "stdout",
          "text": [
            "\n",
            "Test set: Average loss: 0.0213, Accuracy: 9935/10000 (99.35%)\n",
            "\n",
            "time taken is 3.368082046508789\n"
          ]
        }
      ]
    },
    {
      "cell_type": "code",
      "metadata": {
        "id": "feDEe-J-JeI_",
        "colab": {
          "base_uri": "https://localhost:8080/"
        },
        "outputId": "693a6891-c8cc-4849-ef82-98f572e0cd10"
      },
      "source": [
        "path = './mos_ml_cif_100/normal_pytorch_dw.pth'\n",
        "# cmodel = BaseNet()\n",
        "model.load_state_dict(torch.load(path,map_location=torch.device('cpu')))  # Choose whatever GPU device number you want\n",
        "test1(model)\n"
      ],
      "execution_count": null,
      "outputs": [
        {
          "output_type": "stream",
          "name": "stderr",
          "text": [
            "/usr/local/lib/python3.7/dist-packages/torch/utils/data/dataloader.py:481: UserWarning: This DataLoader will create 4 worker processes in total. Our suggested max number of worker in current system is 2, which is smaller than what this DataLoader is going to create. Please be aware that excessive worker creation might get DataLoader running slow or even freeze, lower the worker number to avoid potential slowness/freeze if necessary.\n",
            "  cpuset_checked))\n"
          ]
        },
        {
          "output_type": "stream",
          "name": "stdout",
          "text": [
            "\n",
            "Test set: Average loss: 0.6639, Accuracy: 7990/10000 (79.90%)\n",
            "\n",
            "time taken is 8.8280930519104\n"
          ]
        }
      ]
    },
    {
      "cell_type": "code",
      "source": [
        "path = './mos_ml_cif_100/normal_pytorch_wdw.pth'\n",
        "model.load_state_dict(torch.load(path,map_location=torch.device('cpu')))  # Choose whatever GPU device number you want\n",
        "test1(model)"
      ],
      "metadata": {
        "colab": {
          "base_uri": "https://localhost:8080/"
        },
        "id": "WUHMzRaZ8sV5",
        "outputId": "2a53dfdb-a387-435e-d2ed-b0f99b3c3fe8"
      },
      "execution_count": null,
      "outputs": [
        {
          "output_type": "stream",
          "name": "stderr",
          "text": [
            "/usr/local/lib/python3.7/dist-packages/torch/utils/data/dataloader.py:481: UserWarning: This DataLoader will create 4 worker processes in total. Our suggested max number of worker in current system is 2, which is smaller than what this DataLoader is going to create. Please be aware that excessive worker creation might get DataLoader running slow or even freeze, lower the worker number to avoid potential slowness/freeze if necessary.\n",
            "  cpuset_checked))\n"
          ]
        },
        {
          "output_type": "stream",
          "name": "stdout",
          "text": [
            "\n",
            "Test set: Average loss: 0.6477, Accuracy: 8157/10000 (81.57%)\n",
            "\n",
            "time taken is 8.517145156860352\n"
          ]
        }
      ]
    },
    {
      "cell_type": "code",
      "source": [
        ""
      ],
      "metadata": {
        "id": "Vc8d4s0Y88Yy"
      },
      "execution_count": null,
      "outputs": []
    }
  ]
}